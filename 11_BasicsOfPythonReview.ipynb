{
 "cells": [
  {
   "cell_type": "markdown",
   "metadata": {},
   "source": [
    "# <font color='red'>Basics of Python Programming</font>"
   ]
  },
  {
   "cell_type": "markdown",
   "metadata": {},
   "source": [
    "<div class=\"alert alert-block alert-warning\">"
   ]
  },
  {
   "cell_type": "markdown",
   "metadata": {},
   "source": [
    "### Compiled by :\n",
    "                   Alem H Fitwi, \n",
    "                   PhD Student(Privacy, Deep Learning, Networking, IoD, Surveillance Systems),\n",
    "                   GA-Data Analyst,\n",
    "                   Binghamton University-State University of New York\n",
    "                   December, 2017 "
   ]
  },
  {
   "cell_type": "markdown",
   "metadata": {},
   "source": [
    "<div class=\"alert alert-block alert-warning\">"
   ]
  },
  {
   "cell_type": "markdown",
   "metadata": {},
   "source": [
    "# <font color='green'>0. Overview</font>"
   ]
  },
  {
   "cell_type": "markdown",
   "metadata": {},
   "source": [
    "<font color='blue'>Python2 vs Python3 (Guido Van Rossum)</font>"
   ]
  },
  {
   "cell_type": "markdown",
   "metadata": {},
   "source": [
    "Many companies still have legacy python2 code to be maintained\n",
    "\n",
    "Python2 is scheduled not to receive security updates after 2020 (update stops by 2020)\n",
    "\n",
    "There are more than 300 external python packages \n",
    "\n",
    "Now every major external python package has been updated to support py3 (99% of all packages)\n",
    "\n",
    "<b>Examples:</b> Some of the more 300 packages\n",
    "<ul>\n",
    "    <li>Data visualization using matplotlib.pyplot or ggplot2</li>\n",
    "    <li>GUI (wx Python, pyGame, ...)</li>\n",
    "    <li>probablistic programming (pyMC, Edward, ...)</li>\n",
    "    <li>Data Manipulation using pandas</li>\n",
    "    <li>Machine learning using scikit-learn</li>\n",
    "    <li>Numerical packages like Numpy, Scipy, networkx, pulp, cvxplot, ...</li>\n",
    "    <li>Deep learning frameworks (tf, keras, theona, pyTorch, ...)</li>\n",
    "    <li>Natural Language Processing (NLP)</li>\n",
    "</ul>\n",
    "py3 is the future of python"
   ]
  },
  {
   "cell_type": "markdown",
   "metadata": {},
   "source": [
    "<div class=\"alert alert-block alert-warning\">"
   ]
  },
  {
   "cell_type": "markdown",
   "metadata": {},
   "source": [
    "# <font color='green'>1. Python Setup</font>"
   ]
  },
  {
   "cell_type": "markdown",
   "metadata": {},
   "source": [
    "<font color='blue'>Common cmds</font>\n",
    " \n",
    "windows:\n",
    "\n",
    "    cd: change directory\n",
    "    dir: list directories\n",
    "    cd ..: towards root\n",
    "    cls: clear screen\n",
    "\n",
    " Linux/Mac:\n",
    " \n",
    "    alt+ctrl+T: cmd prompt\n",
    "    pwd: working directory\n",
    "    ls: list\n",
    "    ls -a: including hidden files\n",
    "    clear: clear screen\n",
    "    cd or cd .."
   ]
  },
  {
   "cell_type": "markdown",
   "metadata": {},
   "source": [
    "<font color='blue'>Pros of python</font>\n",
    "<ul>\n",
    "    <li>Can be learnt very quickly, human like language</li>\n",
    "    <li>Involves less code typically</li>\n",
    "    <li>Syntax is easier to read</li>\n",
    "    <li>Utilized by every major technologies</li>\n",
    "    <li>Huge amount of additional open-source libraries</li>    \n",
    "</ul>"
   ]
  },
  {
   "cell_type": "markdown",
   "metadata": {},
   "source": [
    "<font color='blue'>Installation</font>\n",
    "<ul>\n",
    "    <li>Download anacond3 ditribution from www.anaconda.com/downloads</li>\n",
    "    <li>Anaconda3: py3, jupyter, spyder, and many preconfigured libraries</li>\n",
    "    <li>Anconda is easily installed onto win, linux, mac, etc...!</li>\n",
    "    <li>Read the respective instructions on the site about how to install anaconda</li>\n",
    "    <li>On win --> anconda navigator [spyder, jupyter, jupyter lab, R, ...] </li>  \n",
    "</ul>\n",
    "Installing Anaconda (Python)\n",
    "<ul>\n",
    "    <li>https://www.anaconda.com/distribution/ </li> \n",
    "    <li>cd to location of the Anaconda3 </li> \n",
    "    <li>sha256sum Anaconda3-2019.03-Linux-x86_64.sh </li> \n",
    "    <li>bash Anaconda3-2019.03-Linux-x86_64.sh </li>     \n",
    "</ul>\n",
    "Installing Tensorflow, keras, theano\n",
    "<ul> \n",
    "    <li>pip install tensorflow </li> \n",
    "    <li>python3 -c 'import tensorflow as tf; print(tf.__version__)'  # for Python 3 </li> \n",
    "    <li>pip install keras </li> \n",
    "    <li>pipinstall theano </li>    \n",
    "</ul>\n",
    "Installing Opencv\n",
    "<ul> \n",
    "    <li>pip install opencv-python </li>     \n",
    "</ul>\n",
    "Scapy\n",
    "<ul> \n",
    "    <li>pip install scapy </li>     \n",
    "</ul>\n",
    "Check System status in Ubuntu OS    \n",
    "<ul> \n",
    "    <li>lscpu </li> \n",
    "    <li>free -m </li> \n",
    "    <li>cat /proc/meminfo </li> \n",
    "    <li>vmstat -s </li> \n",
    "    <li>top </li> \n",
    "    <li>htop </li> \n",
    "</ul>"
   ]
  },
  {
   "cell_type": "markdown",
   "metadata": {},
   "source": [
    "<font color='blue'>Hot keys</font>\n",
    "<ul>\n",
    "    <li>To run a cell on jupyter: shift+ctrl</li>\n",
    "    <li> To change to Markdown mode: esc + m</li>\n",
    "    <li>Click help on jupyter for more hot keys</li>      \n",
    "</ul>"
   ]
  },
  {
   "cell_type": "markdown",
   "metadata": {},
   "source": [
    "<font color='blue'>Markdown</font>\n",
    "<ul>\n",
    "    <li>For text writing</li>\n",
    "    <li>Coloring is possible. As many colors as depicted in the figure below</li>\n",
    "    <li>Formula: <font color='green'>Put text here [</f c=''>text</f>]</font> </li>\n",
    "    <li>Use # for heading: #> Biggest, ##>Bigger, ###>Big, ...</li>\n",
    "    <li><font color='red'>.ipyb file can be opened only on jupyter, no where else</font> </li>    \n",
    "</ul>"
   ]
  },
  {
   "cell_type": "markdown",
   "metadata": {},
   "source": [
    "<div class=\"alert alert-block alert-warning\">"
   ]
  },
  {
   "cell_type": "markdown",
   "metadata": {},
   "source": [
    "# <font color='green'>2. What is new in Python3</font>"
   ]
  },
  {
   "cell_type": "code",
   "execution_count": 1,
   "metadata": {},
   "outputs": [],
   "source": [
    "# Use the following to include modules of python 3 in python2\n",
    "from __future__ import division"
   ]
  },
  {
   "cell_type": "code",
   "execution_count": 2,
   "metadata": {},
   "outputs": [
    {
     "name": "stdout",
     "output_type": "stream",
     "text": [
      "2\n"
     ]
    }
   ],
   "source": [
    "# print x of p2 is changed to print(x)\n",
    "print(2)"
   ]
  },
  {
   "cell_type": "code",
   "execution_count": 3,
   "metadata": {},
   "outputs": [
    {
     "name": "stdout",
     "output_type": "stream",
     "text": [
      "1\n",
      "2\n",
      "3\n",
      "1,2,3,4,5\n"
     ]
    }
   ],
   "source": [
    "# Reading input from keyboard: raw_input() --> input() \n",
    "str1=input()\n",
    "int1=int(input())\n",
    "float1=float(input())\n",
    "commaSep=[x for x in input().split(',')]"
   ]
  },
  {
   "cell_type": "code",
   "execution_count": 4,
   "metadata": {},
   "outputs": [
    {
     "data": {
      "text/plain": [
       "1.5"
      ]
     },
     "execution_count": 4,
     "metadata": {},
     "output_type": "execute_result"
    }
   ],
   "source": [
    "# Integer division\n",
    "#p2 3/2=1 --> casting is needed to obtain float result\n",
    "#p3\n",
    "3/2"
   ]
  },
  {
   "cell_type": "code",
   "execution_count": 5,
   "metadata": {},
   "outputs": [],
   "source": [
    "# unicode: \n",
    "#p2 requires us to add u to store  astring in unicode\n",
    "#p3 stores  a sting in unicode"
   ]
  },
  {
   "cell_type": "code",
   "execution_count": 6,
   "metadata": {},
   "outputs": [
    {
     "data": {
      "text/plain": [
       "range(0, 6)"
      ]
     },
     "execution_count": 6,
     "metadata": {},
     "output_type": "execute_result"
    }
   ],
   "source": [
    "# xrange and range\n",
    "# xrange is a python2 generator like, it saves memory\n",
    "# range generates all the list; not good for memory\n",
    "# xrange is changed to range in p3\n",
    "range(6) # it can be sliced starting p3.2"
   ]
  },
  {
   "cell_type": "code",
   "execution_count": 7,
   "metadata": {},
   "outputs": [],
   "source": [
    "# Error\n",
    "#raise IOError, \"file error\" #This is accepted in Python 2\n",
    "#raise IOError(\"file error\") #This is also accepted in Python 2\n",
    "#raise IOError, \"file error\" #syntax error is raised in Python 3\n",
    "#raise IOError(\"file error\") #this is the recommended syntax in Python 3"
   ]
  },
  {
   "cell_type": "code",
   "execution_count": 8,
   "metadata": {},
   "outputs": [],
   "source": [
    "#Error argument\n",
    "#except Myerror, err: # In Python2\n",
    "#except Myerror as err: #In Python 3"
   ]
  },
  {
   "cell_type": "code",
   "execution_count": 9,
   "metadata": {},
   "outputs": [
    {
     "data": {
      "text/plain": [
       "'H'"
      ]
     },
     "execution_count": 9,
     "metadata": {},
     "output_type": "execute_result"
    }
   ],
   "source": [
    "# next()\n",
    "gen = (letter for letter in 'Hello World') # creates generator object\n",
    "next(gen) #allowed in Python 2 and Python 3\n",
    "#my_generator.next() #allowed in Python 2. raises AttributeError in Python 3"
   ]
  },
  {
   "cell_type": "code",
   "execution_count": 10,
   "metadata": {},
   "outputs": [
    {
     "ename": "SyntaxError",
     "evalue": "Missing parentheses in call to 'print'. Did you mean print(a)? (<ipython-input-10-f641d2dac087>, line 4)",
     "output_type": "error",
     "traceback": [
      "\u001b[0;36m  File \u001b[0;32m\"<ipython-input-10-f641d2dac087>\"\u001b[0;36m, line \u001b[0;32m4\u001b[0m\n\u001b[0;31m    print a\u001b[0m\n\u001b[0m          ^\u001b[0m\n\u001b[0;31mSyntaxError\u001b[0m\u001b[0;31m:\u001b[0m Missing parentheses in call to 'print'. Did you mean print(a)?\n"
     ]
    }
   ],
   "source": [
    "#2to3 Utility: $2to3 -w area.py\n",
    "def area(x,y=3.14):\n",
    "    a=y*x*x\n",
    "    print a\n",
    "    return a"
   ]
  },
  {
   "cell_type": "markdown",
   "metadata": {},
   "source": [
    "<div class=\"alert alert-block alert-warning\">"
   ]
  },
  {
   "cell_type": "markdown",
   "metadata": {},
   "source": [
    "# <font color='green'>3. Python Basic Syntax</font>"
   ]
  },
  {
   "cell_type": "code",
   "execution_count": null,
   "metadata": {},
   "outputs": [],
   "source": [
    "# Interactive mode\n",
    "# on CLI, type python\n",
    "# or on IDLE, >>>\n",
    "print (\"Hello, Python!\")"
   ]
  },
  {
   "cell_type": "code",
   "execution_count": null,
   "metadata": {},
   "outputs": [],
   "source": [
    "# Scripting mode: write python script on text editor or on spyder, sublime text\n",
    "# or on notepad :  chmod u+x txt.py; python txt.py or $./test.py\n",
    "#!/usr/bin/python3\n",
    "print (\"Hello, Python!\")"
   ]
  },
  {
   "cell_type": "markdown",
   "metadata": {},
   "source": [
    "### Python Identifiers"
   ]
  },
  {
   "cell_type": "markdown",
   "metadata": {},
   "source": [
    "Here are naming conventions for Python identifiers-\n",
    "\n",
    "Python does not allow punctuation characters such as @, $, and % within identifiers.\n",
    "\n",
    "Python is a case sensitive programming language.\n",
    "\n",
    " An identifier starts with a letter A to Z or a to z or an underscore (_) followed by\n",
    "zero or more letters, underscores and digits (0 to 9).\n",
    "\n",
    " Class names start with an uppercase letter. All other identifiers start with a\n",
    "lowercase letter.\n",
    "\n",
    " Starting an identifier with a single leading underscore indicates that the identifier\n",
    "is private.\n",
    "\n",
    "Starting an identifier with two leading underscores indicates a strong private\n",
    "identifier.\n",
    "\n",
    " If the identifier also ends with two trailing underscores, the identifier is a language-\n",
    "defined special name."
   ]
  },
  {
   "cell_type": "markdown",
   "metadata": {},
   "source": [
    "### Keywords"
   ]
  },
  {
   "cell_type": "markdown",
   "metadata": {},
   "source": [
    "These are reserved words and you cannot use them as constants or variables or any other identifier names. \n",
    "All the Python keywords contain lowercase letters only."
   ]
  },
  {
   "cell_type": "code",
   "execution_count": 12,
   "metadata": {},
   "outputs": [
    {
     "name": "stdout",
     "output_type": "stream",
     "text": [
      "['False', 'None', 'True', 'and', 'as', 'assert', 'async', 'await', 'break', 'class', 'continue', 'def', 'del', 'elif', 'else', 'except', 'finally', 'for', 'from', 'global', 'if', 'import', 'in', 'is', 'lambda', 'nonlocal', 'not', 'or', 'pass', 'raise', 'return', 'try', 'while', 'with', 'yield'] \n",
      "\n",
      "In python 3.7.4, there are 35 keywords\n"
     ]
    }
   ],
   "source": [
    "from platform import python_version\n",
    "import keyword\n",
    "\n",
    "print(keyword.kwlist,\"\\n\")\n",
    "print(f\"In python {python_version()}, there are \\\n",
    "    {len(keyword.kwlist)} keywords\")"
   ]
  },
  {
   "cell_type": "markdown",
   "metadata": {},
   "source": [
    "### Lines and Indentation"
   ]
  },
  {
   "cell_type": "markdown",
   "metadata": {},
   "source": [
    "Python does not use braces({}) to indicate blocks of code for class and function definitions\n",
    "or flow control. Blocks of code are denoted by line indentation, which is rigidly enforced."
   ]
  },
  {
   "cell_type": "markdown",
   "metadata": {},
   "source": [
    "The number of spaces in the indentation is variable, but all statements within the block\n",
    "must be indented the same amount."
   ]
  },
  {
   "cell_type": "markdown",
   "metadata": {},
   "source": [
    "### Multi-Line Statements"
   ]
  },
  {
   "cell_type": "markdown",
   "metadata": {},
   "source": [
    "Statements in Python typically end with a new line. Python, however, allows the use of\n",
    "the line continuation character (\\) to denote that the line should continue."
   ]
  },
  {
   "cell_type": "code",
   "execution_count": 13,
   "metadata": {},
   "outputs": [
    {
     "data": {
      "text/plain": [
       "15"
      ]
     },
     "execution_count": 13,
     "metadata": {},
     "output_type": "execute_result"
    }
   ],
   "source": [
    "item_one=7;item_two=4;item_three=4\n",
    "total = item_one + \\\n",
    "item_two + \\\n",
    "item_three\n",
    "\n",
    "total "
   ]
  },
  {
   "cell_type": "markdown",
   "metadata": {},
   "source": [
    "### Quotation in Python"
   ]
  },
  {
   "cell_type": "code",
   "execution_count": 14,
   "metadata": {},
   "outputs": [],
   "source": [
    "word = 'word'\n",
    "sentence = \"This is a sentence.\"\n",
    "paragraph = \"\"\"This is a paragraph. It is\n",
    "made up of multiple lines and sentences.\"\"\""
   ]
  },
  {
   "cell_type": "markdown",
   "metadata": {},
   "source": [
    "### Comments in Python"
   ]
  },
  {
   "cell_type": "code",
   "execution_count": 15,
   "metadata": {},
   "outputs": [],
   "source": [
    "# Python comments"
   ]
  },
  {
   "cell_type": "markdown",
   "metadata": {},
   "source": [
    "### Multiple Statements on a Single Line"
   ]
  },
  {
   "cell_type": "code",
   "execution_count": 16,
   "metadata": {},
   "outputs": [
    {
     "name": "stdout",
     "output_type": "stream",
     "text": [
      "foo\n"
     ]
    }
   ],
   "source": [
    "import sys; x = 'foo'; sys.stdout.write(x + '\\n')"
   ]
  },
  {
   "cell_type": "markdown",
   "metadata": {},
   "source": [
    "<div class=\"alert alert-block alert-warning\">"
   ]
  },
  {
   "cell_type": "markdown",
   "metadata": {},
   "source": [
    "# <font color='green'>4. Python Objects and Data Structures</font>"
   ]
  },
  {
   "cell_type": "markdown",
   "metadata": {},
   "source": [
    "Data types are the classification or categorization of data items. Data types represent a kind of value which determines what operations can be performed on that data. Numeric, non-numeric and Boolean (true/false) data are the most used data types. However, each programming language has its own classification largely reflecting its programming philosophy. Refer to https://www.tutorialsteacher.com/python/python-data-types"
   ]
  },
  {
   "cell_type": "markdown",
   "metadata": {},
   "source": [
    "<b><font color='red'>Python has the following standard or built-in data types:</font></b> \n",
    "<ul>\n",
    "    <li><font color='blue'>Numeric:</font> a numeric value. Python identifies 3 types of numbers: int, float, & complex</li>\n",
    "    <li><font color='blue'>Boolean:</font> logical data with two built-in values: True or False</li>\n",
    "    <li><font color='blue'>Sequence Type:</font> a sequence is an ordered collection of similar or different data types. Python has 3 built-in sequence data types: string, list, and tuple. set is unordered list</li>    \n",
    "    <li><font color='blue'>Dictionary:</font> an unordered collection of data in a key:value pair form</li> \n",
    "    <li><font color='blue'>None:</font> No value</li> \n",
    "</ul>"
   ]
  },
  {
   "cell_type": "markdown",
   "metadata": {},
   "source": [
    "## <font color='green'>4.1 Variable Assignment</font>"
   ]
  },
  {
   "cell_type": "markdown",
   "metadata": {},
   "source": [
    "Variables are nothing but reserved memory locations to store values. It means that when\n",
    "you create a variable, you reserve some space in the memory."
   ]
  },
  {
   "cell_type": "markdown",
   "metadata": {},
   "source": [
    "<b><font color='red'>Naming Rules:</font></b> \n",
    "<ul>\n",
    "    <li>Can't start with numbers </li>\n",
    "    <li>No space between chars or words (use underscore to concatenate words or chars)</li>\n",
    "    <li>Can't use any of these sysmbols :'''<,>/?|\\()!@#$%^&*~-+ </li>    \n",
    "    <li>Avoid using keyword names (highlighted with different color)</li> \n",
    "    <li>Best to use small letters</li>\n",
    "    <li>Use camel structure for class naming</li>\n",
    "</ul>"
   ]
  },
  {
   "cell_type": "markdown",
   "metadata": {},
   "source": [
    "<b><font color='red'>Python is dynamically typed:</font></b>\n",
    "<ul>\n",
    "   <li> It can be assigned with different data types with in a program</li>\n",
    "   <li> Other languages (C, C++, Java, ..) are statically typed</li>\n",
    "  </ul>"
   ]
  },
  {
   "cell_type": "markdown",
   "metadata": {},
   "source": [
    "### Assigning Values to Variables"
   ]
  },
  {
   "cell_type": "markdown",
   "metadata": {},
   "source": [
    "Python variables do not need explicit declaration to reserve memory space. The declaration\n",
    "happens automatically when you assign a value to a variable. The equal sign (=) is used\n",
    "to assign values to variables."
   ]
  },
  {
   "cell_type": "code",
   "execution_count": 17,
   "metadata": {},
   "outputs": [],
   "source": [
    "a=1"
   ]
  },
  {
   "cell_type": "code",
   "execution_count": 18,
   "metadata": {},
   "outputs": [
    {
     "data": {
      "text/plain": [
       "int"
      ]
     },
     "execution_count": 18,
     "metadata": {},
     "output_type": "execute_result"
    }
   ],
   "source": [
    "type(a)"
   ]
  },
  {
   "cell_type": "code",
   "execution_count": 19,
   "metadata": {},
   "outputs": [],
   "source": [
    "a=['A','B']"
   ]
  },
  {
   "cell_type": "code",
   "execution_count": 20,
   "metadata": {},
   "outputs": [
    {
     "data": {
      "text/plain": [
       "list"
      ]
     },
     "execution_count": 20,
     "metadata": {},
     "output_type": "execute_result"
    }
   ],
   "source": [
    "type(a)"
   ]
  },
  {
   "cell_type": "code",
   "execution_count": 21,
   "metadata": {},
   "outputs": [],
   "source": [
    "a='alem'"
   ]
  },
  {
   "cell_type": "code",
   "execution_count": 22,
   "metadata": {},
   "outputs": [
    {
     "data": {
      "text/plain": [
       "str"
      ]
     },
     "execution_count": 22,
     "metadata": {},
     "output_type": "execute_result"
    }
   ],
   "source": [
    "type(a)"
   ]
  },
  {
   "cell_type": "markdown",
   "metadata": {},
   "source": [
    "It saves time but may result in errors unless handled with due care."
   ]
  },
  {
   "cell_type": "markdown",
   "metadata": {},
   "source": [
    "### Multiple Assignment"
   ]
  },
  {
   "cell_type": "code",
   "execution_count": 23,
   "metadata": {},
   "outputs": [],
   "source": [
    "a = b = c = 1"
   ]
  },
  {
   "cell_type": "code",
   "execution_count": 24,
   "metadata": {},
   "outputs": [
    {
     "name": "stdout",
     "output_type": "stream",
     "text": [
      "2 5 2\n"
     ]
    }
   ],
   "source": [
    "f,g,h=2,5,a+b\n",
    "print(f,g,h)"
   ]
  },
  {
   "cell_type": "code",
   "execution_count": 25,
   "metadata": {},
   "outputs": [],
   "source": [
    "# delete vars\n",
    "del a,b,c"
   ]
  },
  {
   "cell_type": "code",
   "execution_count": 26,
   "metadata": {},
   "outputs": [
    {
     "ename": "NameError",
     "evalue": "name 'a' is not defined",
     "output_type": "error",
     "traceback": [
      "\u001b[0;31m---------------------------------------------------------------------------\u001b[0m",
      "\u001b[0;31mNameError\u001b[0m                                 Traceback (most recent call last)",
      "\u001b[0;32m<ipython-input-26-3f786850e387>\u001b[0m in \u001b[0;36m<module>\u001b[0;34m\u001b[0m\n\u001b[0;32m----> 1\u001b[0;31m \u001b[0ma\u001b[0m\u001b[0;34m\u001b[0m\u001b[0;34m\u001b[0m\u001b[0m\n\u001b[0m",
      "\u001b[0;31mNameError\u001b[0m: name 'a' is not defined"
     ]
    }
   ],
   "source": [
    "a"
   ]
  },
  {
   "cell_type": "markdown",
   "metadata": {},
   "source": [
    "## <font color='green'>4.2 Python Numbers</font>"
   ]
  },
  {
   "cell_type": "markdown",
   "metadata": {},
   "source": [
    "<br> A numeric value is any representation of data which has a numeric value. Python identifies three types of numbers:</br> \n",
    "<ul>\n",
    "    <li><font color='blue'>Integer:</font> Positive or negative whole numbers (without a fractional part)</li> \n",
    "    <li><font color='blue'>Float: </font>Any real number with a floating point representation in which a fractional component is denoted by a decimal symbol or scientific notation</li>  \n",
    "    <li><font color='blue'>Complex number: </font>A number with a real and imaginary component represented as x+yj. x and y are floats and j is -1(square root of -1 called an imaginary number)</li> \n",
    "</ul> "
   ]
  },
  {
   "cell_type": "code",
   "execution_count": null,
   "metadata": {},
   "outputs": [],
   "source": [
    "a=123"
   ]
  },
  {
   "cell_type": "code",
   "execution_count": null,
   "metadata": {},
   "outputs": [],
   "source": [
    "type(a)"
   ]
  },
  {
   "cell_type": "code",
   "execution_count": null,
   "metadata": {},
   "outputs": [],
   "source": [
    "b=34.90"
   ]
  },
  {
   "cell_type": "code",
   "execution_count": null,
   "metadata": {},
   "outputs": [],
   "source": [
    "type(b)"
   ]
  },
  {
   "cell_type": "code",
   "execution_count": null,
   "metadata": {},
   "outputs": [],
   "source": [
    "c=2+5j"
   ]
  },
  {
   "cell_type": "code",
   "execution_count": null,
   "metadata": {},
   "outputs": [],
   "source": [
    "type(c)"
   ]
  },
  {
   "cell_type": "code",
   "execution_count": null,
   "metadata": {},
   "outputs": [],
   "source": [
    "d=a+b\n",
    "d"
   ]
  },
  {
   "cell_type": "code",
   "execution_count": null,
   "metadata": {},
   "outputs": [],
   "source": [
    "type(d)"
   ]
  },
  {
   "cell_type": "code",
   "execution_count": null,
   "metadata": {},
   "outputs": [],
   "source": [
    "e=a+c\n",
    "e"
   ]
  },
  {
   "cell_type": "code",
   "execution_count": null,
   "metadata": {},
   "outputs": [],
   "source": [
    "type(e)"
   ]
  },
  {
   "cell_type": "code",
   "execution_count": null,
   "metadata": {},
   "outputs": [],
   "source": [
    "f=b+c\n",
    "f"
   ]
  },
  {
   "cell_type": "code",
   "execution_count": null,
   "metadata": {},
   "outputs": [],
   "source": [
    "type(f)"
   ]
  },
  {
   "cell_type": "markdown",
   "metadata": {},
   "source": [
    "<br><font color='red'>Type Casting</font></br>"
   ]
  },
  {
   "cell_type": "code",
   "execution_count": null,
   "metadata": {},
   "outputs": [],
   "source": [
    "m=float(a)\n",
    "m"
   ]
  },
  {
   "cell_type": "code",
   "execution_count": null,
   "metadata": {},
   "outputs": [],
   "source": [
    "type(m)"
   ]
  },
  {
   "cell_type": "code",
   "execution_count": null,
   "metadata": {},
   "outputs": [],
   "source": [
    "n=int(b)"
   ]
  },
  {
   "cell_type": "code",
   "execution_count": null,
   "metadata": {},
   "outputs": [],
   "source": [
    "type(n)"
   ]
  },
  {
   "cell_type": "markdown",
   "metadata": {},
   "source": [
    "<br><font color='red'>Python Numeric operators</font></br>"
   ]
  },
  {
   "cell_type": "markdown",
   "metadata": {},
   "source": [
    "<br> Python Numeric Operators</br> \n",
    "<ul>\n",
    "    <li><font color='blue'>Addition:</font> 2+2 =4</li> \n",
    "    <li><font color='blue'>Substraction:</font> 2-1 = 1</li>\n",
    "    <li><font color='blue'>Multiplication:</font> 2*2 = 4</li>\n",
    "    <li><font color='blue'>Division:</font> 2/2 = 1</li>\n",
    "    <li><font color='blue'>Integer Division:</font> 3//2 = 1</li>\n",
    "    <li><font color='blue'>Exponetiation:</font> 2**3 = 8 or math.pow(2,3) = 8, import math first</li>\n",
    "    <li><font color='blue'>Square root:</font> math.sqrt(9) = 3 or 9**0.5</li>\n",
    "    <li><font color='blue'>Remainder/Modulo:</font> 5%2 = 1</li>    \n",
    "</ul> "
   ]
  },
  {
   "cell_type": "markdown",
   "metadata": {},
   "source": [
    "<br><font color='red'>Operators order (PEMDAS)</font></br>"
   ]
  },
  {
   "cell_type": "markdown",
   "metadata": {},
   "source": [
    "Paranthesis, exponent, multiplication/division, and Addition/Subtraction\n",
    "\n",
    "/* are performed left to right when they occur contiguously"
   ]
  },
  {
   "cell_type": "code",
   "execution_count": null,
   "metadata": {},
   "outputs": [],
   "source": [
    "3/2*2 # first division, then multiplication"
   ]
  },
  {
   "cell_type": "code",
   "execution_count": null,
   "metadata": {},
   "outputs": [],
   "source": [
    "3*2/4 # first multiplication, then division"
   ]
  },
  {
   "cell_type": "markdown",
   "metadata": {},
   "source": [
    "<div class=\"alert alert-block alert-warning\">\n",
    "Warning!"
   ]
  },
  {
   "cell_type": "code",
   "execution_count": null,
   "metadata": {},
   "outputs": [],
   "source": [
    "0.1+0.2-0.3 # is different from 0. Why?"
   ]
  },
  {
   "cell_type": "markdown",
   "metadata": {},
   "source": [
    "Possible Reasons:\n",
    "    \n",
    "    Floating point accuracy\n",
    "    Computer's ability to represent numbers on memory    "
   ]
  },
  {
   "cell_type": "markdown",
   "metadata": {},
   "source": [
    "### <font color='blue'>Mathematical Functions</font>"
   ]
  },
  {
   "cell_type": "markdown",
   "metadata": {},
   "source": [
    "Number data types store numeric values. They are immutable data types. This means,\n",
    "changing the value of a number data type results in a newly allocated object."
   ]
  },
  {
   "cell_type": "markdown",
   "metadata": {},
   "source": [
    "Integers in Python 3 are of unlimited size. Python 2 has two integer types - int and long. There is no 'long integer' in Python 3 anymore."
   ]
  },
  {
   "cell_type": "code",
   "execution_count": null,
   "metadata": {},
   "outputs": [],
   "source": [
    "from math import ceil, floor, exp, fabs,log,log10,modf, sqrt\n",
    "import random\n",
    "x=-3\n",
    "y=5\n",
    "z=89.1234567\n",
    "lst=[12,3,4,5,677]\n",
    "print(abs(x))\n",
    "print(ceil(z)) # 1.1 --> 2 returns the smallest integer not less than x\n",
    "print((x>y)-(x<y)) # cmp(x,y)\n",
    "print(exp(x))\n",
    "print(fabs(x))\n",
    "print(floor(z))\n",
    "print(log(y))\n",
    "print(log10(y))\n",
    "print(max(lst))\n",
    "print(min(lst))\n",
    "print(modf(z))\n",
    "print(pow(x, y))\n",
    "print(round(z,2))\n",
    "print(sqrt(y))\n",
    "print(random.randrange (1,6,1)) #start, stop, step\n",
    "print(random.seed(10))\n",
    "lst = [20, 16, 10, 5];\n",
    "print(random.shuffle(lst))\n",
    "lst"
   ]
  },
  {
   "cell_type": "markdown",
   "metadata": {},
   "source": [
    "### <font color='blue'>Trigonometric Functions</font>"
   ]
  },
  {
   "cell_type": "code",
   "execution_count": null,
   "metadata": {},
   "outputs": [],
   "source": [
    "from math import pi,acos,asin,atan,atan2,cos,hypot,sin,tan,degrees,radians\n",
    "x=0.5\n",
    "y=0.6\n",
    "z=2*pi\n",
    "zz=360\n",
    "print(acos(x)) #Return the arc cosine of x, in radians.\n",
    "print(asin(x)) #Return the arc sine of x, in radians.\n",
    "print(atan(x)) #Return the arc tangent of x, in radians.\n",
    "print(atan2(y, x)) #Return atan(y / x), in radians.\n",
    "print(cos(x)) #Return the cosine of x radians.\n",
    "print(hypot(x, y)) #Return the Euclidean norm, sqrt(x*x + y*y).\n",
    "print(sin(x)) #Return the sine of x radians.\n",
    "print(tan(x)) #Return the tangent of x radians.\n",
    "print(degrees(2)) #Converts angle x from radians to degrees.\n",
    "print(radians(zz)) #Converts angle x from degrees to radians."
   ]
  },
  {
   "cell_type": "code",
   "execution_count": null,
   "metadata": {},
   "outputs": [],
   "source": [
    "pi"
   ]
  },
  {
   "cell_type": "code",
   "execution_count": null,
   "metadata": {},
   "outputs": [],
   "source": [
    "from math import e\n",
    "e"
   ]
  },
  {
   "cell_type": "markdown",
   "metadata": {},
   "source": [
    "## <font color='green'>4.3 Python Ordered and Unordered Sequences</font>"
   ]
  },
  {
   "cell_type": "markdown",
   "metadata": {},
   "source": [
    "### <font color='blue'>String</font>\n",
    "Strings in Python are identified as a contiguous set of characters represented in the\n",
    "quotation marks. Python allows either pair of single or double quotes. Subsets of strings\n",
    "can be taken using the slice operator ([ ] and [:] ) with indexes starting at 0 in the\n",
    "beginning of the string and working their way from -1 to the end.\n",
    "\n",
    "The plus (+) sign is the string concatenation operator and the asterisk (*) is the repetition operator.\n",
    "\n",
    "Immutable"
   ]
  },
  {
   "cell_type": "code",
   "execution_count": null,
   "metadata": {},
   "outputs": [],
   "source": [
    "#!/usr/bin/python3\n",
    "#str = 'Hello World!'\n",
    "str1 = 'Hello World!'\n",
    "print (str1) # Prints complete string\n",
    "print (str1[0]) # Prints first character of the string\n",
    "print (str1[2:5]) # Prints characters starting from 3rd to 5th\n",
    "print (str1[2:]) # Prints string starting from 3rd character\n",
    "print (str1 * 2) # Prints string two times\n",
    "print (str1 + \"TEST\") # Prints concatenated string"
   ]
  },
  {
   "cell_type": "code",
   "execution_count": null,
   "metadata": {},
   "outputs": [],
   "source": [
    "# String operators\n",
    "a='str1'\n",
    "b='str2'\n",
    "print(a+b)\n",
    "print(2*a)\n",
    "print(a[2])\n",
    "print(a[0:2])\n",
    "print('s' in a)\n",
    "print('t' not in a)"
   ]
  },
  {
   "cell_type": "code",
   "execution_count": null,
   "metadata": {},
   "outputs": [],
   "source": [
    "# Methods\n",
    "#1.capitalize()\n",
    "str1 = \"this is string example....wow!!!\"\n",
    "print (\"1.str.capitalize() : \", str1.capitalize())"
   ]
  },
  {
   "cell_type": "code",
   "execution_count": null,
   "metadata": {},
   "outputs": [],
   "source": [
    "str1 = \"this is string example....wow!!!\"\n",
    "print (\"2. str.center(40, 'a') : \", str1.center(40, 'a'))"
   ]
  },
  {
   "cell_type": "code",
   "execution_count": 27,
   "metadata": {},
   "outputs": [
    {
     "name": "stdout",
     "output_type": "stream",
     "text": [
      "str.count('i') :  3\n",
      "3. str.count('exam', 10, 40) :  1\n"
     ]
    }
   ],
   "source": [
    "#2.count()\n",
    "str1=\"this is string example....wow!!!\"\n",
    "sub='i'\n",
    "print (\"str.count('i') : \", str1.count(sub))\n",
    "sub='exam'\n",
    "print (\"3. str.count('exam', 10, 40) : \", str1.count(sub,10,40))"
   ]
  },
  {
   "cell_type": "code",
   "execution_count": 74,
   "metadata": {},
   "outputs": [
    {
     "name": "stdout",
     "output_type": "stream",
     "text": [
      "Encoded String:  b'dGhpcyBpcyBzdHJpbmcgZXhhbXBsZS4uLi53b3chISE='\n",
      "Decoded String:  b'this is string example....wow!!!'\n"
     ]
    }
   ],
   "source": [
    "#3.Encoding\n",
    "import base64\n",
    "Str = \"this is string example....wow!!!\"\n",
    "Str=base64.b64encode(Str.encode('utf-8',errors='strict'))\n",
    "print (\"Encoded String: \" , Str)\n",
    "Str1=base64.b64decode(Str.decode('utf-8',errors='strict'))\n",
    "print (\"Decoded String: \" , Str1)"
   ]
  },
  {
   "cell_type": "code",
   "execution_count": 1,
   "metadata": {},
   "outputs": [
    {
     "name": "stdout",
     "output_type": "stream",
     "text": [
      "True\n",
      "True\n",
      "False\n",
      "True\n"
     ]
    }
   ],
   "source": [
    "#4. Ends with\n",
    "Str='this is string example....wow!!!'\n",
    "suffix='!!'\n",
    "print (Str.endswith(suffix))\n",
    "print (Str.endswith(suffix,20))\n",
    "suffix='exam'\n",
    "print (Str.endswith(suffix))\n",
    "print (Str.endswith(suffix, 0, 19))"
   ]
  },
  {
   "cell_type": "code",
   "execution_count": 10,
   "metadata": {},
   "outputs": [
    {
     "name": "stdout",
     "output_type": "stream",
     "text": [
      "Original string: this is\tstring example....wow!!!\n",
      "Defualt exapanded tab: this is string example....wow!!!\n",
      "Double exapanded tab: this is         string example....wow!!!\n"
     ]
    }
   ],
   "source": [
    "#5. expandtabs()\n",
    "str1 = \"this is\\tstring example....wow!!!\"\n",
    "print (\"Original string: \" + str1)\n",
    "print (\"Defualt exapanded tab: \" + str1.expandtabs())\n",
    "print (\"Double exapanded tab: \" + str1.expandtabs(16))"
   ]
  },
  {
   "cell_type": "code",
   "execution_count": 3,
   "metadata": {},
   "outputs": [
    {
     "name": "stdout",
     "output_type": "stream",
     "text": [
      "15\n",
      "15\n",
      "-1\n"
     ]
    }
   ],
   "source": [
    "# 6. find()\n",
    "str1 = \"this is string example....wow!!!\"\n",
    "str2 = \"exam\";\n",
    "print (str1.find(str2))\n",
    "print (str1.find(str2, 10))\n",
    "print (str1.find(str2, 40))"
   ]
  },
  {
   "cell_type": "code",
   "execution_count": 4,
   "metadata": {},
   "outputs": [
    {
     "name": "stdout",
     "output_type": "stream",
     "text": [
      "15\n",
      "15\n"
     ]
    },
    {
     "ename": "ValueError",
     "evalue": "substring not found",
     "output_type": "error",
     "traceback": [
      "\u001b[0;31m---------------------------------------------------------------------------\u001b[0m",
      "\u001b[0;31mValueError\u001b[0m                                Traceback (most recent call last)",
      "\u001b[0;32m<ipython-input-4-062517939c28>\u001b[0m in \u001b[0;36m<module>\u001b[0;34m\u001b[0m\n\u001b[1;32m      4\u001b[0m \u001b[0mprint\u001b[0m \u001b[0;34m(\u001b[0m\u001b[0mstr1\u001b[0m\u001b[0;34m.\u001b[0m\u001b[0mindex\u001b[0m\u001b[0;34m(\u001b[0m\u001b[0mstr2\u001b[0m\u001b[0;34m)\u001b[0m\u001b[0;34m)\u001b[0m\u001b[0;34m\u001b[0m\u001b[0;34m\u001b[0m\u001b[0m\n\u001b[1;32m      5\u001b[0m \u001b[0mprint\u001b[0m \u001b[0;34m(\u001b[0m\u001b[0mstr1\u001b[0m\u001b[0;34m.\u001b[0m\u001b[0mindex\u001b[0m\u001b[0;34m(\u001b[0m\u001b[0mstr2\u001b[0m\u001b[0;34m,\u001b[0m \u001b[0;36m10\u001b[0m\u001b[0;34m)\u001b[0m\u001b[0;34m)\u001b[0m\u001b[0;34m\u001b[0m\u001b[0;34m\u001b[0m\u001b[0m\n\u001b[0;32m----> 6\u001b[0;31m \u001b[0mprint\u001b[0m \u001b[0;34m(\u001b[0m\u001b[0mstr1\u001b[0m\u001b[0;34m.\u001b[0m\u001b[0mindex\u001b[0m\u001b[0;34m(\u001b[0m\u001b[0mstr2\u001b[0m\u001b[0;34m,\u001b[0m \u001b[0;36m40\u001b[0m\u001b[0;34m)\u001b[0m\u001b[0;34m)\u001b[0m\u001b[0;34m\u001b[0m\u001b[0;34m\u001b[0m\u001b[0m\n\u001b[0m",
      "\u001b[0;31mValueError\u001b[0m: substring not found"
     ]
    }
   ],
   "source": [
    "#7. index()\n",
    "str1 = \"this is string example....wow!!!\"\n",
    "str2 = \"exam\";\n",
    "print (str1.index(str2))\n",
    "print (str1.index(str2, 10))\n",
    "print (str1.index(str2, 40))"
   ]
  },
  {
   "cell_type": "code",
   "execution_count": 12,
   "metadata": {},
   "outputs": [
    {
     "name": "stdout",
     "output_type": "stream",
     "text": [
      "True\n",
      "False\n"
     ]
    }
   ],
   "source": [
    "#8. isalnum()\n",
    "str1 = \"this2016\"\n",
    "# No space in this string\n",
    "print (str1.isalnum())\n",
    "str1 = \"this is string example....wow!!!\"\n",
    "print (str1.isalnum())"
   ]
  },
  {
   "cell_type": "code",
   "execution_count": 13,
   "metadata": {},
   "outputs": [
    {
     "name": "stdout",
     "output_type": "stream",
     "text": [
      "True\n",
      "False\n"
     ]
    }
   ],
   "source": [
    "#9. isalpha()\n",
    "str1 = \"this\";\n",
    "# No space & digit in this string\n",
    "print (str1.isalpha())\n",
    "str1 = \"this is string example....wow!!!\"\n",
    "print (str1.isalpha())"
   ]
  },
  {
   "cell_type": "code",
   "execution_count": 14,
   "metadata": {},
   "outputs": [
    {
     "name": "stdout",
     "output_type": "stream",
     "text": [
      "True\n",
      "False\n"
     ]
    }
   ],
   "source": [
    "#10. isdigit()\n",
    "str1 = \"123456\";\n",
    "# Only digit in this string\n",
    "print (str1.isdigit())\n",
    "str1 = \"this is string example....wow!!!\"\n",
    "print (str1.isdigit())"
   ]
  },
  {
   "cell_type": "code",
   "execution_count": 15,
   "metadata": {},
   "outputs": [
    {
     "name": "stdout",
     "output_type": "stream",
     "text": [
      "False\n",
      "True\n"
     ]
    }
   ],
   "source": [
    "#11. islower()\n",
    "str1 = \"THIS is string example....wow!!!\"\n",
    "print (str1.islower())\n",
    "str1 = \"this is string example5....wow!!!\"\n",
    "print (str1.islower())"
   ]
  },
  {
   "cell_type": "code",
   "execution_count": 17,
   "metadata": {},
   "outputs": [
    {
     "name": "stdout",
     "output_type": "stream",
     "text": [
      "False\n",
      "True\n"
     ]
    }
   ],
   "source": [
    "#12. isnumeric()\n",
    "str1 = \"this2016\"\n",
    "print (str1.isnumeric())\n",
    "str1 = \"23443434\"\n",
    "print (str1.isnumeric())"
   ]
  },
  {
   "cell_type": "code",
   "execution_count": 19,
   "metadata": {},
   "outputs": [
    {
     "name": "stdout",
     "output_type": "stream",
     "text": [
      "True\n",
      "False\n"
     ]
    }
   ],
   "source": [
    "#13. isspace()\n",
    "str1 = \" \"\n",
    "print (str1.isspace())\n",
    "str1 = \"This is string example....wow!!!\"\n",
    "print (str1.isspace())"
   ]
  },
  {
   "cell_type": "code",
   "execution_count": 20,
   "metadata": {},
   "outputs": [
    {
     "name": "stdout",
     "output_type": "stream",
     "text": [
      "True\n",
      "False\n"
     ]
    }
   ],
   "source": [
    "#14. istitle()\n",
    "str1 = \"This Is String Example...Wow!!!\"\n",
    "print (str1.istitle())\n",
    "str1 = \"This is string example....wow!!!\"\n",
    "print (str1.istitle())"
   ]
  },
  {
   "cell_type": "code",
   "execution_count": 22,
   "metadata": {},
   "outputs": [
    {
     "name": "stdout",
     "output_type": "stream",
     "text": [
      "True\n",
      "False\n"
     ]
    }
   ],
   "source": [
    "#15. isupper()\n",
    "str1 = \"THIS IS STRING EXAMPLE....WOW!!!\"\n",
    "print (str1.isupper())\n",
    "str1 = \"THIS is string example....wow!!!\"\n",
    "print (str1.isupper())"
   ]
  },
  {
   "cell_type": "code",
   "execution_count": 24,
   "metadata": {},
   "outputs": [
    {
     "name": "stdout",
     "output_type": "stream",
     "text": [
      "a-b-c\n"
     ]
    }
   ],
   "source": [
    "# 16. join()\n",
    "s = \"-\"\n",
    "seq = (\"a\", \"b\", \"c\") # This is sequence of strings.\n",
    "print(s.join(seq))"
   ]
  },
  {
   "cell_type": "code",
   "execution_count": 25,
   "metadata": {},
   "outputs": [
    {
     "name": "stdout",
     "output_type": "stream",
     "text": [
      "Length of the string:  32\n"
     ]
    }
   ],
   "source": [
    "# 17. len()\n",
    "str1 = \"this is string example....wow!!!\"\n",
    "print (\"Length of the string: \", len(str1))"
   ]
  },
  {
   "cell_type": "code",
   "execution_count": 28,
   "metadata": {},
   "outputs": [
    {
     "name": "stdout",
     "output_type": "stream",
     "text": [
      "this is string example....wow!!!******************\n"
     ]
    }
   ],
   "source": [
    "# 18. ljust()\n",
    "str1 = \"this is string example....wow!!!\"\n",
    "print(str1.ljust(50, '*'))"
   ]
  },
  {
   "cell_type": "code",
   "execution_count": 29,
   "metadata": {},
   "outputs": [
    {
     "name": "stdout",
     "output_type": "stream",
     "text": [
      "this is string example....wow!!!\n"
     ]
    }
   ],
   "source": [
    "# 19. lower()\n",
    "str1 = \"THIS IS STRING EXAMPLE....WOW!!!\"\n",
    "print (str1.lower())"
   ]
  },
  {
   "cell_type": "code",
   "execution_count": 31,
   "metadata": {},
   "outputs": [
    {
     "name": "stdout",
     "output_type": "stream",
     "text": [
      "this is string example....wow!!!\n",
      "this is string example....wow!!!*****\n"
     ]
    }
   ],
   "source": [
    "# 20. lstrip()\n",
    "str1 = \"this is string example....wow!!!\"\n",
    "print (str1.lstrip())\n",
    "str1 = \"*****this is string example....wow!!!*****\"\n",
    "print (str1.lstrip('*'))"
   ]
  },
  {
   "cell_type": "code",
   "execution_count": 33,
   "metadata": {},
   "outputs": [
    {
     "name": "stdout",
     "output_type": "stream",
     "text": [
      "th3s 3s str3ng 2x1mpl2....w4w!!!\n"
     ]
    }
   ],
   "source": [
    "# 21. translate()\n",
    "intab = \"aeiou\"\n",
    "outtab = \"12345\"\n",
    "trantab = str.maketrans(intab, outtab)\n",
    "str1 = \"this is string example....wow!!!\"\n",
    "print (str1.translate(trantab))"
   ]
  },
  {
   "cell_type": "code",
   "execution_count": 34,
   "metadata": {},
   "outputs": [
    {
     "name": "stdout",
     "output_type": "stream",
     "text": [
      "Max character: y\n",
      "Max character: x\n"
     ]
    }
   ],
   "source": [
    "# 22. max()\n",
    "str1 = \"this is a string example....really!!!\"\n",
    "print (\"Max character: \" + max(str1))\n",
    "str1 = \"this is a string example....wow!!!\"\n",
    "print (\"Max character: \" + max(str1))"
   ]
  },
  {
   "cell_type": "code",
   "execution_count": 35,
   "metadata": {},
   "outputs": [
    {
     "name": "stdout",
     "output_type": "stream",
     "text": [
      "Min character: .\n",
      "Min character: A\n"
     ]
    }
   ],
   "source": [
    "# 23. min()\n",
    "str1 = \"www.tutorialspoint.com\"\n",
    "print (\"Min character: \" + min(str1))\n",
    "str1 = \"TUTORIALSPOINT\"\n",
    "print (\"Min character: \" + min(str1))"
   ]
  },
  {
   "cell_type": "code",
   "execution_count": 36,
   "metadata": {},
   "outputs": [
    {
     "name": "stdout",
     "output_type": "stream",
     "text": [
      "thwas was string example....wow!!! thwas was really string\n",
      "thwas was string example....wow!!! thwas is really string\n"
     ]
    }
   ],
   "source": [
    "# 24. replace()\n",
    "str1 = \"this is string example....wow!!! this is really string\"\n",
    "print (str1.replace(\"is\", \"was\"))\n",
    "print (str1.replace(\"is\", \"was\", 3))"
   ]
  },
  {
   "cell_type": "code",
   "execution_count": 38,
   "metadata": {},
   "outputs": [
    {
     "name": "stdout",
     "output_type": "stream",
     "text": [
      "5\n",
      "5\n",
      "-1\n",
      "2\n",
      "2\n",
      "-1\n"
     ]
    }
   ],
   "source": [
    "# 25. find()\n",
    "str1 = \"this is really a string example....wow!!!\"\n",
    "str2 = \"is\"\n",
    "print (str1.rfind(str2))\n",
    "print (str1.rfind(str2, 0, 10))\n",
    "print (str1.rfind(str2, 10, 0))\n",
    "print (str1.find(str2))\n",
    "print (str1.find(str2, 0, 10))\n",
    "print (str1.find(str2, 10, 0))"
   ]
  },
  {
   "cell_type": "code",
   "execution_count": 39,
   "metadata": {},
   "outputs": [
    {
     "name": "stdout",
     "output_type": "stream",
     "text": [
      "5\n"
     ]
    },
    {
     "ename": "ValueError",
     "evalue": "substring not found",
     "output_type": "error",
     "traceback": [
      "\u001b[0;31m---------------------------------------------------------------------------\u001b[0m",
      "\u001b[0;31mValueError\u001b[0m                                Traceback (most recent call last)",
      "\u001b[0;32m<ipython-input-39-9cd713d7db50>\u001b[0m in \u001b[0;36m<module>\u001b[0;34m\u001b[0m\n\u001b[1;32m      3\u001b[0m \u001b[0mstr2\u001b[0m \u001b[0;34m=\u001b[0m \u001b[0;34m\"is\"\u001b[0m\u001b[0;34m\u001b[0m\u001b[0;34m\u001b[0m\u001b[0m\n\u001b[1;32m      4\u001b[0m \u001b[0mprint\u001b[0m \u001b[0;34m(\u001b[0m\u001b[0mstr1\u001b[0m\u001b[0;34m.\u001b[0m\u001b[0mrindex\u001b[0m\u001b[0;34m(\u001b[0m\u001b[0mstr2\u001b[0m\u001b[0;34m)\u001b[0m\u001b[0;34m)\u001b[0m\u001b[0;34m\u001b[0m\u001b[0;34m\u001b[0m\u001b[0m\n\u001b[0;32m----> 5\u001b[0;31m \u001b[0mprint\u001b[0m \u001b[0;34m(\u001b[0m\u001b[0mstr1\u001b[0m\u001b[0;34m.\u001b[0m\u001b[0mrindex\u001b[0m\u001b[0;34m(\u001b[0m\u001b[0mstr2\u001b[0m\u001b[0;34m,\u001b[0m\u001b[0;36m10\u001b[0m\u001b[0;34m)\u001b[0m\u001b[0;34m)\u001b[0m\u001b[0;34m\u001b[0m\u001b[0;34m\u001b[0m\u001b[0m\n\u001b[0m",
      "\u001b[0;31mValueError\u001b[0m: substring not found"
     ]
    }
   ],
   "source": [
    "# 26. rindex()\n",
    "str1 = \"this is really a string example....wow!!!\"\n",
    "str2 = \"is\"\n",
    "print (str1.rindex(str2))\n",
    "print (str1.rindex(str2,10))"
   ]
  },
  {
   "cell_type": "code",
   "execution_count": 40,
   "metadata": {},
   "outputs": [
    {
     "name": "stdout",
     "output_type": "stream",
     "text": [
      "******************this is string example....wow!!!\n"
     ]
    }
   ],
   "source": [
    "# 27. rjust()\n",
    "str1 = \"this is string example....wow!!!\"\n",
    "print (str1.rjust(50, '*'))"
   ]
  },
  {
   "cell_type": "code",
   "execution_count": 42,
   "metadata": {},
   "outputs": [
    {
     "name": "stdout",
     "output_type": "stream",
     "text": [
      "this is string example....wow!!!\n",
      "*****this is string example....wow!!!\n"
     ]
    }
   ],
   "source": [
    "# 28. rstrip()\n",
    "str1 = \"this is string example....wow!!!\"\n",
    "print (str1.rstrip())\n",
    "str1 = \"*****this is string example....wow!!!*****\"\n",
    "print (str1.rstrip('*'))"
   ]
  },
  {
   "cell_type": "code",
   "execution_count": 43,
   "metadata": {},
   "outputs": [
    {
     "name": "stdout",
     "output_type": "stream",
     "text": [
      "['this', 'is', 'string', 'example....wow!!!']\n",
      "['th', 's is string example....wow!!!']\n",
      "['this is string example....', 'o', '!!!']\n"
     ]
    }
   ],
   "source": [
    "# 30. strip()\n",
    "str1 = \"this is string example....wow!!!\"\n",
    "print (str1.split( ))\n",
    "print (str1.split('i',1))\n",
    "print (str1.split('w'))"
   ]
  },
  {
   "cell_type": "code",
   "execution_count": 44,
   "metadata": {},
   "outputs": [
    {
     "name": "stdout",
     "output_type": "stream",
     "text": [
      "['this is ', 'string example....', 'wow!!!']\n"
     ]
    }
   ],
   "source": [
    "# 31. splitlines()\n",
    "str1 = \"this is \\nstring example....\\nwow!!!\"\n",
    "print (str1.splitlines( ))"
   ]
  },
  {
   "cell_type": "code",
   "execution_count": 46,
   "metadata": {},
   "outputs": [
    {
     "name": "stdout",
     "output_type": "stream",
     "text": [
      "True\n",
      "True\n",
      "False\n"
     ]
    }
   ],
   "source": [
    "# 32. startswith()\n",
    "str1 = \"this is string example....wow!!!\"\n",
    "print (str1.startswith( 'this' ))\n",
    "print (str1.startswith( 'string', 8 ))\n",
    "print (str1.startswith( 'this', 2, 4 ))"
   ]
  },
  {
   "cell_type": "code",
   "execution_count": 55,
   "metadata": {},
   "outputs": [
    {
     "data": {
      "text/plain": [
       "[8, 22, 29]"
      ]
     },
     "execution_count": 55,
     "metadata": {},
     "output_type": "execute_result"
    }
   ],
   "source": [
    "str1 = \"this is string examplestring string ....wow!!!\"\n",
    "lst=[]\n",
    "for i in range(len(str1)):\n",
    "    if str1.startswith( 'string', i):\n",
    "        lst.append(i)\n",
    "lst    "
   ]
  },
  {
   "cell_type": "code",
   "execution_count": 56,
   "metadata": {},
   "outputs": [
    {
     "data": {
      "text/plain": [
       "['string', 'string', 'string']"
      ]
     },
     "execution_count": 56,
     "metadata": {},
     "output_type": "execute_result"
    }
   ],
   "source": [
    "lst1=[str1[x:x+len(\"string\")] for x in lst]\n",
    "lst1"
   ]
  },
  {
   "cell_type": "code",
   "execution_count": 58,
   "metadata": {},
   "outputs": [
    {
     "name": "stdout",
     "output_type": "stream",
     "text": [
      "this is string example....wow!!!\n"
     ]
    }
   ],
   "source": [
    "# 33. strip()\n",
    "str1 = \"*****this is string example....wow!!!*****\"\n",
    "print (str1.strip('*'))"
   ]
  },
  {
   "cell_type": "code",
   "execution_count": 59,
   "metadata": {},
   "outputs": [
    {
     "name": "stdout",
     "output_type": "stream",
     "text": [
      "THIS IS STRING EXAMPLE....WOW!!!\n",
      "tHIS iS sTRING eXAMPLE....wow!!!\n"
     ]
    }
   ],
   "source": [
    "# 34. swapcase()\n",
    "str1 = \"this is string example....wow!!!\"\n",
    "print (str1.swapcase())\n",
    "str1 = \"This Is String Example....WOW!!!\"\n",
    "print (str1.swapcase())"
   ]
  },
  {
   "cell_type": "code",
   "execution_count": 61,
   "metadata": {},
   "outputs": [
    {
     "name": "stdout",
     "output_type": "stream",
     "text": [
      "This Is String Example....Wow!!!\n"
     ]
    }
   ],
   "source": [
    "# 35. title()\n",
    "str1 = \"this is string example....wow!!!\"\n",
    "print (str1.title())"
   ]
  },
  {
   "cell_type": "code",
   "execution_count": 63,
   "metadata": {},
   "outputs": [
    {
     "ename": "ImportError",
     "evalue": "cannot import name 'maketrans' from 'string' (/home/alem/anaconda3/lib/python3.7/string.py)",
     "output_type": "error",
     "traceback": [
      "\u001b[0;31m---------------------------------------------------------------------------\u001b[0m",
      "\u001b[0;31mImportError\u001b[0m                               Traceback (most recent call last)",
      "\u001b[0;32m<ipython-input-63-673a96ecc202>\u001b[0m in \u001b[0;36m<module>\u001b[0;34m\u001b[0m\n\u001b[1;32m      1\u001b[0m \u001b[0;31m# translate()\u001b[0m\u001b[0;34m\u001b[0m\u001b[0;34m\u001b[0m\u001b[0;34m\u001b[0m\u001b[0m\n\u001b[0;32m----> 2\u001b[0;31m \u001b[0;32mfrom\u001b[0m \u001b[0mstring\u001b[0m \u001b[0;32mimport\u001b[0m \u001b[0mmaketrans\u001b[0m\u001b[0;34m\u001b[0m\u001b[0;34m\u001b[0m\u001b[0m\n\u001b[0m\u001b[1;32m      3\u001b[0m \u001b[0mintab\u001b[0m \u001b[0;34m=\u001b[0m \u001b[0;34m\"aeiou\"\u001b[0m\u001b[0;34m\u001b[0m\u001b[0;34m\u001b[0m\u001b[0m\n\u001b[1;32m      4\u001b[0m \u001b[0mouttab\u001b[0m \u001b[0;34m=\u001b[0m \u001b[0;34m\"12345\"\u001b[0m\u001b[0;34m\u001b[0m\u001b[0;34m\u001b[0m\u001b[0m\n\u001b[1;32m      5\u001b[0m \u001b[0mtrantab\u001b[0m \u001b[0;34m=\u001b[0m \u001b[0mmaketrans\u001b[0m\u001b[0;34m(\u001b[0m\u001b[0mintab\u001b[0m\u001b[0;34m,\u001b[0m \u001b[0mouttab\u001b[0m\u001b[0;34m)\u001b[0m\u001b[0;34m\u001b[0m\u001b[0;34m\u001b[0m\u001b[0m\n",
      "\u001b[0;31mImportError\u001b[0m: cannot import name 'maketrans' from 'string' (/home/alem/anaconda3/lib/python3.7/string.py)"
     ]
    }
   ],
   "source": [
    "# 36. translate()\n",
    "from string import maketrans\n",
    "intab = \"aeiou\"\n",
    "outtab = \"12345\"\n",
    "trantab = maketrans(intab, outtab)\n",
    "str1 = \"this is string example....wow!!!\";\n",
    "print (str1.translate(trantab))"
   ]
  },
  {
   "cell_type": "code",
   "execution_count": 64,
   "metadata": {},
   "outputs": [
    {
     "name": "stdout",
     "output_type": "stream",
     "text": [
      "str.upper :  THIS IS STRING EXAMPLE....WOW!!!\n"
     ]
    }
   ],
   "source": [
    "# 37. Upper\n",
    "str1 = \"this is string example....wow!!!\"\n",
    "print (\"str.upper : \",str1.upper())"
   ]
  },
  {
   "cell_type": "code",
   "execution_count": 67,
   "metadata": {},
   "outputs": [
    {
     "name": "stdout",
     "output_type": "stream",
     "text": [
      "str.zfill :  00000000this is string example....wow!!!\n",
      "str.zfill :  000000000000000000this is string example....wow!!!\n"
     ]
    }
   ],
   "source": [
    "# 38. zfill\n",
    "str1 = \"this is string example....wow!!!\"\n",
    "print (\"str.zfill : \",str1.zfill(40))\n",
    "print (\"str.zfill : \",str1.zfill(50))"
   ]
  },
  {
   "cell_type": "code",
   "execution_count": 69,
   "metadata": {},
   "outputs": [
    {
     "name": "stdout",
     "output_type": "stream",
     "text": [
      "False\n",
      "True\n"
     ]
    }
   ],
   "source": [
    "# 39. isdecimal()\n",
    "str1 = \"this2016\"\n",
    "print (str1.isdecimal())\n",
    "str1 = \"23443434\"\n",
    "print (str1.isdecimal())"
   ]
  },
  {
   "cell_type": "markdown",
   "metadata": {},
   "source": [
    "### <font color='blue'>Lists</font>"
   ]
  },
  {
   "cell_type": "markdown",
   "metadata": {},
   "source": [
    "Lists are the most versatile of Python's compound data types. A list contains items\n",
    "separated by commas and enclosed within square brackets ([]). To some extent, lists are\n",
    "similar to arrays in C. One of the differences between them is that all the items belonging\n",
    "to a list can be of different data type.\n",
    "\n",
    "The values stored in a list can be accessed using the slice operator ([ ] and [:]) with\n",
    "indexes starting at 0 in the beginning of the list and working their way to end -1. The plus\n",
    "(+) sign is the list concatenation operator, and the asterisk (*) is the repetition operator.\n",
    "\n",
    "The list is the most versatile datatype available in Python, which can be written as a list\n",
    "of comma-separated values (items) between square brackets. Important thing about a list\n",
    "is that the items in a list need not be of the same type.\n",
    "\n",
    "Mutable"
   ]
  },
  {
   "cell_type": "code",
   "execution_count": 15,
   "metadata": {},
   "outputs": [
    {
     "name": "stdout",
     "output_type": "stream",
     "text": [
      "['abcd', 786, 2.23, 'john', 70.2]\n",
      "abcd\n",
      "[786, 2.23]\n",
      "[2.23, 'john', 70.2]\n",
      "70.2\n",
      "['abcd', 786, 2.23, 'john']\n",
      "[123, 'john', 123, 'john']\n",
      "['abcd', 786, 2.23, 'john', 70.2, 123, 'john']\n",
      "True\n",
      "False\n",
      "False\n",
      "4\n",
      "4\n",
      "1\n",
      "[123, 'C++', 'Java', 'Python']\n",
      "['abcd', 786, 2.23, 'john', 70.2, 4]\n",
      "1\n",
      "['abcd', 786, 2.23, 'john', 70.2, 4, 123, 'john']\n",
      "1\n",
      "['abcd', 786, 2.23, 9, 'john', 70.2, 4, 123, 'john']\n",
      "['abcd', 786, 2.23, 9, 'john', 70.2, 4, 123]\n",
      "None\n",
      "[123, 4, 70.2, 'john', 2.23, 786, 'abcd']\n",
      "['Biology', 'chemistry', 'maths', 'physics']\n"
     ]
    }
   ],
   "source": [
    "#!/usr/bin/python3\n",
    "#list = [ 'abcd', 786 , 2.23, 'john', 70.2 ]\n",
    "list1 = [ 'abcd', 786 , 2.23, 'john', 70.2 ]\n",
    "tinylist = [123, 'john']\n",
    "print (list1) # Prints complete list\n",
    "print (list1[0]) # Prints first element of the list\n",
    "print (list1[1:3]) # Prints elements starting from 2nd till 3rd\n",
    "print (list1[2:]) # Prints elements starting from 3rd element\n",
    "print (list1[-1]) # Prints last element\n",
    "print (list1[-len(list1):-1]) # Prints all elements\n",
    "print (tinylist * 2) # Prints list two times\n",
    "print (list1 + tinylist) # Prints concatenated lists\n",
    "print(3 in [1, 2, 3])\n",
    "print(9 in [1, 2, 3])\n",
    "print(3 not in [1, 2, 3])\n",
    "print(len([1,2,3,4]))\n",
    "print(max([1,2,3,4]))\n",
    "print(min([1,2,3,4]))\n",
    "print(list((123, 'C++', 'Java', 'Python')))\n",
    "list1.append(4)\n",
    "print(list1)\n",
    "print(list1.count(786))\n",
    "list1.extend(tinylist)\n",
    "print(list1)\n",
    "print(list1.index(786))\n",
    "list1.insert(3, 9)\n",
    "print(list1)\n",
    "list1.pop()\n",
    "print(list1)      \n",
    "print(list1.remove(9))\n",
    "list1.reverse()\n",
    "print(list1)\n",
    "list2 = ['physics', 'Biology', 'chemistry', 'maths']\n",
    "list2.sort() # cannot sort alphnumeric values\n",
    "print(list2)"
   ]
  },
  {
   "cell_type": "code",
   "execution_count": 10,
   "metadata": {},
   "outputs": [
    {
     "name": "stdout",
     "output_type": "stream",
     "text": [
      "['abcd', 786, 2.23, 'john', 70.2]\n"
     ]
    }
   ],
   "source": [
    "list1 = [ 'abcd', 786 , 2.23, 'john', 70.2 ]\n",
    "print(list1)\n",
    "list1=list1.append(4)\n",
    "list1"
   ]
  },
  {
   "cell_type": "code",
   "execution_count": 70,
   "metadata": {},
   "outputs": [
    {
     "name": "stdout",
     "output_type": "stream",
     "text": [
      "['physics', 'chemistry', 2000]\n"
     ]
    }
   ],
   "source": [
    "#Delete an aelement\n",
    "list1 = ['physics', 'chemistry', 1997, 2000]\n",
    "del list[2]\n",
    "print (list1)"
   ]
  },
  {
   "cell_type": "markdown",
   "metadata": {},
   "source": [
    "### Intersections of two lists"
   ]
  },
  {
   "cell_type": "code",
   "execution_count": 30,
   "metadata": {},
   "outputs": [
    {
     "name": "stdout",
     "output_type": "stream",
     "text": [
      "[9, 10, 4, 5]\n"
     ]
    }
   ],
   "source": [
    "# Python program to illustrate the intersection \n",
    "# of two lists using set() method \n",
    "def intersection(lst1, lst2): \n",
    "\treturn list(set(lst1) & set(lst2)) \n",
    "\n",
    "# Driver Code \n",
    "lst1 = [15, 9, 10, 56, 23, 78, 5, 4, 9] \n",
    "lst2 = [9, 4, 5, 36, 47, 26, 10, 45, 87] \n",
    "print(intersection(lst1, lst2)) "
   ]
  },
  {
   "cell_type": "code",
   "execution_count": 31,
   "metadata": {},
   "outputs": [
    {
     "name": "stdout",
     "output_type": "stream",
     "text": [
      "[9, 11, 26, 28]\n"
     ]
    }
   ],
   "source": [
    "# Python program to illustrate the intersection \n",
    "# of two lists in most simple way \n",
    "def intersection(lst1, lst2): \n",
    "\tlst3 = [value for value in lst1 if value in lst2] \n",
    "\treturn lst3 \n",
    "\n",
    "# Driver Code \n",
    "lst1 = [4, 9, 1, 17, 11, 26, 28, 54, 69] \n",
    "lst2 = [9, 9, 74, 21, 45, 11, 63, 28, 26] \n",
    "print(intersection(lst1, lst2)) "
   ]
  },
  {
   "cell_type": "code",
   "execution_count": 32,
   "metadata": {},
   "outputs": [
    {
     "name": "stdout",
     "output_type": "stream",
     "text": [
      "[9, 10, 4, 5]\n"
     ]
    }
   ],
   "source": [
    "# Python program to illustrate the intersection \n",
    "# of two lists using set() method \n",
    "def intersection(lst1, lst2): \n",
    "\treturn list(set(lst1) & set(lst2)) \n",
    "\n",
    "# Driver Code \n",
    "lst1 = [15, 9, 10, 56, 23, 78, 5, 4, 9] \n",
    "lst2 = [9, 4, 5, 36, 47, 26, 10, 45, 87] \n",
    "print(intersection(lst1, lst2)) "
   ]
  },
  {
   "cell_type": "markdown",
   "metadata": {},
   "source": [
    "### <font color='blue'>List Comprehension</font>"
   ]
  },
  {
   "cell_type": "markdown",
   "metadata": {},
   "source": [
    "https://www.geeksforgeeks.org/comprehensions-in-python/"
   ]
  },
  {
   "cell_type": "markdown",
   "metadata": {},
   "source": [
    "Comprehensions in Python provide us with a short and concise way to construct new sequences (such as lists, set, dictionary etc.) using sequences which have been already defined."
   ]
  },
  {
   "cell_type": "markdown",
   "metadata": {},
   "source": [
    "List Comprehensions provide an elegant way to create new lists. The following is the basic structure of a list comprehension:"
   ]
  },
  {
   "cell_type": "code",
   "execution_count": 1,
   "metadata": {},
   "outputs": [
    {
     "name": "stdout",
     "output_type": "stream",
     "text": [
      "Output List using for loop: [2, 4, 4, 6]\n"
     ]
    }
   ],
   "source": [
    "# Constructing output list of even numbers WITHOUT \n",
    "# Using List comprehensions \n",
    "input_list = [1, 2, 3, 4, 4, 5, 6, 7, 7] \n",
    "\n",
    "output_list = [] \n",
    "\n",
    "# Using loop for constructing output list \n",
    "for var in input_list: \n",
    "\tif var % 2 == 0: \n",
    "\t\toutput_list.append(var) \n",
    "print(\"Output List using for loop:\", output_list) \n"
   ]
  },
  {
   "cell_type": "code",
   "execution_count": 2,
   "metadata": {},
   "outputs": [
    {
     "name": "stdout",
     "output_type": "stream",
     "text": [
      "Output List using list comprehensions: [2, 4, 4, 6]\n"
     ]
    }
   ],
   "source": [
    "# Using List comprehensions \n",
    "# for constructing output list \n",
    "\n",
    "input_list = [1, 2, 3, 4, 4, 5, 6, 7, 7] \n",
    "\n",
    "\n",
    "list_using_comp = [var for var in input_list if var % 2 == 0] \n",
    "\n",
    "print(\"Output List using list comprehensions:\",list_using_comp) \n"
   ]
  },
  {
   "cell_type": "code",
   "execution_count": 3,
   "metadata": {},
   "outputs": [
    {
     "name": "stdout",
     "output_type": "stream",
     "text": [
      "Output List using for loop: [1, 4, 9, 16, 25, 36, 49, 64, 81]\n"
     ]
    }
   ],
   "source": [
    "# Constructing output list of squares using for loop \n",
    "output_list = [] \n",
    "for var in range(1, 10): \n",
    "\toutput_list.append(var ** 2) \n",
    "\t\n",
    "print(\"Output List using for loop:\", output_list) \n"
   ]
  },
  {
   "cell_type": "code",
   "execution_count": 4,
   "metadata": {},
   "outputs": [
    {
     "name": "stdout",
     "output_type": "stream",
     "text": [
      "Output List using list comprehension: [1, 4, 9, 16, 25, 36, 49, 64, 81]\n"
     ]
    }
   ],
   "source": [
    "# Constructing output list of squares\n",
    "# using list comprehension \n",
    "list_using_comp = [var**2 for var in range(1, 10)] \n",
    "print(\"Output List using list comprehension:\",list_using_comp) \n"
   ]
  },
  {
   "cell_type": "markdown",
   "metadata": {},
   "source": [
    "output_list = [output_exp for var in input_list if (var satisfies this condition)]"
   ]
  },
  {
   "cell_type": "markdown",
   "metadata": {},
   "source": [
    "Note that list comprehension may or may not contain an if condition. List comprehensions can contain multiple for (nested list comprehensions)."
   ]
  },
  {
   "cell_type": "code",
   "execution_count": 11,
   "metadata": {},
   "outputs": [
    {
     "name": "stdout",
     "output_type": "stream",
     "text": [
      "[(1, 'a'), (1, 'b'), (1, 'c'), (1, 'd'), (1, 'e'), (2, 'a'), (2, 'b'), (2, 'c'), (2, 'd'), (2, 'e'), (3, 'a'), (3, 'b'), (3, 'c'), (3, 'd'), (3, 'e'), (4, 'a'), (4, 'b'), (4, 'c'), (4, 'd'), (4, 'e'), (5, 'a'), (5, 'b'), (5, 'c'), (5, 'd'), (5, 'e')]\n",
      "25\n"
     ]
    }
   ],
   "source": [
    "lst1 = [1,2,3,4,5]\n",
    "lst2 = ['a','b','c','d','e']\n",
    "lst=[(i,j) for i in lst1 for j in lst2] # permutation\n",
    "print(lst)\n",
    "print(len(lst))"
   ]
  },
  {
   "cell_type": "code",
   "execution_count": 12,
   "metadata": {},
   "outputs": [
    {
     "name": "stdout",
     "output_type": "stream",
     "text": [
      "[(1, 'a'), (2, 'b'), (3, 'c'), (4, 'd'), (5, 'e')]\n",
      "5\n"
     ]
    }
   ],
   "source": [
    "# List paring\n",
    "lst1 = [1,2,3,4,5]\n",
    "lst2 = ['a','b','c','d','e']\n",
    "lst=[i for i in zip(lst1,lst2)] # permutation\n",
    "print(lst)\n",
    "print(len(lst))"
   ]
  },
  {
   "cell_type": "code",
   "execution_count": 17,
   "metadata": {},
   "outputs": [
    {
     "name": "stdout",
     "output_type": "stream",
     "text": [
      "[(1, 'a'), (2, 'b'), (3, 'c'), (4, 'd'), (5, 'e')]\n",
      "[(1, 2, 3, 4, 5), ('a', 'b', 'c', 'd', 'e')]\n",
      "[1, 2, 3, 4, 5]\n",
      "['a', 'b', 'c', 'd', 'e']\n"
     ]
    }
   ],
   "source": [
    "# Unpair or flatten\n",
    "lst1 = [1,2,3,4,5]\n",
    "lst2 = ['a','b','c','d','e']\n",
    "lst=[i for i in zip(lst1,lst2)] # permutation\n",
    "print(lst)\n",
    "print(list(zip(*lst))) # returns a pair of tuples in a list\n",
    "l1=list(list(zip(*lst))[0])\n",
    "print(l1)\n",
    "l2=list(list(zip(*lst))[1])\n",
    "print(l2)"
   ]
  },
  {
   "cell_type": "code",
   "execution_count": 19,
   "metadata": {},
   "outputs": [
    {
     "data": {
      "text/plain": [
       "[('square', 'red'),\n",
       " ('square', 'green'),\n",
       " ('circle', 'red'),\n",
       " ('circle', 'green'),\n",
       " ('triangle', 'red'),\n",
       " ('triangle', 'green')]"
      ]
     },
     "execution_count": 19,
     "metadata": {},
     "output_type": "execute_result"
    }
   ],
   "source": [
    "# Permutation of two lists\n",
    "list1 = ['square','circle','triangle']\n",
    "list2 = ['red','green']\n",
    "import itertools\n",
    "list(itertools.product(list1,list2))   "
   ]
  },
  {
   "cell_type": "code",
   "execution_count": 29,
   "metadata": {},
   "outputs": [
    {
     "name": "stdout",
     "output_type": "stream",
     "text": [
      "['1', '2', '3']\n",
      "['1', '3', '2']\n",
      "['2', '1', '3']\n",
      "['2', '3', '1']\n",
      "['3', '1', '2']\n",
      "['3', '2', '1']\n"
     ]
    }
   ],
   "source": [
    "# Python function to print permutations of a given list \n",
    "def permutation(lst): \n",
    "    # If lst is empty then there are no permutations \n",
    "    if len(lst) == 0: \n",
    "        return [] \n",
    "\n",
    "    # If there is only one element in lst then, only \n",
    "    # one permuatation is possible \n",
    "    if len(lst) == 1: \n",
    "        return [lst] \n",
    "\n",
    "    # Find the permutations for lst if there are \n",
    "    # more than 1 characters \n",
    "\n",
    "    l = [] # empty list that will store current permutation \n",
    "\n",
    "    # Iterate the input(lst) and calculate the permutation \n",
    "    for i in range(len(lst)): \n",
    "        m = lst[i] \n",
    "\n",
    "        # Extract lst[i] or m from the list. remLst is \n",
    "        # remaining list \n",
    "        remLst = lst[:i] + lst[i+1:] \n",
    "\n",
    "        # Generating all permutations where m is first \n",
    "        # element \n",
    "        for p in permutation(remLst): \n",
    "            l.append([m] + p) \n",
    "    return l \n",
    "\n",
    "\n",
    "# Driver program to test above function \n",
    "data = list('123') \n",
    "for p in permutation(data): \n",
    "\tprint(p) \n"
   ]
  },
  {
   "cell_type": "markdown",
   "metadata": {},
   "source": [
    "### <font color='blue'>Some Applications of List Comprehensions</font>"
   ]
  },
  {
   "cell_type": "code",
   "execution_count": 5,
   "metadata": {},
   "outputs": [
    {
     "data": {
      "text/plain": [
       "[(0, 0), (0, 1), (0, 2), (1, 0), (1, 1), (1, 2), (2, 0), (2, 1), (2, 2)]"
      ]
     },
     "execution_count": 5,
     "metadata": {},
     "output_type": "execute_result"
    }
   ],
   "source": [
    "# Grid Points\n",
    "import itertools\n",
    "n=3\n",
    "lines=[i for i in range(n)]\n",
    "dirn=[lines for i in range(2)]\n",
    "gpts=list(itertools.product(*dirn))# cartesian product\n",
    "gpts"
   ]
  },
  {
   "cell_type": "code",
   "execution_count": 4,
   "metadata": {},
   "outputs": [
    {
     "data": {
      "text/plain": [
       "[[0, 1], [0, 1]]"
      ]
     },
     "execution_count": 4,
     "metadata": {},
     "output_type": "execute_result"
    }
   ],
   "source": [
    "dirn"
   ]
  },
  {
   "cell_type": "code",
   "execution_count": 6,
   "metadata": {},
   "outputs": [
    {
     "data": {
      "text/plain": [
       "6"
      ]
     },
     "execution_count": 6,
     "metadata": {},
     "output_type": "execute_result"
    }
   ],
   "source": [
    "def generate_2Dgridpoints(n):\n",
    "    \"\"\"@Input: n, number of lines\n",
    "       @Output: Grid Intersection point coordinates\"\"\"\n",
    "    lines=[i for i in range(n)]\n",
    "    dirn=[lines for i in range(2)]  # For 2D, for dimensions greater than 2, \n",
    "                                         #multiply by 2^(d-2)\n",
    "    grid_points=list(itertools.product(*dirn)) # cartesian product   \n",
    "    return grid_points\n",
    "\n",
    "def is_move(tupl):\n",
    "    \"\"\"@Input: Takes one possible walk comprising m steps\n",
    "       @Output: Validates the walks and returns True if the walk is valid\"\"\"\n",
    "    steps=[(0,1),(0,-1),(1,0),(-1,0)] #allowed moves/steps\n",
    "    logics=[]\n",
    "    for i in range(len(tupl)-1):\n",
    "        xx=[]\n",
    "        for k in range(len(steps)):\n",
    "            x1=(tupl[i+1][0]==tupl[i][0]+steps[k][0]) and \\\n",
    "                (tupl[i+1][1]==tupl[i][1]+steps[k][1]) \n",
    "            if x1==True:\n",
    "                xx.append(x1)\n",
    "        logics.append(any(xx))\n",
    "    return all(logics)\n",
    "\n",
    "# Given Example: d=2, n=3, and m=2 (just for my curiosity)\n",
    "def generate_valid2steps(start,grid_points):  \n",
    "    \"\"\"@Input: It takes in the start of a walk and grid intersection points\n",
    "       @Output: Returns valid walks containing m=2 steps\"\"\"\n",
    "    validwalks=[[i,j,k]  for i in start \n",
    "                         for j in grid_points \n",
    "                         for k in grid_points if is_move([i,j,k])]    \n",
    "    return len(validwalks)\n",
    "start=[(0,0)]\n",
    "grid_points=generate_2Dgridpoints(n)\n",
    "generate_valid2steps(start,grid_points)"
   ]
  },
  {
   "cell_type": "markdown",
   "metadata": {},
   "source": [
    "### <font color='blue'>Set</font>"
   ]
  },
  {
   "cell_type": "markdown",
   "metadata": {},
   "source": [
    "In Python, Set is an unordered collection of data type that is iterable, mutable and has no duplicate elements. The order of elements in a set is undefined though it may consist of various elements.\n",
    "\n",
    "The major advantage of using a set, as opposed to a list, is that it has a highly optimized method for checking whether a specific element is contained in the set."
   ]
  },
  {
   "cell_type": "code",
   "execution_count": 33,
   "metadata": {},
   "outputs": [
    {
     "name": "stdout",
     "output_type": "stream",
     "text": [
      "Intial blank Set: \n",
      "set()\n",
      "\n",
      "Set with the use of String: \n",
      "{'s', 'o', 'F', 'r', 'k', 'G', 'e'}\n",
      "\n",
      "Set with the use of an Object: \n",
      "{'s', 'o', 'F', 'r', 'k', 'G', 'e'}\n",
      "\n",
      "Set with the use of List: \n",
      "{'Geeks', 'For'}\n"
     ]
    }
   ],
   "source": [
    "# Python program to demonstrate \n",
    "# Creation of Set in Python \n",
    "\n",
    "# Creating a Set \n",
    "set1 = set() \n",
    "print(\"Intial blank Set: \") \n",
    "print(set1) \n",
    "\n",
    "# Creating a Set with \n",
    "# the use of a String \n",
    "set1 = set(\"GeeksForGeeks\") \n",
    "print(\"\\nSet with the use of String: \") \n",
    "print(set1) \n",
    "\n",
    "# Creating a Set with \n",
    "# the use of Constructor \n",
    "# (Using object to Store String) \n",
    "String = 'GeeksForGeeks'\n",
    "set1 = set(String) \n",
    "print(\"\\nSet with the use of an Object: \" ) \n",
    "print(set1) \n",
    "\n",
    "# Creating a Set with \n",
    "# the use of a List \n",
    "set1 = set([\"Geeks\", \"For\", \"Geeks\"]) \n",
    "print(\"\\nSet with the use of List: \") \n",
    "print(set1) "
   ]
  },
  {
   "cell_type": "code",
   "execution_count": 34,
   "metadata": {},
   "outputs": [
    {
     "name": "stdout",
     "output_type": "stream",
     "text": [
      "\n",
      "Set with the use of Numbers: \n",
      "{1, 2, 3, 4, 5, 6}\n",
      "\n",
      "Set with the use of Mixed Values\n",
      "{1, 2, 'Geeks', 4, 'For', 6}\n"
     ]
    }
   ],
   "source": [
    "# Creating a Set with \n",
    "# a List of Numbers \n",
    "# (Having duplicate values) \n",
    "set1 = set([1, 2, 4, 4, 3, 3, 3, 6, 5]) \n",
    "print(\"\\nSet with the use of Numbers: \") \n",
    "print(set1) \n",
    "\n",
    "# Creating a Set with \n",
    "# a mixed type of values \n",
    "# (Having numbers and strings) \n",
    "set1 = set([1, 2, 'Geeks', 4, 'For', 6, 'Geeks']) \n",
    "print(\"\\nSet with the use of Mixed Values\") \n",
    "print(set1) "
   ]
  },
  {
   "cell_type": "code",
   "execution_count": 35,
   "metadata": {},
   "outputs": [
    {
     "name": "stdout",
     "output_type": "stream",
     "text": [
      "Intial blank Set: \n",
      "set()\n",
      "\n",
      "Set after Addition of Three elements: \n",
      "{8, 9, (6, 7)}\n",
      "\n",
      "Set after Addition of elements from 1-5: \n",
      "{1, 2, 3, (6, 7), 4, 5, 8, 9}\n"
     ]
    }
   ],
   "source": [
    "# Python program to demonstrate \n",
    "# Addition of elements in a Set \n",
    "\n",
    "# Creating a Set \n",
    "set1 = set() \n",
    "print(\"Intial blank Set: \") \n",
    "print(set1) \n",
    "\n",
    "# Adding element and tuple to the Set \n",
    "set1.add(8) \n",
    "set1.add(9) \n",
    "set1.add((6,7)) \n",
    "print(\"\\nSet after Addition of Three elements: \") \n",
    "print(set1) \n",
    "\n",
    "# Adding elements to the Set \n",
    "# using Iterator \n",
    "for i in range(1, 6): \n",
    "\tset1.add(i) \n",
    "print(\"\\nSet after Addition of elements from 1-5: \") \n",
    "print(set1)"
   ]
  },
  {
   "cell_type": "code",
   "execution_count": 36,
   "metadata": {},
   "outputs": [
    {
     "name": "stdout",
     "output_type": "stream",
     "text": [
      "\n",
      "Set after Addition of elements using Update: \n",
      "{4, 5, (6, 7), 10, 11}\n"
     ]
    }
   ],
   "source": [
    "# Python program to demonstrate \n",
    "# Addition of elements in a Set \n",
    "\n",
    "# Addition of elements to the Set \n",
    "# using Update function \n",
    "set1 = set([ 4, 5, (6, 7)]) \n",
    "set1.update([10, 11]) \n",
    "print(\"\\nSet after Addition of elements using Update: \") \n",
    "print(set1) "
   ]
  },
  {
   "cell_type": "code",
   "execution_count": 37,
   "metadata": {},
   "outputs": [
    {
     "name": "stdout",
     "output_type": "stream",
     "text": [
      "\n",
      "Initial set\n",
      "{'Geeks', 'For'}\n",
      "\n",
      "Elements of set: \n",
      "Geeks For True\n"
     ]
    }
   ],
   "source": [
    "# Python program to demonstrate \n",
    "# Accessing of elements in a set \n",
    "\n",
    "# Creating a set \n",
    "set1 = set([\"Geeks\", \"For\", \"Geeks\"]) \n",
    "print(\"\\nInitial set\") \n",
    "print(set1) \n",
    "\n",
    "# Accessing element using \n",
    "# for loop \n",
    "print(\"\\nElements of set: \") \n",
    "for i in set1: \n",
    "\tprint(i, end=\" \") \n",
    "\n",
    "# Checking the element \n",
    "# using in keyword \n",
    "print(\"Geeks\" in set1) "
   ]
  },
  {
   "cell_type": "code",
   "execution_count": 38,
   "metadata": {},
   "outputs": [
    {
     "name": "stdout",
     "output_type": "stream",
     "text": [
      "Intial Set: \n",
      "{1, 2, 3, 4, 5, 6, 7, 8, 9, 10, 11, 12}\n",
      "\n",
      "Set after Removal of two elements: \n",
      "{1, 2, 3, 4, 7, 8, 9, 10, 11, 12}\n",
      "\n",
      "Set after Discarding two elements: \n",
      "{1, 2, 3, 4, 7, 10, 11, 12}\n",
      "\n",
      "Set after Removing a range of elements: \n",
      "{7, 10, 11, 12}\n"
     ]
    }
   ],
   "source": [
    "# Python program to demonstrate \n",
    "# Deletion of elements in a Set \n",
    "\n",
    "# Creating a Set \n",
    "set1 = set([1, 2, 3, 4, 5, 6, \n",
    "\t\t\t7, 8, 9, 10, 11, 12]) \n",
    "print(\"Intial Set: \") \n",
    "print(set1) \n",
    "\n",
    "# Removing elements from Set \n",
    "# using Remove() method \n",
    "set1.remove(5) \n",
    "set1.remove(6) \n",
    "print(\"\\nSet after Removal of two elements: \") \n",
    "print(set1) \n",
    "\n",
    "# Removing elements from Set \n",
    "# using Discard() method \n",
    "set1.discard(8) \n",
    "set1.discard(9) \n",
    "print(\"\\nSet after Discarding two elements: \") \n",
    "print(set1) \n",
    "\n",
    "# Removing elements from Set \n",
    "# using iterator method \n",
    "for i in range(1, 5): \n",
    "\tset1.remove(i) \n",
    "print(\"\\nSet after Removing a range of elements: \") \n",
    "print(set1) "
   ]
  },
  {
   "cell_type": "code",
   "execution_count": 39,
   "metadata": {},
   "outputs": [
    {
     "name": "stdout",
     "output_type": "stream",
     "text": [
      "Intial Set: \n",
      "{1, 2, 3, 4, 5, 6, 7, 8, 9, 10, 11, 12}\n",
      "\n",
      "Set after popping an element: \n",
      "{2, 3, 4, 5, 6, 7, 8, 9, 10, 11, 12}\n"
     ]
    }
   ],
   "source": [
    "# Python program to demonstrate \n",
    "# Deletion of elements in a Set \n",
    "\n",
    "# Creating a Set \n",
    "set1 = set([1, 2, 3, 4, 5, 6, \n",
    "\t\t\t7, 8, 9, 10, 11, 12]) \n",
    "print(\"Intial Set: \") \n",
    "print(set1) \n",
    "\n",
    "# Removing element from the \n",
    "# Set using the pop() method \n",
    "set1.pop() \n",
    "print(\"\\nSet after popping an element: \") \n",
    "print(set1) "
   ]
  },
  {
   "cell_type": "code",
   "execution_count": 40,
   "metadata": {},
   "outputs": [
    {
     "name": "stdout",
     "output_type": "stream",
     "text": [
      "\n",
      " Initial set: \n",
      "{1, 2, 3, 4, 5}\n",
      "\n",
      "Set after clearing all the elements: \n",
      "set()\n"
     ]
    }
   ],
   "source": [
    "#Creating a set \n",
    "set1 = set([1,2,3,4,5]) \n",
    "print(\"\\n Initial set: \") \n",
    "print(set1) \n",
    "\n",
    "\n",
    "# Removing all the elements from \n",
    "# Set using clear() method \n",
    "set1.clear() \n",
    "print(\"\\nSet after clearing all the elements: \") \n",
    "print(set1) "
   ]
  },
  {
   "cell_type": "code",
   "execution_count": 41,
   "metadata": {},
   "outputs": [
    {
     "name": "stdout",
     "output_type": "stream",
     "text": [
      "The FrozenSet is: \n",
      "frozenset({'s', 'o', 'F', 'r', 'k', 'G', 'e'})\n",
      "\n",
      "Empty FrozenSet: \n",
      "frozenset()\n"
     ]
    }
   ],
   "source": [
    "# Python program to demonstrate \n",
    "# working of a FrozenSet \n",
    "\n",
    "# Creating a Set \n",
    "String = ('G', 'e', 'e', 'k', 's', 'F', 'o', 'r') \n",
    "\n",
    "Fset1 = frozenset(String) \n",
    "print(\"The FrozenSet is: \") \n",
    "print(Fset1) \n",
    "\n",
    "# To print Empty Frozen Set \n",
    "# No parameter is passed \n",
    "print(\"\\nEmpty FrozenSet: \") \n",
    "print(frozenset()) "
   ]
  },
  {
   "cell_type": "code",
   "execution_count": 42,
   "metadata": {},
   "outputs": [
    {
     "name": "stdout",
     "output_type": "stream",
     "text": [
      "set1 intersection set2 :  {4, 6}\n",
      "set1 intersection set2 intersection set3 : {4, 6}\n"
     ]
    }
   ],
   "source": [
    "# Python3 program for intersection() function \n",
    "\n",
    "set1 = {2, 4, 5, 6} \n",
    "set2 = {4, 6, 7, 8} \n",
    "set3 = {4,6,8} \n",
    "\n",
    "# union of two sets \n",
    "print(\"set1 intersection set2 : \", set1.intersection(set2)) \n",
    "\n",
    "# union of three sets \n",
    "print(\"set1 intersection set2 intersection set3 :\", set1.intersection(set2,set3)) "
   ]
  },
  {
   "cell_type": "markdown",
   "metadata": {},
   "source": [
    "### <font color='blue'>Set Comprehension</font>"
   ]
  },
  {
   "cell_type": "markdown",
   "metadata": {},
   "source": [
    "Set comprehensions are pretty similar to list comprehensions. The only difference between them is that set comprehensions use curly brackets { }."
   ]
  },
  {
   "cell_type": "code",
   "execution_count": 5,
   "metadata": {},
   "outputs": [
    {
     "name": "stdout",
     "output_type": "stream",
     "text": [
      "Output Set using for loop: {2, 4, 6}\n"
     ]
    }
   ],
   "source": [
    "input_list = [1, 2, 3, 4, 4, 5, 6, 6, 6, 7, 7] \n",
    "\n",
    "output_set = set() \n",
    "\n",
    "# Using loop for constructing output set \n",
    "for var in input_list: \n",
    "\tif var % 2 == 0: \n",
    "\t\toutput_set.add(var) \n",
    "\n",
    "print(\"Output Set using for loop:\", output_set) \n"
   ]
  },
  {
   "cell_type": "code",
   "execution_count": 6,
   "metadata": {},
   "outputs": [
    {
     "name": "stdout",
     "output_type": "stream",
     "text": [
      "Output Set using set comprehensions: {2, 4, 6}\n"
     ]
    }
   ],
   "source": [
    "# Using Set comprehensions \n",
    "# for constructing output set \n",
    "\n",
    "input_list = [1, 2, 3, 4, 4, 5, 6, 6, 6, 7, 7] \n",
    "\n",
    "set_using_comp = {var for var in input_list if var % 2 == 0} \n",
    "\n",
    "print(\"Output Set using set comprehensions:\", \n",
    "\t\t\t\t\t\t\tset_using_comp) "
   ]
  },
  {
   "cell_type": "markdown",
   "metadata": {},
   "source": [
    "### <font color='blue'>Tuple</font>"
   ]
  },
  {
   "cell_type": "markdown",
   "metadata": {},
   "source": [
    "A tuple is another sequence data type that is similar to the list. A tuple consists of a\n",
    "number of values separated by commas. Unlike lists, however, tuples are enclosed within\n",
    "parenthesis.\n",
    "\n",
    "The main difference between lists and tuples is- Lists are enclosed in brackets ( [ ] ) and\n",
    "their elements and size can be changed, while tuples are enclosed in parentheses ( ( ) )\n",
    "and cannot be updated. Tuples can be thought of as read-only lists.\n",
    "\n",
    "Immutable"
   ]
  },
  {
   "cell_type": "code",
   "execution_count": 43,
   "metadata": {},
   "outputs": [
    {
     "name": "stdout",
     "output_type": "stream",
     "text": [
      "('abcd', 786, 2.23, 'john', 70.2)\n",
      "abcd\n",
      "(786, 2.23)\n",
      "(2.23, 'john', 70.2)\n",
      "(123, 'john', 123, 'john')\n",
      "('abcd', 786, 2.23, 'john', 70.2, 123, 'john')\n"
     ]
    }
   ],
   "source": [
    "#!/usr/bin/python3\n",
    "#tuple = ( 'abcd', 786 , 2.23, 'john', 70.2) ok but creates a pbm later\n",
    "tup1 = ();\n",
    "tuple1 = ( 'abcd', 786 , 2.23, 'john', 70.2)\n",
    "tinytuple = (123, 'john')\n",
    "print (tuple1) # Prints complete tuple\n",
    "print (tuple1[0]) # Prints first element of the tuple\n",
    "print (tuple1[1:3]) # Prints elements starting from 2nd till 3rd\n",
    "print (tuple1[2:]) # Prints elements starting from 3rd element\n",
    "print (tinytuple * 2) # Prints tuple two times\n",
    "print (tuple1 + tinytuple) # Prints concatenated tuple"
   ]
  },
  {
   "cell_type": "code",
   "execution_count": 17,
   "metadata": {},
   "outputs": [
    {
     "name": "stdout",
     "output_type": "stream",
     "text": [
      "('physics', 'chemistry', 1997, 2000)\n"
     ]
    },
    {
     "ename": "NameError",
     "evalue": "name 'tup' is not defined",
     "output_type": "error",
     "traceback": [
      "\u001b[0;31m---------------------------------------------------------------------------\u001b[0m",
      "\u001b[0;31mNameError\u001b[0m                                 Traceback (most recent call last)",
      "\u001b[0;32m<ipython-input-17-fd947e117467>\u001b[0m in \u001b[0;36m<module>\u001b[0;34m\u001b[0m\n\u001b[1;32m      3\u001b[0m \u001b[0mprint\u001b[0m \u001b[0;34m(\u001b[0m\u001b[0mtup\u001b[0m\u001b[0;34m)\u001b[0m\u001b[0;34m\u001b[0m\u001b[0;34m\u001b[0m\u001b[0m\n\u001b[1;32m      4\u001b[0m \u001b[0;32mdel\u001b[0m \u001b[0mtup\u001b[0m\u001b[0;34m;\u001b[0m\u001b[0;34m\u001b[0m\u001b[0;34m\u001b[0m\u001b[0m\n\u001b[0;32m----> 5\u001b[0;31m \u001b[0mprint\u001b[0m \u001b[0;34m(\u001b[0m\u001b[0mtup\u001b[0m\u001b[0;34m)\u001b[0m\u001b[0;34m\u001b[0m\u001b[0;34m\u001b[0m\u001b[0m\n\u001b[0m",
      "\u001b[0;31mNameError\u001b[0m: name 'tup' is not defined"
     ]
    }
   ],
   "source": [
    "#Delete tuple\n",
    "tup = ('physics', 'chemistry', 1997, 2000);\n",
    "print (tup)\n",
    "del tup;\n",
    "print (tup)"
   ]
  },
  {
   "cell_type": "code",
   "execution_count": 25,
   "metadata": {},
   "outputs": [
    {
     "name": "stdout",
     "output_type": "stream",
     "text": [
      "3\n",
      "(1, 2, 3, 4, 5, 6)\n",
      "('Hi!', 'Hi!', 'Hi!', 'Hi!')\n",
      "True\n",
      "False\n",
      "1 2 3 \n",
      " 3\n",
      "1\n",
      "(1, 2, 3)\n"
     ]
    }
   ],
   "source": [
    "print(len((1, 2, 3)))\n",
    "print((1, 2, 3) + (4, 5, 6))\n",
    "print(('Hi!',) * 4)\n",
    "print(3 in (1, 2, 3))\n",
    "print(3 not in (1, 2, 3))\n",
    "for x in (1,2,3): print (x, end=' ')\n",
    "print(\"\\n\",max((1, 2, 3)))\n",
    "print(min((1,2,5,6)))\n",
    "print(tuple([1,2,3]))"
   ]
  },
  {
   "cell_type": "markdown",
   "metadata": {},
   "source": [
    "### <font color='blue'>Dictionary</font>"
   ]
  },
  {
   "cell_type": "markdown",
   "metadata": {},
   "source": [
    "Python's dictionaries are kind of hash-table type. They work like associative arrays or\n",
    "hashes found in Perl and consist of key-value pairs. A dictionary key can be almost any\n",
    "Python type, but are usually numbers or strings. Values, on the other hand, can be any\n",
    "arbitrary Python object.\n",
    "\n",
    "Dictionaries are enclosed by curly braces ({ }) and values can be assigned and accessed\n",
    "using square braces ([])."
   ]
  },
  {
   "cell_type": "code",
   "execution_count": 27,
   "metadata": {},
   "outputs": [
    {
     "name": "stdout",
     "output_type": "stream",
     "text": [
      "This is one\n",
      "This is two\n",
      "{'name': 'john', 'code': 6734, 'dept': 'sales'}\n",
      "dict_keys(['name', 'code', 'dept'])\n",
      "dict_values(['john', 6734, 'sales'])\n",
      "dict_items([('name', 'john'), ('code', 6734), ('dept', 'sales')])\n",
      "name john\n",
      "code 6734\n",
      "dept sales\n"
     ]
    }
   ],
   "source": [
    "#!/usr/bin/python3\n",
    "dict1 = {}\n",
    "dict1['one'] = \"This is one\"\n",
    "dict1[2]= \"This is two\"\n",
    "tinydict = {'name': 'john','code':6734, 'dept': 'sales'}\n",
    "print (dict1['one']) # Prints value for 'one' key\n",
    "print (dict1[2]) # Prints value for 2 key\n",
    "print (tinydict) # Prints complete dictionary\n",
    "print (tinydict.keys()) # Prints all the keys\n",
    "print (tinydict.values()) # Prints all the values\n",
    "print (tinydict.items()) # Prints all the key-value pairs\n",
    "for k,v in tinydict.items():\n",
    "    print(k,v)"
   ]
  },
  {
   "cell_type": "markdown",
   "metadata": {},
   "source": [
    "Dictionaries have no concept of order among the elements. It is incorrect to say that the\n",
    "elements are \"out of order\"; they are simply unordered.\n",
    "\n",
    "(a) More than one entry per key is not allowed. This means no duplicate key is allowed.\n",
    "When duplicate keys are encountered during assignment, the last assignment wins.\n",
    "\n",
    "(b) Keys must be immutable. This means you can use strings, numbers or tuples as\n",
    "dictionary keys but something like ['key'] is not allowed."
   ]
  },
  {
   "cell_type": "code",
   "execution_count": 30,
   "metadata": {},
   "outputs": [
    {
     "name": "stdout",
     "output_type": "stream",
     "text": [
      "dict['Name']:  Manni\n"
     ]
    },
    {
     "ename": "TypeError",
     "evalue": "unhashable type: 'list'",
     "output_type": "error",
     "traceback": [
      "\u001b[0;31m---------------------------------------------------------------------------\u001b[0m",
      "\u001b[0;31mTypeError\u001b[0m                                 Traceback (most recent call last)",
      "\u001b[0;32m<ipython-input-30-14a058bbb5d6>\u001b[0m in \u001b[0;36m<module>\u001b[0;34m\u001b[0m\n\u001b[1;32m      7\u001b[0m \u001b[0mprint\u001b[0m \u001b[0;34m(\u001b[0m\u001b[0;34m\"dict['Name']: \"\u001b[0m\u001b[0;34m,\u001b[0m \u001b[0mdict\u001b[0m\u001b[0;34m[\u001b[0m\u001b[0;34m'Name'\u001b[0m\u001b[0;34m]\u001b[0m\u001b[0;34m)\u001b[0m\u001b[0;34m\u001b[0m\u001b[0;34m\u001b[0m\u001b[0m\n\u001b[1;32m      8\u001b[0m \u001b[0;34m\u001b[0m\u001b[0m\n\u001b[0;32m----> 9\u001b[0;31m \u001b[0mdict\u001b[0m \u001b[0;34m=\u001b[0m \u001b[0;34m{\u001b[0m\u001b[0;34m[\u001b[0m\u001b[0;34m'Name'\u001b[0m\u001b[0;34m]\u001b[0m\u001b[0;34m:\u001b[0m \u001b[0;34m'Zara'\u001b[0m\u001b[0;34m,\u001b[0m \u001b[0;34m'Age'\u001b[0m\u001b[0;34m:\u001b[0m \u001b[0;36m7\u001b[0m\u001b[0;34m}\u001b[0m\u001b[0;34m\u001b[0m\u001b[0;34m\u001b[0m\u001b[0m\n\u001b[0m\u001b[1;32m     10\u001b[0m \u001b[0mprint\u001b[0m \u001b[0;34m(\u001b[0m\u001b[0;34m\"dict['Name']: \"\u001b[0m\u001b[0;34m,\u001b[0m \u001b[0mdict\u001b[0m\u001b[0;34m[\u001b[0m\u001b[0;34m'Name'\u001b[0m\u001b[0;34m]\u001b[0m\u001b[0;34m)\u001b[0m\u001b[0;34m\u001b[0m\u001b[0;34m\u001b[0m\u001b[0m\n",
      "\u001b[0;31mTypeError\u001b[0m: unhashable type: 'list'"
     ]
    }
   ],
   "source": [
    "dict1 = {'Name': 'Zara', 'Age': 7, 'Class': 'First'}\n",
    "del dict1['Name'] # remove entry with key 'Name'\n",
    "dict1.clear() # remove all entries in dict\n",
    "del dict1 # delete entire dictionary\n",
    "\n",
    "dict1 = {'Name': 'Zara', 'Age': 7, 'Name': 'Manni'}\n",
    "print (\"dict['Name']: \", dict1['Name'])\n",
    "\n",
    "dict1 = {['Name']: 'Zara', 'Age': 7}\n",
    "print (\"dict['Name']: \", dict1['Name'])"
   ]
  },
  {
   "cell_type": "code",
   "execution_count": 33,
   "metadata": {
    "scrolled": true
   },
   "outputs": [
    {
     "name": "stdout",
     "output_type": "stream",
     "text": [
      "3\n",
      "{'Name': 'Zara', 'Age': 7, 'Class': 'First'}\n",
      "<class 'dict'>\n"
     ]
    }
   ],
   "source": [
    "dict1 = {'Name': 'Zara', 'Age': 7, 'Class': 'First'}\n",
    "print(len(dict1))\n",
    "print(str(dict1))\n",
    "print(type(dict1))"
   ]
  },
  {
   "cell_type": "code",
   "execution_count": 38,
   "metadata": {},
   "outputs": [
    {
     "name": "stdout",
     "output_type": "stream",
     "text": [
      "Start Len : 2\n",
      "End Len : 0\n",
      "New Dictionary :  {'Name': 'Manni', 'Age': 7, 'Class': 'First'}\n",
      "New Dictionary : {'name': None, 'age': None, 'sex': None}\n",
      "New Dictionary : {'name': 10, 'age': 10, 'sex': 10}\n",
      "Value : 27\n",
      "Value : NA\n",
      "Value : dict_items([('Name', 'Zara'), ('Age', 7)])\n",
      "Value : dict_items([('Name', 'Zara'), ('Age', 7)])\n",
      "Value : dict_keys(['Name', 'Age'])\n",
      "Value : 7\n",
      "Value : None\n",
      "{'Name': 'Zara', 'Age': 7, 'Sex': None}\n",
      "updated dict :  {'Name': 'Zara', 'Age': 7, 'Sex': 'female'}\n",
      "Values :  ['female', 7, 'Zara']\n"
     ]
    }
   ],
   "source": [
    "dict1 = {'Name': 'Zara', 'Age': 7, 'Class': 'First'}\n",
    "dict1.clear() #Removes all elements of dictionary dict.\n",
    "dict1 = {'Name': 'Zara', 'Age': 7}\n",
    "print (\"Start Len : %d\" %len(dict1))\n",
    "dict1.clear()\n",
    "print (\"End Len : %d\" %len(dict1))\n",
    "\n",
    "# Returns a shallow copy of dictionary dict.\n",
    "dict1 = {'Name': 'Manni', 'Age': 7, 'Class': 'First'}\n",
    "dict2 = dict1.copy()\n",
    "print (\"New Dictionary : \",dict2)\n",
    "\n",
    "# Create a new dictionary with keys from seq and values set to value.\n",
    "seq = ('name', 'age', 'sex')\n",
    "dict1 = dict1.fromkeys(seq)\n",
    "print (\"New Dictionary : %s\" %\n",
    "str(dict1))\n",
    "dict1 = dict1.fromkeys(seq, 10)\n",
    "print (\"New Dictionary : %s\" %\n",
    "str(dict1))\n",
    "\n",
    "#For key key, returns value or default if key not in dictionary.\n",
    "dict1 = {'Name': 'Zara', 'Age': 27}\n",
    "print (\"Value : %s\" % dict1.get('Age'))\n",
    "print (\"Value : %s\" % dict1.get('Sex', \"NA\"))\n",
    "\n",
    "#Removed, use the in operation instead.\n",
    "dict1 = {'Name': 'Zara', 'Age': 7}\n",
    "print (\"Value : %s\" %dict1.items())\n",
    "\n",
    "#Returns a list of dict's (key, value) tuple pairs.\n",
    "dict1 = {'Name': 'Zara', 'Age': 7}\n",
    "print (\"Value : %s\" %\n",
    "dict1.items())\n",
    "\n",
    "#Returns list of dictionary dict's keys.\n",
    "dict1 = {'Name': 'Zara', 'Age': 7}\n",
    "print (\"Value : %s\" %\n",
    "dict1.keys())\n",
    "\n",
    "\n",
    "#Similar to get(), but will set dict[key]=default if key is not already in dict.\n",
    "dict1 = {'Name': 'Zara', 'Age': 7}\n",
    "print (\"Value : %s\" % dict1.setdefault('Age', None))\n",
    "print (\"Value : %s\" % dict1.setdefault('Sex', None))\n",
    "print (dict1)\n",
    "\n",
    "\n",
    "#Adds dictionary dict2's key-values pairs to dict.\n",
    "dict1 = {'Name': 'Zara', 'Age': 7}\n",
    "dict2 = {'Sex': 'female' }\n",
    "dict1.update(dict2)\n",
    "print (\"updated dict : \", dict1)\n",
    "\n",
    "#Returns list of dictionary dict's values.\n",
    "dict1 = {'Sex': 'female', 'Age': 7, 'Name': 'Zara'}\n",
    "print (\"Values : \",\n",
    "list(dict1.values()))"
   ]
  },
  {
   "cell_type": "markdown",
   "metadata": {},
   "source": [
    "### <font color='blue'>Dictionary Comprehension</font>"
   ]
  },
  {
   "cell_type": "markdown",
   "metadata": {},
   "source": [
    "Extending the idea of list comprehensions, we can also create a dictionary using dictionary comprehensions. The basic structure of a dictionary comprehension looks like below.\n",
    "\n",
    "output_dict = {key:value for (key, value) in iterable if (key, value satisfy this condition)}"
   ]
  },
  {
   "cell_type": "code",
   "execution_count": 7,
   "metadata": {},
   "outputs": [
    {
     "name": "stdout",
     "output_type": "stream",
     "text": [
      "Output Dictionary using for loop: {1: 1, 3: 27, 5: 125, 7: 343}\n"
     ]
    }
   ],
   "source": [
    "input_list = [1, 2, 3, 4, 5, 6, 7] \n",
    "\n",
    "output_dict = {} \n",
    "\n",
    "# Using loop for constructing output dictionary \n",
    "for var in input_list: \n",
    "\tif var % 2 != 0: \n",
    "\t\toutput_dict[var] = var**3\n",
    "\n",
    "print(\"Output Dictionary using for loop:\", \n",
    "\t\t\t\t\t\t\toutput_dict )"
   ]
  },
  {
   "cell_type": "code",
   "execution_count": 8,
   "metadata": {},
   "outputs": [
    {
     "name": "stdout",
     "output_type": "stream",
     "text": [
      "Output Dictionary using dictionary comprehensions: {1: 1, 3: 27, 5: 125, 7: 343}\n"
     ]
    }
   ],
   "source": [
    "# Using Dictionary comprehensions \n",
    "# for constructing output dictionary \n",
    "\n",
    "input_list = [1,2,3,4,5,6,7] \n",
    "\n",
    "dict_using_comp = {var:var ** 3 for var in input_list if var % 2 != 0} \n",
    "\n",
    "print(\"Output Dictionary using dictionary comprehensions:\", \n",
    "\t\t\t\t\t\t\t\t\t\tdict_using_comp) "
   ]
  },
  {
   "cell_type": "code",
   "execution_count": 9,
   "metadata": {},
   "outputs": [
    {
     "name": "stdout",
     "output_type": "stream",
     "text": [
      "Output Dictionary using for loop: {'Gujarat': 'Gandhinagar', 'Maharashtra': 'Mumbai', 'Rajasthan': 'Jaipur'}\n"
     ]
    }
   ],
   "source": [
    "state = ['Gujarat', 'Maharashtra', 'Rajasthan'] \n",
    "capital = ['Gandhinagar', 'Mumbai', 'Jaipur'] \n",
    "\n",
    "output_dict = {} \n",
    "\n",
    "# Using loop for constructing output dictionary \n",
    "for (key, value) in zip(state, capital): \n",
    "\toutput_dict[key] = value \n",
    "\n",
    "print(\"Output Dictionary using for loop:\", \n",
    "\t\t\t\t\t\t\toutput_dict) "
   ]
  },
  {
   "cell_type": "code",
   "execution_count": 11,
   "metadata": {},
   "outputs": [
    {
     "name": "stdout",
     "output_type": "stream",
     "text": [
      "Output Dictionary using dictionary comprehensions: {'Gujarat': 'Gandhinagar', 'Maharashtra': 'Mumbai', 'Rajasthan': 'Jaipur'}\n"
     ]
    }
   ],
   "source": [
    "# Using Dictionary comprehensions \n",
    "# for constructing output dictionary \n",
    "\n",
    "state = ['Gujarat', 'Maharashtra', 'Rajasthan'] \n",
    "capital = ['Gandhinagar', 'Mumbai', 'Jaipur'] \n",
    "\n",
    "dict_using_comp = {key:value for (key, value) in zip(state, capital)} \n",
    "\n",
    "print(\"Output Dictionary using dictionary comprehensions:\", \n",
    "\t\t\t\t\t\t\t\t\t\tdict_using_comp) "
   ]
  },
  {
   "cell_type": "markdown",
   "metadata": {},
   "source": [
    "### <font color='blue'>Data Type Conversion</font>"
   ]
  },
  {
   "cell_type": "code",
   "execution_count": 45,
   "metadata": {},
   "outputs": [
    {
     "data": {
      "text/plain": [
       "'0o27'"
      ]
     },
     "execution_count": 45,
     "metadata": {},
     "output_type": "execute_result"
    }
   ],
   "source": [
    "s=[1,2,3,4,5,6]\n",
    "int('4') #str to int\n",
    "int(4.5) #float to int\n",
    "float(5/4)\n",
    "float('3.4')\n",
    "complex(4,5) # creates a complex number\n",
    "complex(4) # convert to real part and 0 imaginery\n",
    "str(4) \n",
    "repr(5) #Converts object x to an expression string.\n",
    "eval('9') #Evaluates a string and returns an object.\n",
    "tuple(s) #Converts s to a tuple.\n",
    "list(s) #Converts s to a list.\n",
    "set(s) #Converts s to a set.\n",
    "dict({1:2,3:4}) #Creates a dictionary. d must be a sequence of (key,value) tuples.\n",
    "frozenset(s) #Converts s to a frozen set.\n",
    "chr(34) #Converts an integer to a character.\n",
    "#unichr(56) #Converts an integer to a Unicode character.\n",
    "ord('A') #Converts a single character to its integer value.\n",
    "hex(23) #Converts an integer to a hexadecimal string.\n",
    "oct(23) #Converts an integer to an octal string."
   ]
  },
  {
   "cell_type": "markdown",
   "metadata": {},
   "source": [
    "### <font color='blue'>Operators</font>"
   ]
  },
  {
   "cell_type": "code",
   "execution_count": 46,
   "metadata": {},
   "outputs": [
    {
     "name": "stdout",
     "output_type": "stream",
     "text": [
      "30\n",
      "-10\n",
      "200\n",
      "2.0\n",
      "2\n",
      "10\n",
      "100\n",
      "4.47213595499958\n"
     ]
    }
   ],
   "source": [
    "#Arithmetic \n",
    "a=10;b=20\n",
    "print(a+b)\n",
    "print(a-b)\n",
    "print(a*b)\n",
    "print(b/a)\n",
    "print(b//a) #integer/floor division\n",
    "print(a%b)\n",
    "print(a**2) #Exponentiation\n",
    "print(b**0.5) # Square root"
   ]
  },
  {
   "cell_type": "code",
   "execution_count": 47,
   "metadata": {},
   "outputs": [
    {
     "name": "stdout",
     "output_type": "stream",
     "text": [
      "False\n",
      "True\n",
      "True\n",
      "True\n",
      "True\n",
      "False\n"
     ]
    }
   ],
   "source": [
    "# Comparison/Relational Operators\n",
    "a=10;b=20\n",
    "print(a==b)\n",
    "print(a!=b)\n",
    "print(a<b)\n",
    "print(a<=b)\n",
    "print(b>a) \n",
    "print(a>=b)"
   ]
  },
  {
   "cell_type": "code",
   "execution_count": 48,
   "metadata": {},
   "outputs": [],
   "source": [
    "# Assignment operators\n",
    "a=10;b=20\n",
    "c=b\n",
    "a+=b\n",
    "a-=b\n",
    "a*=b\n",
    "b/=a \n",
    "a%=b\n",
    "a**=2\n",
    "b//=a \n",
    "a%=b"
   ]
  },
  {
   "cell_type": "code",
   "execution_count": 49,
   "metadata": {},
   "outputs": [
    {
     "data": {
      "text/plain": [
       "100"
      ]
     },
     "execution_count": 49,
     "metadata": {},
     "output_type": "execute_result"
    }
   ],
   "source": [
    "a=10\n",
    "a**=2\n",
    "a"
   ]
  },
  {
   "cell_type": "code",
   "execution_count": 50,
   "metadata": {},
   "outputs": [
    {
     "name": "stdout",
     "output_type": "stream",
     "text": [
      "40\n",
      "239\n",
      "199\n",
      "-235\n",
      "936\n",
      "58\n"
     ]
    }
   ],
   "source": [
    "# Bitwise Operators\n",
    "a=234\n",
    "b=45\n",
    "#------------------------\n",
    "print(a&b) \n",
    "print(a|b)\n",
    "print(a^b)\n",
    "print(~a)\n",
    "print(a<<2) # Binary Left Shift. adds n zeros on the right\n",
    "print(a>>2) # Binary Right Shift"
   ]
  },
  {
   "cell_type": "code",
   "execution_count": 51,
   "metadata": {},
   "outputs": [
    {
     "name": "stdout",
     "output_type": "stream",
     "text": [
      "234\n",
      "0b11101010\n",
      "936\n",
      "0b1110101000\n"
     ]
    }
   ],
   "source": [
    "print(a)\n",
    "print(bin(a))\n",
    "print(a<<2)\n",
    "print(bin(a<<2))"
   ]
  },
  {
   "cell_type": "code",
   "execution_count": 52,
   "metadata": {},
   "outputs": [
    {
     "name": "stdout",
     "output_type": "stream",
     "text": [
      "False\n",
      "True\n",
      "True\n"
     ]
    }
   ],
   "source": [
    "#Logical Operators\n",
    "a=True\n",
    "b=False\n",
    "#------------------------\n",
    "print(a and b) \n",
    "print(a or b)\n",
    "print(not b)"
   ]
  },
  {
   "cell_type": "code",
   "execution_count": 53,
   "metadata": {},
   "outputs": [
    {
     "name": "stdout",
     "output_type": "stream",
     "text": [
      "False\n",
      "True\n",
      "True\n"
     ]
    }
   ],
   "source": [
    "# Membership Operators\n",
    "a = 10\n",
    "b = 20\n",
    "c=4\n",
    "lst = [1, 2, 3, 4, 5 ]\n",
    "print(a in lst) \n",
    "print(b not in lst)\n",
    "print(c in lst)"
   ]
  },
  {
   "cell_type": "code",
   "execution_count": 54,
   "metadata": {},
   "outputs": [
    {
     "name": "stdout",
     "output_type": "stream",
     "text": [
      "Line 1 a= 20 : 94409207403904 b= 20 : 94409207403904\n",
      "Line 2 - a and b have same identity\n",
      "Line 3 - a and b have same identity\n"
     ]
    }
   ],
   "source": [
    "# Identity Operators\n",
    "#Identity operators compare the memory locations of two objects.\n",
    "a = 20\n",
    "b = 20\n",
    "print ('Line 1','a=',a,':',id(a), 'b=',b,':',id(b))\n",
    "if ( a is b ):\n",
    "    print (\"Line 2 - a and b have same identity\")\n",
    "else:\n",
    "    print (\"Line 2 - a and b do not have same identity\")\n",
    "\n",
    "if ( id(a) == id(b) ):\n",
    "    print (\"Line 3 - a and b have same identity\")\n",
    "else:\n",
    "    print (\"Line 3 - a and b do not have same identity\")"
   ]
  },
  {
   "cell_type": "code",
   "execution_count": 55,
   "metadata": {},
   "outputs": [],
   "source": [
    "#Precedence¶\n",
    "# **\n",
    "# ~ + - (compliment, unary + and -)\n",
    "# * / % //\n",
    "# + -\n",
    "# >> <<\n",
    "# &\n",
    "# ^ |\n",
    "# <= < > >=\n",
    "# <> == !=\n",
    "# = %= /= //= -= += *= **=\n",
    "# is is not\n",
    "# in not in\n",
    "# not or and"
   ]
  },
  {
   "cell_type": "code",
   "execution_count": 56,
   "metadata": {},
   "outputs": [
    {
     "data": {
      "text/plain": [
       "True"
      ]
     },
     "execution_count": 56,
     "metadata": {},
     "output_type": "execute_result"
    }
   ],
   "source": [
    "True and False or not False"
   ]
  },
  {
   "cell_type": "markdown",
   "metadata": {},
   "source": [
    "<div class=\"alert alert-block alert-warning\">"
   ]
  },
  {
   "cell_type": "markdown",
   "metadata": {},
   "source": [
    "# <font color='green'>5 Decision Statements</font>"
   ]
  },
  {
   "cell_type": "markdown",
   "metadata": {},
   "source": [
    "### <font color='blue'>if statement</font>"
   ]
  },
  {
   "cell_type": "markdown",
   "metadata": {},
   "source": [
    "if expression:\n",
    "\n",
    "    statement(s)"
   ]
  },
  {
   "cell_type": "code",
   "execution_count": 57,
   "metadata": {},
   "outputs": [
    {
     "name": "stdout",
     "output_type": "stream",
     "text": [
      "1 - Got a true expression value\n",
      "100\n"
     ]
    }
   ],
   "source": [
    "var1 = 100\n",
    "if var1: # False only if var1=0\n",
    "    print (\"1 - Got a true expression value\")\n",
    "    print (var1)"
   ]
  },
  {
   "cell_type": "code",
   "execution_count": 58,
   "metadata": {},
   "outputs": [
    {
     "name": "stdout",
     "output_type": "stream",
     "text": [
      "1 - Got a true expression value\n",
      "alem\n"
     ]
    }
   ],
   "source": [
    "str1 = 'alem'\n",
    "if str1: # False only if var1=0\n",
    "    print (\"1 - Got a true expression value\")\n",
    "    print (str1)"
   ]
  },
  {
   "cell_type": "code",
   "execution_count": 59,
   "metadata": {},
   "outputs": [
    {
     "name": "stdout",
     "output_type": "stream",
     "text": [
      "False b/c String is empty\n"
     ]
    }
   ],
   "source": [
    "str1 = '' # Watchout, whitespace is a string as well\n",
    "if str1: # False only if str1 is empty\n",
    "    print (\"1 - Got a true expression value\")\n",
    "    print (str1)\n",
    "else:\n",
    "    print(\"False b/c String is empty\")"
   ]
  },
  {
   "cell_type": "markdown",
   "metadata": {},
   "source": [
    "### <font color='blue'>IF...ELIF...ELSE Statements</font>"
   ]
  },
  {
   "cell_type": "markdown",
   "metadata": {},
   "source": [
    "if expression1:\n",
    "    \n",
    "    statement(s)\n",
    "\n",
    "elif expression2:\n",
    "    \n",
    "    statement(s)\n",
    "\n",
    "elif expression3:\n",
    "\n",
    "    statement(s)\n",
    "\n",
    "else:\n",
    "    \n",
    "    statement(s)"
   ]
  },
  {
   "cell_type": "markdown",
   "metadata": {},
   "source": [
    "### <font color='blue'>Nested IF Statements</font>"
   ]
  },
  {
   "cell_type": "markdown",
   "metadata": {},
   "source": [
    "if expression1:\n",
    "    \n",
    "    statement(s)\n",
    "    \n",
    "    if expression2:\n",
    "        \n",
    "        statement(s)\n",
    "        \n",
    "    elif expression3:\n",
    "        \n",
    "        statement(s)\n",
    "        \n",
    "    else\n",
    "    \n",
    "        statement(s)\n",
    "        \n",
    "elif expression4:\n",
    "    \n",
    "    statement(s)\n",
    "    \n",
    "else:\n",
    "    \n",
    "    statement(s)"
   ]
  },
  {
   "cell_type": "code",
   "execution_count": 60,
   "metadata": {
    "scrolled": true
   },
   "outputs": [
    {
     "name": "stdout",
     "output_type": "stream",
     "text": [
      "6\n",
      "Divisible by 3 and 2\n"
     ]
    }
   ],
   "source": [
    "num=int(input())\n",
    "if num%2==0:\n",
    "    if num%3==0:\n",
    "        print (\"Divisible by 3 and 2\")\n",
    "    else:\n",
    "        print (\"divisible by 2 not divisible by 3\")\n",
    "else:\n",
    "    if num%3==0:\n",
    "        print (\"divisible by 3 not divisible by 2\")\n",
    "    else:\n",
    "        print\n",
    "        (\"not Divisible by 2 not divisible by 3\")"
   ]
  },
  {
   "cell_type": "markdown",
   "metadata": {},
   "source": [
    "<div class=\"alert alert-block alert-warning\">"
   ]
  },
  {
   "cell_type": "markdown",
   "metadata": {},
   "source": [
    "# <font color='green'>6 Loops</font>"
   ]
  },
  {
   "cell_type": "markdown",
   "metadata": {},
   "source": [
    "### <font color='blue'>while loop</font>"
   ]
  },
  {
   "cell_type": "code",
   "execution_count": 61,
   "metadata": {},
   "outputs": [
    {
     "name": "stdout",
     "output_type": "stream",
     "text": [
      "0\n",
      "1\n",
      "2\n"
     ]
    }
   ],
   "source": [
    "# Useful when number of iterations is not known\n",
    "i=0\n",
    "while i<3: \n",
    "    print(i)    \n",
    "    i+=1"
   ]
  },
  {
   "cell_type": "code",
   "execution_count": 62,
   "metadata": {},
   "outputs": [
    {
     "name": "stdout",
     "output_type": "stream",
     "text": [
      "0\n",
      "1\n",
      "2\n"
     ]
    }
   ],
   "source": [
    "# Useful when number of iterations is not known\n",
    "i=0\n",
    "while 1: # or while True:\n",
    "    print(i)\n",
    "    if i==2:\n",
    "        break\n",
    "    i+=1"
   ]
  },
  {
   "cell_type": "code",
   "execution_count": 63,
   "metadata": {},
   "outputs": [
    {
     "name": "stdout",
     "output_type": "stream",
     "text": [
      "0  is    less than 3\n",
      "1  is    less than 3\n",
      "2  is    less than 3\n",
      "3  is not less than 3\n"
     ]
    }
   ],
   "source": [
    "#while-else\n",
    "count = 0\n",
    "while count < 3:\n",
    "    print (count, \" is    less than 3\")\n",
    "    count = count + 1\n",
    "else:\n",
    "    print (count, \" is not less than 3\")"
   ]
  },
  {
   "cell_type": "markdown",
   "metadata": {},
   "source": [
    "### <font color='blue'>for loop</font>"
   ]
  },
  {
   "cell_type": "code",
   "execution_count": 64,
   "metadata": {},
   "outputs": [
    {
     "name": "stdout",
     "output_type": "stream",
     "text": [
      "0\n",
      "1\n",
      "2\n"
     ]
    }
   ],
   "source": [
    "# For iterables with known size\n",
    "for i in range(3):\n",
    "    print(i)"
   ]
  },
  {
   "cell_type": "code",
   "execution_count": 65,
   "metadata": {},
   "outputs": [
    {
     "name": "stdout",
     "output_type": "stream",
     "text": [
      "2\n",
      "3\n",
      "4\n"
     ]
    }
   ],
   "source": [
    "lst=[2,3,4]\n",
    "for i in lst:\n",
    "    print(i)"
   ]
  },
  {
   "cell_type": "code",
   "execution_count": 66,
   "metadata": {},
   "outputs": [
    {
     "name": "stdout",
     "output_type": "stream",
     "text": [
      "i: 0 j: 1\n",
      "i: a j: b\n"
     ]
    }
   ],
   "source": [
    "for i, j in [(0, 1), ('a', 'b')]:\n",
    "    print('i:', i, 'j:', j)"
   ]
  },
  {
   "cell_type": "code",
   "execution_count": 67,
   "metadata": {},
   "outputs": [
    {
     "data": {
      "text/plain": [
       "[0, 1, 2, 3, 4]"
      ]
     },
     "execution_count": 67,
     "metadata": {},
     "output_type": "execute_result"
    }
   ],
   "source": [
    "list(range(5))"
   ]
  },
  {
   "cell_type": "markdown",
   "metadata": {},
   "source": [
    "### <font color='blue'>nested loop</font>"
   ]
  },
  {
   "cell_type": "code",
   "execution_count": 68,
   "metadata": {},
   "outputs": [
    {
     "name": "stdout",
     "output_type": "stream",
     "text": [
      "1 2 3 \n",
      "2 4 6 \n",
      "3 6 9 \n"
     ]
    }
   ],
   "source": [
    "#end=' ' which appends a space instead of default newline.\n",
    "for i in range(1,4):\n",
    "    for j in range(1,4):\n",
    "        k=i*j\n",
    "        print (k, end=' ')\n",
    "    print()"
   ]
  },
  {
   "cell_type": "markdown",
   "metadata": {},
   "source": [
    "### <font color='blue'>Loop control Statements</font>"
   ]
  },
  {
   "cell_type": "code",
   "execution_count": 69,
   "metadata": {},
   "outputs": [
    {
     "name": "stdout",
     "output_type": "stream",
     "text": [
      "1\n",
      "3\n",
      "5\n"
     ]
    }
   ],
   "source": [
    "for i in range(6):\n",
    "    if i%2==0:\n",
    "        continue\n",
    "    print(i)"
   ]
  },
  {
   "cell_type": "code",
   "execution_count": 70,
   "metadata": {},
   "outputs": [
    {
     "name": "stdout",
     "output_type": "stream",
     "text": [
      "0\n",
      "1\n",
      "2\n",
      "3\n"
     ]
    }
   ],
   "source": [
    "for i in range(6):\n",
    "    if i==4:\n",
    "        break\n",
    "    print(i)"
   ]
  },
  {
   "cell_type": "code",
   "execution_count": 71,
   "metadata": {},
   "outputs": [
    {
     "name": "stdout",
     "output_type": "stream",
     "text": [
      "0\n",
      "1\n",
      "2\n",
      "3\n",
      "4\n",
      "5\n"
     ]
    }
   ],
   "source": [
    "for i in range(6):\n",
    "    if i%2==0:\n",
    "        pass\n",
    "    print(i)"
   ]
  },
  {
   "cell_type": "markdown",
   "metadata": {},
   "source": [
    "### <font color='blue'>Iterator</font>"
   ]
  },
  {
   "cell_type": "markdown",
   "metadata": {},
   "source": [
    "Iterator is an object, which allows a programmer to traverse through all the elements of\n",
    "a collection, regardless of its specific implementation. In Python, an iterator object\n",
    "implements two methods, iter() and next()."
   ]
  },
  {
   "cell_type": "code",
   "execution_count": 72,
   "metadata": {},
   "outputs": [
    {
     "name": "stdout",
     "output_type": "stream",
     "text": [
      "1\n",
      "2 3 4 "
     ]
    },
    {
     "ename": "SystemExit",
     "evalue": "",
     "output_type": "error",
     "traceback": [
      "An exception has occurred, use %tb to see the full traceback.\n",
      "\u001b[0;31mSystemExit\u001b[0m\n"
     ]
    },
    {
     "name": "stderr",
     "output_type": "stream",
     "text": [
      "/home/alem/anaconda3/lib/python3.7/site-packages/IPython/core/interactiveshell.py:3334: UserWarning: To exit: use 'exit', 'quit', or Ctrl-D.\n",
      "  warn(\"To exit: use 'exit', 'quit', or Ctrl-D.\", stacklevel=1)\n"
     ]
    }
   ],
   "source": [
    "import sys\n",
    "lst=[1,2,3,4]\n",
    "it = iter(lst) # this builds an iterator object\n",
    "print (next(it)) #prints next available element in iterator\n",
    "                 #Iterator object can be traversed using regular for statement\n",
    "for x in it:\n",
    "    print (x, end=\" \")\n",
    "#or using next() function\n",
    "while True:\n",
    "    try:\n",
    "        print (next(it))\n",
    "    except StopIteration:\n",
    "        sys.exit() #you have to import sys module for this"
   ]
  },
  {
   "cell_type": "markdown",
   "metadata": {},
   "source": [
    "### <font color='blue'>Generator</font>"
   ]
  },
  {
   "cell_type": "markdown",
   "metadata": {},
   "source": [
    "A <font color='red'>generator</font> is a function that produces or yields a sequence of values using yield method.\n",
    "When a generator function is called, it returns a generator object without even beginning\n",
    "execution of the function. When the next() method is called for the first time, the function\n",
    "starts executing, until it reaches the yield statement, which returns the yielded value. \n",
    "\n",
    "The yield keeps track i.e. remembers the last execution and the second next() call continues\n",
    "from previous value."
   ]
  },
  {
   "cell_type": "code",
   "execution_count": null,
   "metadata": {},
   "outputs": [],
   "source": [
    "import sys\n",
    "def fibonacci(n): #generator function\n",
    "    a, b, counter = 0, 1, 0\n",
    "    while True:\n",
    "        if (counter > n):\n",
    "            return\n",
    "        yield a\n",
    "        a, b = b, a + b\n",
    "        counter += 1\n",
    "\n",
    "f = fibonacci(20) #f is iterator object\n",
    "while True:\n",
    "    try:\n",
    "        print (next(f), end=\" \")\n",
    "    except StopIteration:\n",
    "        sys.exit()"
   ]
  },
  {
   "cell_type": "markdown",
   "metadata": {},
   "source": [
    "<font color='red'>Generator-Function</font> : A generator-function is defined like a normal function, but whenever it needs to generate a value, it does so with the yield keyword rather than return. If the body of a def contains yield, the function automatically becomes a generator function."
   ]
  },
  {
   "cell_type": "code",
   "execution_count": null,
   "metadata": {},
   "outputs": [],
   "source": [
    "# A generator function that yields 1 for first time, \n",
    "# 2 second time and 3 third time \n",
    "def simpleGeneratorFun(): \n",
    "\tyield 1\t\t\t\n",
    "\tyield 2\t\t\t\n",
    "\tyield 3\t\t\t\n",
    "\n",
    "# Driver code to check above generator function \n",
    "for value in simpleGeneratorFun(): \n",
    "\tprint(value) "
   ]
  },
  {
   "cell_type": "markdown",
   "metadata": {},
   "source": [
    "<font color='red'>Generator-Object</font>: Generator functions return a generator object. Generator objects are used either by calling the next method on the generator object or using the generator object in a “for in” loop (as shown in the above program)."
   ]
  },
  {
   "cell_type": "code",
   "execution_count": null,
   "metadata": {},
   "outputs": [],
   "source": [
    "# A Python program to demonstrate use of \n",
    "# generator object with next() \n",
    "\n",
    "# A generator function \n",
    "def simpleGeneratorFun(): \n",
    "\tyield 1\n",
    "\tyield 2\n",
    "\tyield 3\n",
    "\n",
    "# x is a generator object \n",
    "x = simpleGeneratorFun() \n",
    "\n",
    "# Iterating over the generator object using next \n",
    "print(next(x)); # In Python 3, __next__() \n",
    "print(next(x)); \n",
    "print(next(x)); "
   ]
  },
  {
   "cell_type": "markdown",
   "metadata": {},
   "source": [
    "So a generator function returns an generator object that is iterable, i.e., can be used as an Iterators .\n",
    "\n",
    "As another example, below is a generator for Fibonacci Numbers."
   ]
  },
  {
   "cell_type": "code",
   "execution_count": 5,
   "metadata": {},
   "outputs": [
    {
     "name": "stdout",
     "output_type": "stream",
     "text": [
      "0\n",
      "1\n",
      "1\n",
      "2\n",
      "3\n",
      "\n",
      "Using for in loop\n",
      "0\n",
      "1\n",
      "1\n",
      "2\n",
      "3\n"
     ]
    }
   ],
   "source": [
    "# A simple generator for Fibonacci Numbers \n",
    "def fib(limit): \n",
    "\t\n",
    "\t# Initialize first two Fibonacci Numbers \n",
    "\ta, b = 0, 1\n",
    "\n",
    "\t# One by one yield next Fibonacci Number \n",
    "\twhile a < limit: \n",
    "\t\tyield a \n",
    "\t\ta, b = b, a + b \n",
    "\n",
    "# Create a generator object \n",
    "x = fib(5) \n",
    "\n",
    "# Iterating over the generator object using next \n",
    "print(next(x)); # In Python 3, __next__() \n",
    "print(next(x)); \n",
    "print(next(x)); \n",
    "print(next(x)); \n",
    "print(next(x)); \n",
    "\n",
    "# Iterating over the generator object using for \n",
    "# in loop. \n",
    "print(\"\\nUsing for in loop\") \n",
    "for i in fib(5): \n",
    "\tprint(i) "
   ]
  },
  {
   "cell_type": "code",
   "execution_count": 6,
   "metadata": {},
   "outputs": [
    {
     "data": {
      "text/plain": [
       "[0, 1, 1, 2, 3, 5, 8, 13, 21]"
      ]
     },
     "execution_count": 6,
     "metadata": {},
     "output_type": "execute_result"
    }
   ],
   "source": [
    "def fib(n):\n",
    "    f0,f1=0,1\n",
    "    lst=[]\n",
    "    i=0\n",
    "    while i<n:\n",
    "        lst.append(f0)\n",
    "        f0,f1=f1,f0+f1\n",
    "        i+=1\n",
    "    return lst\n",
    "n=9\n",
    "fib(n)       "
   ]
  },
  {
   "cell_type": "markdown",
   "metadata": {},
   "source": [
    "Applications : Suppose we to create a stream of Fibonacci numbers, adopting the generator approach makes it trivial; we just have to call next(x) to get the next Fibonacci number without bothering about where or when the stream of numbers ends.\n",
    "A more practical type of stream processing is handling large data files such as log files. Generators provide a space efficient method for such data processing as only parts of the file are handled at one given point in time. We can also use Iterators for these purposes, but Generator provides a quick way (We don’t need to write __next__ and __iter__ methods here)."
   ]
  },
  {
   "cell_type": "markdown",
   "metadata": {},
   "source": [
    "### <font color='blue'>Generator Comprehension</font>"
   ]
  },
  {
   "cell_type": "markdown",
   "metadata": {},
   "source": [
    "Generator Comprehensions are very similar to list comprehensions. One difference between them is that generator comprehensions use circular brackets whereas list comprehensions use square brackets. The major difference between them is that generators don’t allocate memory for the whole list. Instead, they generate each value one by one which is why they are memory efficient."
   ]
  },
  {
   "cell_type": "code",
   "execution_count": 7,
   "metadata": {},
   "outputs": [
    {
     "name": "stdout",
     "output_type": "stream",
     "text": [
      "Output values using generator comprehensions: 2 4 4 6 "
     ]
    }
   ],
   "source": [
    "input_list = [1, 2, 3, 4, 4, 5, 6, 7, 7] \n",
    "\n",
    "output_gen = (var for var in input_list if var % 2 == 0) \n",
    "\n",
    "print(\"Output values using generator comprehensions:\", end = ' ') \n",
    "\n",
    "for var in output_gen:\n",
    "\tprint(var, end = ' ') "
   ]
  },
  {
   "cell_type": "code",
   "execution_count": 11,
   "metadata": {},
   "outputs": [
    {
     "name": "stdout",
     "output_type": "stream",
     "text": [
      "<class 'list'>\n",
      "<class 'generator'>\n",
      "9032\n",
      "128\n"
     ]
    }
   ],
   "source": [
    "#The difference between the two kinds of expressions is \n",
    " #that the List comprehension is enclosed in square \n",
    "  # brackets [] while the Generator expression is enclosed in plain parentheses ().\n",
    "\n",
    "l = [n*2 for n in range(1000)] # List comprehension\n",
    "g = (n*2 for n in range(1000))  # Generator expression\n",
    "\n",
    "#The type of resulting values are list and generator respectively\n",
    "print(type(l))  # 'list'\n",
    "print(type(g))  # 'generator'\n",
    "\n",
    "#The size of the objects is 9032 bytes (the list), and 80 bytes (the generator):\n",
    "import sys\n",
    "print(sys.getsizeof(l))  # 9032\n",
    "print(sys.getsizeof(g))  # 80\n",
    "\n",
    "#Loop over: Finally, but most importantly, we can iterate over either of them\n",
    "for v in l:\n",
    "    pass\n",
    "for v in g:\n",
    "    pass"
   ]
  },
  {
   "cell_type": "code",
   "execution_count": 12,
   "metadata": {},
   "outputs": [
    {
     "name": "stdout",
     "output_type": "stream",
     "text": [
      "<class 'list'>\n",
      "<class 'generator'>\n",
      "9032\n",
      "128\n",
      "8\n"
     ]
    }
   ],
   "source": [
    "#!/usr/bin/env python\n",
    "from __future__ import print_function\n",
    "import sys\n",
    " \n",
    "l = [n*2 for n in range(1000)] # List comprehension\n",
    "g = (n*2 for n in range(1000)) # Generator expression\n",
    " \n",
    "print(type(l))  # <type 'list'>\n",
    "print(type(g))  # <type 'generator'>\n",
    " \n",
    "print(sys.getsizeof(l))  # 9032\n",
    "print(sys.getsizeof(g))  # 80\n",
    " \n",
    "print(l[4])   # 8\n",
    "#print(g[4])   # TypeError: 'generator' object has no attribute '__getitem__'\n",
    " \n",
    "for v in l:\n",
    "    pass\n",
    "for v in g:\n",
    "    pass"
   ]
  },
  {
   "cell_type": "markdown",
   "metadata": {},
   "source": [
    "<div class=\"alert alert-block alert-warning\">"
   ]
  },
  {
   "cell_type": "markdown",
   "metadata": {},
   "source": [
    "# <font color='green'>7. Date and Time</font>"
   ]
  },
  {
   "cell_type": "markdown",
   "metadata": {},
   "source": [
    "A Python program can handle date and time in several ways. Converting between date\n",
    "formats is a common chore for computers. Python's time and calendar modules help track\n",
    "dates and times."
   ]
  },
  {
   "cell_type": "markdown",
   "metadata": {},
   "source": [
    "Time intervals are floating-point numbers in units of seconds. Particular instants in time\n",
    "are expressed in seconds since 12:00am, January 1, 1970(epoch)."
   ]
  },
  {
   "cell_type": "code",
   "execution_count": 18,
   "metadata": {},
   "outputs": [
    {
     "name": "stdout",
     "output_type": "stream",
     "text": [
      "Number of ticks since 12:00am, January 1, 1970: 1578308695.151365\n",
      "Number of ticks since 12:00am, January 1, 1970: 1578308695.151608\n",
      "The difference 0.0002429485321044922\n"
     ]
    }
   ],
   "source": [
    "import time\n",
    "# This is required to include time module.\n",
    "ticks = time.time()\n",
    "print (\"Number of ticks since 12:00am, January 1, 1970:\", ticks)\n",
    "end=time.time()\n",
    "print (\"Number of ticks since 12:00am, January 1, 1970:\", end)\n",
    "print(\"The difference\", end-ticks)"
   ]
  },
  {
   "cell_type": "markdown",
   "metadata": {},
   "source": [
    "### <font color='blue'>Timetuple</font>"
   ]
  },
  {
   "cell_type": "markdown",
   "metadata": {},
   "source": [
    "Many of the Python's time functions handle time as a tuple of 9 numbers, as shown below-"
   ]
  },
  {
   "cell_type": "markdown",
   "metadata": {},
   "source": [
    "0 4-digit year 2016\n",
    "\n",
    "1 Month 1 to 12\n",
    "\n",
    "2 Day 1 to 31\n",
    "\n",
    "3 Hour 0 to 23\n",
    "\n",
    "4 Minute 0 to 59\n",
    "\n",
    "5 Second 0 to 61 (60 or 61 are leap-seconds)\n",
    "\n",
    "6 Day of Week 0 to 6 (0 is Monday)\n",
    "\n",
    "7 Day of year 1 to 366 (Julian day)\n",
    "\n",
    "8 Daylight savings -1, 0, 1, -1 means library determines DST"
   ]
  },
  {
   "cell_type": "markdown",
   "metadata": {},
   "source": [
    "(Year,Month,Day1-31,Hour,Minute,Second,Day of week0-6M-S,Days of year(1-366:Julian Day,Daylight Savings (-1,0,1))"
   ]
  },
  {
   "cell_type": "code",
   "execution_count": 19,
   "metadata": {},
   "outputs": [
    {
     "name": "stdout",
     "output_type": "stream",
     "text": [
      "time.struct_time(tm_year=2020, tm_mon=1, tm_mday=6, tm_hour=6, tm_min=15, tm_sec=5, tm_wday=0, tm_yday=6, tm_isdst=0)\n"
     ]
    }
   ],
   "source": [
    "import time\n",
    "print(time.localtime()) # gives all 9 tuple elements"
   ]
  },
  {
   "cell_type": "code",
   "execution_count": 20,
   "metadata": {},
   "outputs": [
    {
     "name": "stdout",
     "output_type": "stream",
     "text": [
      "Local current time : time.struct_time(tm_year=2020, tm_mon=1, tm_mday=6, tm_hour=6, tm_min=17, tm_sec=34, tm_wday=0, tm_yday=6, tm_isdst=0)\n"
     ]
    }
   ],
   "source": [
    "import time\n",
    "localtime = time.localtime(time.time())\n",
    "print (\"Local current time :\", localtime)"
   ]
  },
  {
   "cell_type": "markdown",
   "metadata": {},
   "source": [
    "### <font color='blue'>Getting formatted time</font>"
   ]
  },
  {
   "cell_type": "markdown",
   "metadata": {},
   "source": [
    "You can format any time as per your requirement, but a simple method to get time in a\n",
    "readable format is asctime()"
   ]
  },
  {
   "cell_type": "code",
   "execution_count": 21,
   "metadata": {},
   "outputs": [
    {
     "name": "stdout",
     "output_type": "stream",
     "text": [
      "Local current time : Mon Jan  6 06:18:44 2020\n"
     ]
    }
   ],
   "source": [
    "#!/usr/bin/python3\n",
    "import time\n",
    "localtime = time.asctime( time.localtime(time.time()) )\n",
    "print (\"Local current time :\", localtime)"
   ]
  },
  {
   "cell_type": "markdown",
   "metadata": {},
   "source": [
    "### <font color='blue'>Calendar</font>"
   ]
  },
  {
   "cell_type": "code",
   "execution_count": 24,
   "metadata": {},
   "outputs": [
    {
     "name": "stdout",
     "output_type": "stream",
     "text": [
      "Here is the calendar:\n",
      "     June 2020\n",
      "Mo Tu We Th Fr Sa Su\n",
      " 1  2  3  4  5  6  7\n",
      " 8  9 10 11 12 13 14\n",
      "15 16 17 18 19 20 21\n",
      "22 23 24 25 26 27 28\n",
      "29 30\n",
      "\n"
     ]
    }
   ],
   "source": [
    "import calendar\n",
    "cal = calendar.month(2020, 6)\n",
    "print (\"Here is the calendar:\")\n",
    "print (cal)"
   ]
  },
  {
   "cell_type": "markdown",
   "metadata": {},
   "source": [
    "### <font color='blue'>The time module</font>"
   ]
  },
  {
   "cell_type": "markdown",
   "metadata": {},
   "source": [
    "### SN Function with Description\n",
    "\n",
    "1 time.altzone: The offset of the local DST timezone, in seconds west of UTC, if one is defined.\n",
    "This is negative if the local DST timezone is east of UTC (as in Western Europe,\n",
    "including the UK). Use this if the daylight is nonzero.\n",
    "\n",
    "2 time.asctime([tupletime]):Accepts a time-tuple and returns a readable 24-character string such as 'Tue Dec\n",
    "11 18:07:14 2008'.\n",
    "\n",
    "3 time.clock( ): Returns the current CPU time as a floating-point number of seconds. To measure\n",
    "computational costs of different approaches, the value of time.clock is more useful\n",
    "than that of time.time().\n",
    "\n",
    "4 time.ctime([secs]): Like asctime(localtime(secs)) and without arguments is like asctime( )\n",
    "\n",
    "5 time.gmtime([secs]): Accepts an instant expressed in seconds since the epoch and returns a time-tuple\n",
    "t with the UTC time. Note : t.tm_isdst is always 0\n",
    "    \n",
    "6 time.localtime([secs]): Accepts an instant expressed in seconds since the epoch and returns a time-tuple\n",
    "t with the local time (t.tm_isdst is 0 or 1, depending on whether DST applies to\n",
    "instant secs by local rules).\n",
    "\n",
    "7 time.mktime(tupletime): Accepts an instant expressed as a time-tuple in local time and returns a floating-\n",
    "point value with the instant expressed in seconds since the epoch.\n",
    "\n",
    "8 time.sleep(secs): Suspends the calling thread for secs seconds.\n",
    "    \n",
    "9 time.strftime(fmt[,tupletime]): Accepts an instant expressed as a time-tuple in local time and returns a string\n",
    "representing the instant as specified by string fmt.\n",
    "\n",
    "10 time.strptime(str,fmt='%a %b %d %H:%M:%S %Y'): Parses str according to format string fmt and returns the instant in time-tuple\n",
    "format.\n",
    "\n",
    "11 time.time( ): Returns the current time instant, a floating-point number of seconds since the\n",
    "epoch.\n",
    "\n",
    "12 time.tzset(): Resets the time conversion rules used by the library routines. The environment\n",
    "variable TZ specifies how this is done. "
   ]
  },
  {
   "cell_type": "code",
   "execution_count": 26,
   "metadata": {},
   "outputs": [
    {
     "name": "stdout",
     "output_type": "stream",
     "text": [
      "time.altzone :  14400\n"
     ]
    }
   ],
   "source": [
    "import time\n",
    "print (\"time.altzone : \", time.altzone)"
   ]
  },
  {
   "cell_type": "code",
   "execution_count": 27,
   "metadata": {},
   "outputs": [
    {
     "name": "stdout",
     "output_type": "stream",
     "text": [
      "asctime :  Mon Jan  6 06:30:15 2020\n"
     ]
    }
   ],
   "source": [
    "import time\n",
    "t = time.localtime()\n",
    "print (\"asctime : \",time.asctime(t))"
   ]
  },
  {
   "cell_type": "code",
   "execution_count": 28,
   "metadata": {},
   "outputs": [
    {
     "name": "stderr",
     "output_type": "stream",
     "text": [
      "/home/alem/anaconda3/lib/python3.7/site-packages/ipykernel_launcher.py:5: DeprecationWarning: time.clock has been deprecated in Python 3.3 and will be removed from Python 3.8: use time.perf_counter or time.process_time instead\n",
      "  \"\"\"\n",
      "/home/alem/anaconda3/lib/python3.7/site-packages/ipykernel_launcher.py:7: DeprecationWarning: time.clock has been deprecated in Python 3.3 and will be removed from Python 3.8: use time.perf_counter or time.process_time instead\n",
      "  import sys\n"
     ]
    },
    {
     "name": "stdout",
     "output_type": "stream",
     "text": [
      "0.001670999999999978 seconds process time\n",
      "2.5015032291412354 seconds wall time\n"
     ]
    }
   ],
   "source": [
    "import time\n",
    "def procedure():\n",
    "    time.sleep(2.5)\n",
    "# measure process time\n",
    "t0 = time.clock()\n",
    "procedure()\n",
    "print (time.clock() - t0, \"seconds process time\")\n",
    "# measure wall time\n",
    "t0 = time.time()\n",
    "procedure()\n",
    "print (time.time() - t0, \"seconds wall time\")"
   ]
  },
  {
   "cell_type": "code",
   "execution_count": 29,
   "metadata": {},
   "outputs": [
    {
     "name": "stdout",
     "output_type": "stream",
     "text": [
      "ctime :  Mon Jan  6 06:32:25 2020\n"
     ]
    }
   ],
   "source": [
    "import time\n",
    "print (\"ctime : \", time.ctime())"
   ]
  },
  {
   "cell_type": "code",
   "execution_count": 30,
   "metadata": {},
   "outputs": [
    {
     "name": "stdout",
     "output_type": "stream",
     "text": [
      "gmtime : time.struct_time(tm_year=2016, tm_mon=2, tm_mday=15, tm_hour=3, tm_min=56, tm_sec=49, tm_wday=0, tm_yday=46, tm_isdst=0)\n"
     ]
    }
   ],
   "source": [
    "import time\n",
    "print (\"gmtime :\", time.gmtime(1455508609.34375))"
   ]
  },
  {
   "cell_type": "code",
   "execution_count": 31,
   "metadata": {},
   "outputs": [
    {
     "name": "stdout",
     "output_type": "stream",
     "text": [
      "time.localtime() : %s time.struct_time(tm_year=2020, tm_mon=1, tm_mday=6, tm_hour=6, tm_min=33, tm_sec=33, tm_wday=0, tm_yday=6, tm_isdst=0)\n"
     ]
    }
   ],
   "source": [
    "import time\n",
    "print (\"time.localtime() : %s\" , time.localtime())"
   ]
  },
  {
   "cell_type": "code",
   "execution_count": 33,
   "metadata": {},
   "outputs": [
    {
     "name": "stdout",
     "output_type": "stream",
     "text": [
      "time.mktime(t) : 1455549218.000000\n",
      "asctime(localtime(secs)): Mon Feb 15 10:13:38 2016\n"
     ]
    }
   ],
   "source": [
    "import time\n",
    "t = (2016, 2, 15, 10, 13, 38, 1, 48, 0)\n",
    "d=time.mktime(t)\n",
    "print (\"time.mktime(t) : %f\" %d)\n",
    "print (\"asctime(localtime(secs)): %s\" % time.asctime(time.localtime(d)))"
   ]
  },
  {
   "cell_type": "code",
   "execution_count": 34,
   "metadata": {},
   "outputs": [
    {
     "name": "stdout",
     "output_type": "stream",
     "text": [
      "Start : Mon Jan  6 06:35:03 2020\n",
      "End : Mon Jan  6 06:35:08 2020\n"
     ]
    }
   ],
   "source": [
    "import time\n",
    "print (\"Start : %s\" % time.ctime())\n",
    "time.sleep( 5 )\n",
    "print (\"End : %s\" % time.ctime())"
   ]
  },
  {
   "cell_type": "code",
   "execution_count": 35,
   "metadata": {},
   "outputs": [
    {
     "name": "stdout",
     "output_type": "stream",
     "text": [
      "Dec 31 2015 10:39:45\n"
     ]
    }
   ],
   "source": [
    "import time\n",
    "t = (2015, 12, 31, 10, 39, 45, 1, 48, 0)\n",
    "t = time.mktime(t)\n",
    "print (time.strftime(\"%b %d %Y %H:%M:%S\", time.localtime(t)))"
   ]
  },
  {
   "cell_type": "markdown",
   "metadata": {},
   "source": [
    "#Directive\n",
    "\n",
    " %a - abbreviated weekday name\n",
    "\n",
    " %A - full weekday name\n",
    "\n",
    " %b - abbreviated month name\n",
    "\n",
    " %B - full month name ..."
   ]
  },
  {
   "cell_type": "code",
   "execution_count": 36,
   "metadata": {},
   "outputs": [
    {
     "name": "stdout",
     "output_type": "stream",
     "text": [
      "Dec 31 2015 10:39:45\n"
     ]
    }
   ],
   "source": [
    "import time\n",
    "t = (2015, 12, 31, 10, 39, 45, 1, 48, 0)\n",
    "t = time.mktime(t)\n",
    "print (time.strftime(\"%b %d %Y %H:%M:%S\", time.localtime(t)))"
   ]
  },
  {
   "cell_type": "code",
   "execution_count": 37,
   "metadata": {},
   "outputs": [
    {
     "name": "stdout",
     "output_type": "stream",
     "text": [
      "tuple :  time.struct_time(tm_year=2015, tm_mon=12, tm_mday=30, tm_hour=0, tm_min=0, tm_sec=0, tm_wday=2, tm_yday=364, tm_isdst=-1)\n"
     ]
    }
   ],
   "source": [
    "import time\n",
    "struct_time = time.strptime(\"30 12 2015\", \"%d %m %Y\")\n",
    "print (\"tuple : \", struct_time)"
   ]
  },
  {
   "cell_type": "code",
   "execution_count": 38,
   "metadata": {},
   "outputs": [
    {
     "name": "stdout",
     "output_type": "stream",
     "text": [
      "time.time(): 1578310755.349008 \n",
      "time.struct_time(tm_year=2020, tm_mon=1, tm_mday=6, tm_hour=6, tm_min=39, tm_sec=15, tm_wday=0, tm_yday=6, tm_isdst=0)\n",
      "Mon Jan  6 06:39:15 2020\n"
     ]
    }
   ],
   "source": [
    "import time\n",
    "print (\"time.time(): %f \" %\n",
    "time.time())\n",
    "print (time.localtime( time.time() ))\n",
    "print (time.asctime( time.localtime(time.time()) ))"
   ]
  },
  {
   "cell_type": "code",
   "execution_count": 40,
   "metadata": {},
   "outputs": [
    {
     "name": "stdout",
     "output_type": "stream",
     "text": [
      "06:40:35 01/06/20 EST\n",
      "22:40:35 01/06/20 AEDT\n"
     ]
    }
   ],
   "source": [
    "import time\n",
    "import os\n",
    "os.environ['TZ'] = 'EST+05EDT,M4.1.0,M10.5.0'\n",
    "time.tzset()\n",
    "print(time.strftime('%X %x %Z'))\n",
    "os.environ['TZ'] = 'AEST-10AEDT-11,M10.5.0,M3.5.0'\n",
    "time.tzset()\n",
    "print(time.strftime('%X %x %Z'))"
   ]
  },
  {
   "cell_type": "markdown",
   "metadata": {},
   "source": [
    "<div class=\"alert alert-block alert-warning\">"
   ]
  },
  {
   "cell_type": "markdown",
   "metadata": {},
   "source": [
    "# <font color='green'>8. Functions</font>"
   ]
  },
  {
   "cell_type": "markdown",
   "metadata": {},
   "source": [
    "A function is a block of organized, reusable code that is used to perform a single, related\n",
    "action. Functions provide better modularity for your application and a high degree of code\n",
    "reusing.\n",
    "\n",
    "As you already know, Python gives you many built-in functions like print(), etc. but you\n",
    "can also create your own functions. These functions are called user-defined functions."
   ]
  },
  {
   "cell_type": "markdown",
   "metadata": {},
   "source": [
    "You can define functions to provide the required functionality. Here are simple rules to\n",
    "define a function in Python.\n",
    "\n",
    " Function blocks begin with the keyword def followed by the function name and\n",
    "parentheses ( ( ) ).\n",
    "\n",
    " Any input parameters or arguments should be placed within these parentheses.\n",
    "You can also define parameters inside these parentheses.\n",
    "\n",
    " The first statement of a function can be an optional statement - the documentation\n",
    "string of the function or docstring.\n",
    "\n",
    " The code block within every function starts with a colon (:) and is indented.\n",
    "\n",
    " The statement return [expression] exits a function, optionally passing back an\n",
    "expression to the caller. A return statement with no arguments is the same as\n",
    "return None."
   ]
  },
  {
   "cell_type": "code",
   "execution_count": 42,
   "metadata": {},
   "outputs": [],
   "source": [
    "def functionname( parameters ):\n",
    "    \"function_docstring\"\n",
    "    #function_suite\n",
    "    return #[expression]"
   ]
  },
  {
   "cell_type": "code",
   "execution_count": 44,
   "metadata": {},
   "outputs": [],
   "source": [
    "def printme( str1 ):\n",
    "    \"This prints a passed string into this function\"\n",
    "    print (str1)\n",
    "    return"
   ]
  },
  {
   "cell_type": "code",
   "execution_count": 45,
   "metadata": {},
   "outputs": [
    {
     "name": "stdout",
     "output_type": "stream",
     "text": [
      "This is first call to the user defined function!\n",
      "Again second call to the same function\n"
     ]
    }
   ],
   "source": [
    "# Now you can call printme function\n",
    "printme(\"This is first call to the user defined function!\")\n",
    "printme(\"Again second call to the same function\")"
   ]
  },
  {
   "cell_type": "code",
   "execution_count": 47,
   "metadata": {},
   "outputs": [
    {
     "name": "stdout",
     "output_type": "stream",
     "text": [
      "Values inside the function before change:  [10, 20, 30]\n",
      "Values inside the function after change:  [10, 20, 50]\n",
      "Values outside the function:  [10, 20, 50]\n"
     ]
    }
   ],
   "source": [
    "# Function definition is here\n",
    "def changeme( mylist ):\n",
    "    \"This changes a passed list into this function\"\n",
    "    print (\"Values inside the function before change: \", mylist)\n",
    "    mylist[2]=50\n",
    "    print (\"Values inside the function after change: \", mylist)\n",
    "    return\n",
    "# Now you can call changeme function\n",
    "mylist = [10,20,30]\n",
    "changeme(mylist)\n",
    "print (\"Values outside the function: \", mylist)"
   ]
  },
  {
   "cell_type": "markdown",
   "metadata": {},
   "source": [
    "### <font color='blue'>Calling a Function</font>"
   ]
  },
  {
   "cell_type": "code",
   "execution_count": 50,
   "metadata": {},
   "outputs": [
    {
     "name": "stdout",
     "output_type": "stream",
     "text": [
      "This is first call to the user defined function!\n",
      "Again second call to the same function\n"
     ]
    }
   ],
   "source": [
    "# Function definition is here\n",
    "def printme( str1 ):\n",
    "    \"This prints a passed string into this function\"\n",
    "    print (str1)\n",
    "    return\n",
    "# Now you can call printme function\n",
    "printme(\"This is first call to the user defined function!\")\n",
    "printme(\"Again second call to the same function\")"
   ]
  },
  {
   "cell_type": "markdown",
   "metadata": {},
   "source": [
    "### <font color='blue'>Pass by Reference vs Value</font>"
   ]
  },
  {
   "cell_type": "code",
   "execution_count": 51,
   "metadata": {},
   "outputs": [
    {
     "name": "stdout",
     "output_type": "stream",
     "text": [
      "Values inside the function before change:  [10, 20, 30]\n",
      "Values inside the function after change:  [10, 20, 50]\n",
      "Values outside the function:  [10, 20, 50]\n"
     ]
    }
   ],
   "source": [
    "# Function definition is here\n",
    "def changeme( mylist ):\n",
    "    \"This changes a passed list into this function\"\n",
    "    print (\"Values inside the function before change: \", mylist)\n",
    "    mylist[2]=50\n",
    "    print (\"Values inside the function after change: \", mylist)\n",
    "    return\n",
    "# Now you can call changeme function\n",
    "mylist = [10,20,30]\n",
    "changeme( mylist )\n",
    "print (\"Values outside the function: \", mylist)"
   ]
  },
  {
   "cell_type": "code",
   "execution_count": 52,
   "metadata": {},
   "outputs": [
    {
     "name": "stdout",
     "output_type": "stream",
     "text": [
      "Values inside the function:  [1, 2, 3, 4]\n",
      "Values outside the function:  [10, 20, 30]\n"
     ]
    }
   ],
   "source": [
    "# Function definition is here\n",
    "def changeme( mylist ):\n",
    "    \"This changes a passed list into this function\"\n",
    "    mylist = [1,2,3,4] # This would assi new reference in mylist\n",
    "    print (\"Values inside the function: \", mylist)\n",
    "    return\n",
    "# Now you can call changeme function\n",
    "mylist = [10,20,30]\n",
    "changeme( mylist )\n",
    "print (\"Values outside the function: \", mylist)"
   ]
  },
  {
   "cell_type": "markdown",
   "metadata": {},
   "source": [
    "Function Arguments: You can call a function by using the following types of formal arguments-\n",
    "\n",
    "     Required arguments\n",
    "\n",
    "     Keyword arguments\n",
    "\n",
    "     Default arguments\n",
    "\n",
    "     Variable-length arguments"
   ]
  },
  {
   "cell_type": "markdown",
   "metadata": {},
   "source": [
    "### <font color='blue'>Required Arguments</font>\n",
    "\n",
    "Required arguments are the arguments passed to a function in correct positional order.\n",
    "Here, the number of arguments in the function call should match exactly with the function\n",
    "definition.\n",
    "\n",
    "To call the function printme(), you definitely need to pass one argument, otherwise it gives\n",
    "a syntax error"
   ]
  },
  {
   "cell_type": "code",
   "execution_count": 53,
   "metadata": {},
   "outputs": [
    {
     "ename": "TypeError",
     "evalue": "printme() missing 1 required positional argument: 'str'",
     "output_type": "error",
     "traceback": [
      "\u001b[0;31m---------------------------------------------------------------------------\u001b[0m",
      "\u001b[0;31mTypeError\u001b[0m                                 Traceback (most recent call last)",
      "\u001b[0;32m<ipython-input-53-369453582406>\u001b[0m in \u001b[0;36m<module>\u001b[0;34m\u001b[0m\n\u001b[1;32m      5\u001b[0m     \u001b[0;32mreturn\u001b[0m\u001b[0;34m\u001b[0m\u001b[0;34m\u001b[0m\u001b[0m\n\u001b[1;32m      6\u001b[0m \u001b[0;31m# Now you can call printme function\u001b[0m\u001b[0;34m\u001b[0m\u001b[0;34m\u001b[0m\u001b[0;34m\u001b[0m\u001b[0m\n\u001b[0;32m----> 7\u001b[0;31m \u001b[0mprintme\u001b[0m\u001b[0;34m(\u001b[0m\u001b[0;34m)\u001b[0m\u001b[0;34m\u001b[0m\u001b[0;34m\u001b[0m\u001b[0m\n\u001b[0m",
      "\u001b[0;31mTypeError\u001b[0m: printme() missing 1 required positional argument: 'str'"
     ]
    }
   ],
   "source": [
    "# Function definition is here\n",
    "def printme( str ):\n",
    "    \"This prints a passed string into this function\"\n",
    "    print (str)\n",
    "    return\n",
    "# Now you can call printme function\n",
    "printme()"
   ]
  },
  {
   "cell_type": "code",
   "execution_count": 60,
   "metadata": {},
   "outputs": [
    {
     "name": "stdout",
     "output_type": "stream",
     "text": [
      "Inside the function local total :  30\n",
      "Outside the function global total :  0\n"
     ]
    }
   ],
   "source": [
    "total = 0 # This is global variable.\n",
    "# Function definition is here\n",
    "def sum( arg1, arg2 ):\n",
    "    # Add both the parameters and return them.\"\n",
    "    total = arg1 + arg2; # Here total is local variable.\n",
    "    print (\"Inside the function local total : \", total)\n",
    "    return total\n",
    "# Now you can call sum function\n",
    "sum( 10, 20 )\n",
    "print (\"Outside the function global total : \", total )"
   ]
  },
  {
   "cell_type": "markdown",
   "metadata": {},
   "source": [
    "### <font color='blue'>Keyword Argument</font>"
   ]
  },
  {
   "cell_type": "code",
   "execution_count": 54,
   "metadata": {},
   "outputs": [
    {
     "name": "stdout",
     "output_type": "stream",
     "text": [
      "My string\n"
     ]
    }
   ],
   "source": [
    "def printme( str ):\n",
    "    \"This prints a passed string into this function\"\n",
    "    print (str)\n",
    "    return\n",
    "# Now you can call printme function\n",
    "printme( str = \"My string\")"
   ]
  },
  {
   "cell_type": "code",
   "execution_count": 55,
   "metadata": {},
   "outputs": [
    {
     "name": "stdout",
     "output_type": "stream",
     "text": [
      "Name:  miki\n",
      "Age  50\n"
     ]
    }
   ],
   "source": [
    "# Function definition is here\n",
    "def printinfo( name, age ):\n",
    "    \"This prints a passed info into this function\"\n",
    "    print (\"Name: \", name)\n",
    "    print (\"Age \", age)\n",
    "    return\n",
    "# Now you can call printinfo function\n",
    "printinfo( age=50, name=\"miki\" )"
   ]
  },
  {
   "cell_type": "code",
   "execution_count": 57,
   "metadata": {},
   "outputs": [
    {
     "name": "stdout",
     "output_type": "stream",
     "text": [
      "Name:  miki\n",
      "Age  50\n",
      "Name:  miki\n",
      "Age  35\n"
     ]
    }
   ],
   "source": [
    "#Default Arguments\n",
    "# Function definition is here\n",
    "def printinfo( name, age = 35 ): # age is default argument\n",
    "    \"This prints a passed info into this function\"\n",
    "    print (\"Name: \", name)\n",
    "    print (\"Age \", age)\n",
    "    return\n",
    "# Now you can call printinfo function\n",
    "printinfo( age=50, name=\"miki\" )\n",
    "printinfo( name=\"miki\" )"
   ]
  },
  {
   "cell_type": "code",
   "execution_count": 58,
   "metadata": {},
   "outputs": [
    {
     "name": "stdout",
     "output_type": "stream",
     "text": [
      "Output is: \n",
      "10\n",
      "Output is: \n",
      "70\n",
      "60\n",
      "50\n"
     ]
    }
   ],
   "source": [
    "#Variable-length Arguments\n",
    "# Function definition is here\n",
    "def printinfo( arg1, *vartuple ):\n",
    "    \"This prints a variable passed arguments\"\n",
    "    print (\"Output is: \")\n",
    "    print (arg1)\n",
    "    for var in vartuple:\n",
    "        print (var)\n",
    "    return\n",
    "# Now you can call printinfo function\n",
    "printinfo( 10 )\n",
    "printinfo( 70, 60, 50 )"
   ]
  },
  {
   "cell_type": "code",
   "execution_count": 59,
   "metadata": {},
   "outputs": [
    {
     "name": "stdout",
     "output_type": "stream",
     "text": [
      "Value of total :  30\n",
      "Value of total :  40\n"
     ]
    }
   ],
   "source": [
    "#Anonymous functions\n",
    "# Function definition is here\n",
    "sum = lambda arg1, arg2: arg1 + arg2\n",
    "# Now you can call sum as a function\n",
    "print (\"Value of total : \", sum( 10, 20 ))\n",
    "print (\"Value of total : \", sum( 20, 20 ))"
   ]
  },
  {
   "cell_type": "code",
   "execution_count": 61,
   "metadata": {},
   "outputs": [
    {
     "name": "stdout",
     "output_type": "stream",
     "text": [
      "Inside the function :  30\n",
      "Outside the function :  30\n"
     ]
    }
   ],
   "source": [
    "# Return statement\n",
    "# Function definition is here\n",
    "def sum( arg1, arg2 ):\n",
    "# Add both the parameters and return them.\"\n",
    "    total = arg1 + arg2\n",
    "    print (\"Inside the function : \", total)\n",
    "    return total\n",
    "# Now you can call sum function\n",
    "total = sum( 10, 20 )\n",
    "print (\"Outside the function : \", total )"
   ]
  },
  {
   "cell_type": "code",
   "execution_count": 62,
   "metadata": {},
   "outputs": [
    {
     "name": "stdout",
     "output_type": "stream",
     "text": [
      "Inside the function local total :  30\n",
      "Outside the function global total :  0\n"
     ]
    }
   ],
   "source": [
    "# Global vs local variable\n",
    "total = 0 # This is global variable.\n",
    "# Function definition is here\n",
    "def sum( arg1, arg2 ):\n",
    "    # Add both the parameters and return them.\"\n",
    "    total = arg1 + arg2; # Here total is local variable.\n",
    "    print (\"Inside the function local total : \", total)\n",
    "    return total\n",
    "# Now you can call sum function\n",
    "sum( 10, 20 )\n",
    "print (\"Outside the function global total : \", total )"
   ]
  },
  {
   "cell_type": "markdown",
   "metadata": {},
   "source": [
    "<div class=\"alert alert-block alert-warning\">"
   ]
  },
  {
   "cell_type": "markdown",
   "metadata": {},
   "source": [
    "# <font color='green'>9. Special Functions</font>"
   ]
  },
  {
   "cell_type": "markdown",
   "metadata": {},
   "source": [
    "### <font color='blue'>lambda</font>"
   ]
  },
  {
   "cell_type": "markdown",
   "metadata": {},
   "source": [
    "In Python, anonymous function means that a function is without a name. As we already know that def keyword is used to define the normal functions and the lambda keyword is used to create anonymous functions. \n",
    "\n",
    "It has the following syntax:   lambda arguments: expression"
   ]
  },
  {
   "cell_type": "markdown",
   "metadata": {},
   "source": [
    "This function can have any number of arguments but only one expression, which is evaluated and returned.\n",
    "\n",
    "One is free to use lambda functions wherever function objects are required.\n",
    "\n",
    "You need to keep in your knowledge that lambda functions are syntactically restricted to a single expression.\n",
    "\n",
    "It has various uses in particular fields of programming besides other types of expressions in functions."
   ]
  },
  {
   "cell_type": "code",
   "execution_count": 64,
   "metadata": {},
   "outputs": [
    {
     "name": "stdout",
     "output_type": "stream",
     "text": [
      "343\n",
      "125\n"
     ]
    }
   ],
   "source": [
    "# Python code to illustrate cube of a number \n",
    "# showing difference between def() and lambda(). \n",
    "def cube(y): \n",
    "\treturn y*y*y; \n",
    "\n",
    "g = lambda x: x*x*x \n",
    "print(g(7)) \n",
    "\n",
    "print(cube(5)) \n"
   ]
  },
  {
   "cell_type": "markdown",
   "metadata": {},
   "source": [
    "### <font color='blue'>filter</font>"
   ]
  },
  {
   "cell_type": "code",
   "execution_count": 65,
   "metadata": {},
   "outputs": [
    {
     "name": "stdout",
     "output_type": "stream",
     "text": [
      "[5, 7, 97, 77, 23, 73, 61]\n"
     ]
    }
   ],
   "source": [
    "# Python code to illustrate \n",
    "# filter() with lambda() \n",
    "li = [5, 7, 22, 97, 54, 62, 77, 23, 73, 61] \n",
    "final_list = list(filter(lambda x: (x%2 != 0) , li)) \n",
    "print(final_list) "
   ]
  },
  {
   "cell_type": "markdown",
   "metadata": {},
   "source": [
    "### <font color='blue'>map</font>"
   ]
  },
  {
   "cell_type": "code",
   "execution_count": 66,
   "metadata": {},
   "outputs": [
    {
     "name": "stdout",
     "output_type": "stream",
     "text": [
      "[10, 14, 44, 194, 108, 124, 154, 46, 146, 122]\n"
     ]
    }
   ],
   "source": [
    "# Python code to illustrate \n",
    "# map() with lambda() \n",
    "# to get double of a list. \n",
    "li = [5, 7, 22, 97, 54, 62, 77, 23, 73, 61] \n",
    "final_list = list(map(lambda x: x*2 , li)) \n",
    "print(final_list) "
   ]
  },
  {
   "cell_type": "markdown",
   "metadata": {},
   "source": [
    "### <font color='blue'>reduce</font>"
   ]
  },
  {
   "cell_type": "code",
   "execution_count": 67,
   "metadata": {},
   "outputs": [
    {
     "name": "stdout",
     "output_type": "stream",
     "text": [
      "193\n"
     ]
    }
   ],
   "source": [
    "# Python code to illustrate \n",
    "# reduce() with lambda() \n",
    "# to get sum of a list \n",
    "from functools import reduce\n",
    "li = [5, 8, 10, 20, 50, 100] \n",
    "sum = reduce((lambda x, y: x + y), li) \n",
    "print (sum) "
   ]
  },
  {
   "cell_type": "markdown",
   "metadata": {},
   "source": [
    "### <font color='blue'>zip/zip*</font>"
   ]
  },
  {
   "cell_type": "markdown",
   "metadata": {},
   "source": [
    "The purpose of zip() is to map the similar index of multiple containers so that they can be used just using as single entity."
   ]
  },
  {
   "cell_type": "code",
   "execution_count": 68,
   "metadata": {},
   "outputs": [
    {
     "name": "stdout",
     "output_type": "stream",
     "text": [
      "The zipped result is : {('Manjeet', 4, 40), ('Astha', 2, 70), ('Nikhil', 1, 50), ('Shambhavi', 3, 60)}\n"
     ]
    }
   ],
   "source": [
    "# Python code to demonstrate the working of \n",
    "# zip() \n",
    "\n",
    "# initializing lists \n",
    "name = [ \"Manjeet\", \"Nikhil\", \"Shambhavi\", \"Astha\" ] \n",
    "roll_no = [ 4, 1, 3, 2 ] \n",
    "marks = [ 40, 50, 60, 70 ] \n",
    "\n",
    "# using zip() to map values \n",
    "mapped = zip(name, roll_no, marks) \n",
    "\n",
    "# converting values to print as set \n",
    "mapped = set(mapped) \n",
    "\n",
    "# printing resultant values \n",
    "print (\"The zipped result is : \",end=\"\") \n",
    "print (mapped) "
   ]
  },
  {
   "cell_type": "code",
   "execution_count": 69,
   "metadata": {},
   "outputs": [
    {
     "name": "stdout",
     "output_type": "stream",
     "text": [
      "The zipped result is : [('Manjeet', 4, 40), ('Nikhil', 1, 50), ('Shambhavi', 3, 60), ('Astha', 2, 70)]\n",
      "\n",
      "\n",
      "The unzipped result: \n",
      "The name list is : ('Manjeet', 'Nikhil', 'Shambhavi', 'Astha')\n",
      "The roll_no list is : (4, 1, 3, 2)\n",
      "The marks list is : (40, 50, 60, 70)\n"
     ]
    }
   ],
   "source": [
    "# Python code to demonstrate the working of \n",
    "# unzip \n",
    "\n",
    "# initializing lists \n",
    "\n",
    "name = [ \"Manjeet\", \"Nikhil\", \"Shambhavi\", \"Astha\" ] \n",
    "roll_no = [ 4, 1, 3, 2 ] \n",
    "marks = [ 40, 50, 60, 70 ] \n",
    "\n",
    "# using zip() to map values \n",
    "mapped = zip(name, roll_no, marks) \n",
    "\n",
    "# converting values to print as list \n",
    "mapped = list(mapped) \n",
    "\n",
    "# printing resultant values \n",
    "print (\"The zipped result is : \",end=\"\") \n",
    "print (mapped) \n",
    "\n",
    "print(\"\\n\") \n",
    "\n",
    "# unzipping values \n",
    "namz, roll_noz, marksz = zip(*mapped) \n",
    "\n",
    "print (\"The unzipped result: \\n\",end=\"\") \n",
    "\n",
    "# printing initial lists \n",
    "print (\"The name list is : \",end=\"\") \n",
    "print (namz) \n",
    "\n",
    "print (\"The roll_no list is : \",end=\"\") \n",
    "print (roll_noz) \n",
    "\n",
    "print (\"The marks list is : \",end=\"\") \n",
    "print (marksz) "
   ]
  },
  {
   "cell_type": "code",
   "execution_count": 71,
   "metadata": {},
   "outputs": [
    {
     "name": "stdout",
     "output_type": "stream",
     "text": [
      "Player  Score\n",
      "Sachin 100\n",
      "Sehwag 15\n",
      "Gambhir 17\n",
      "Dravid 28\n",
      "Raina 43\n"
     ]
    }
   ],
   "source": [
    "# Python code to demonstrate the application of \n",
    "# zip() \n",
    "\n",
    "# initializing list of players. \n",
    "players = [ \"Sachin\", \"Sehwag\", \"Gambhir\", \"Dravid\", \"Raina\" ] \n",
    "\n",
    "# initializing their scores \n",
    "scores = [100, 15, 17, 28, 43 ] \n",
    "\n",
    "# printing players and scores. \n",
    "print (\"Player  Score\")\n",
    "for pl, sc in zip(players, scores): \n",
    "\tprint (pl, sc) "
   ]
  },
  {
   "cell_type": "markdown",
   "metadata": {},
   "source": [
    "### <font color='blue'>enumerate</font>"
   ]
  },
  {
   "cell_type": "markdown",
   "metadata": {},
   "source": [
    "Enumerate() method adds a counter to an iterable and returns it in a form of enumerate object. This enumerate object can then be used directly in for loops or be converted into a list of tuples using list() method.\n",
    "\n",
    "enumerate(iterable, start=0), can start at a value of interest"
   ]
  },
  {
   "cell_type": "code",
   "execution_count": 73,
   "metadata": {},
   "outputs": [
    {
     "name": "stdout",
     "output_type": "stream",
     "text": [
      "Return type: <class 'enumerate'>\n",
      "[(0, 'eat'), (1, 'sleep'), (2, 'repeat')]\n",
      "[(2, 'g'), (3, 'e'), (4, 'e'), (5, 'k')]\n"
     ]
    }
   ],
   "source": [
    "# Python program to illustrate \n",
    "# enumerate function \n",
    "l1 = [\"eat\",\"sleep\",\"repeat\"] \n",
    "s1 = \"geek\"\n",
    "\n",
    "# creating enumerate objects \n",
    "obj1 = enumerate(l1) \n",
    "obj2 = enumerate(s1) \n",
    "\n",
    "print(\"Return type:\",type(obj1)) \n",
    "print (list(enumerate(l1)))\n",
    "\n",
    "# changing start index to 2 from 0 \n",
    "print (list(enumerate(s1,2)) )"
   ]
  },
  {
   "cell_type": "code",
   "execution_count": 76,
   "metadata": {},
   "outputs": [
    {
     "name": "stdout",
     "output_type": "stream",
     "text": [
      "(0, 'eat')\n",
      "(1, 'sleep')\n",
      "(2, 'repeat')\n",
      "\n",
      "100 eat\n",
      "101 sleep\n",
      "102 repeat\n"
     ]
    }
   ],
   "source": [
    "# Python program to illustrate \n",
    "# enumerate function in loops \n",
    "l1 = [\"eat\",\"sleep\",\"repeat\"] \n",
    "# printing the tuples in object directly \n",
    "for ele in enumerate(l1): \n",
    "\tprint (ele )\n",
    "print()\n",
    "# changing index and printing separately \n",
    "for count,ele in enumerate(l1,100): \n",
    "\tprint (count,ele )"
   ]
  },
  {
   "cell_type": "markdown",
   "metadata": {},
   "source": [
    "<div class=\"alert alert-block alert-warning\">"
   ]
  },
  {
   "cell_type": "markdown",
   "metadata": {},
   "source": [
    "# <font color='green'>10. Object Orient Programming (OOP)</font>"
   ]
  },
  {
   "cell_type": "markdown",
   "metadata": {},
   "source": [
    "## <font color='green'>10.1 OOP-Introduction</font>"
   ]
  },
  {
   "cell_type": "markdown",
   "metadata": {},
   "source": [
    "<ul>\n",
    "    <li>OOP allows programmers to create their own objects that have methods and attributes</li>\n",
    "    <li>Recall that after defining a string, list, dictionary, or other objects, you were able to call methods off of them with instance.methd_name() syntax</li>\n",
    "    <li><font color='green'>Object</font> is simply a collection of data (variables) and methods (functions) that act on those data.</li>\n",
    "    <li><font color='green'>Method</font> is a function within a class that acts upon specific data/objects</li>\n",
    "    <li>These methods act as functions that use information about the object, as well as the object itself to return results, or change the current object</li>\n",
    "    <li>For example this includes appending to a list, or counting the occurences of an element ina tuple</li>\n",
    "    <li>OOP allows users to create their own objects</li>\n",
    "    <li>OOP allows to create code that is reusable/repeatable and organized</li>\n",
    "    <li>Why OOP? Because functions themselves may not be enough for reusability an dorganization for all problems</li>\n",
    "    <li>Commonly repeated tasks and objects can be defined with oop to create code that is more usable</li>\n",
    "</ul>"
   ]
  },
  {
   "cell_type": "markdown",
   "metadata": {},
   "source": [
    "### <font color='red'>OOP Class Syntax</font>\n",
    "<ul>\n",
    "    <li><font color='blue'>Class Name (CamelCase), always capitalized</font></li>\n",
    "    <li><font color='blue'>__init__ is the constructor of Python classes</font></li>\n",
    "    <li><font color='blue'>The 3rd component is a method that acts upon the class parameters or attributes</font></li> \n",
    "    \n",
    "</ul>"
   ]
  },
  {
   "cell_type": "code",
   "execution_count": null,
   "metadata": {},
   "outputs": [],
   "source": [
    "class NameOfClass(): #CamelCasing naming, always capitalize\n",
    "    # Constructor, special method __init__\n",
    "    # It allows us to create the instance of the actual object\n",
    "    def __init__(self,param1,param2):\n",
    "        self.param1=param1 # refers to attribe attached to the instance\n",
    "        self.param2=param2\n",
    "        #param1 & param2 are global variables\n",
    "        #self.param1 and self.param2 are attributes of the instance class\n",
    "    \n",
    "    # Define class methods\n",
    "    def some_method(self): # Hyphenated naming conventions\n",
    "        #perform some actions\n",
    "        print(self.param1)"
   ]
  },
  {
   "cell_type": "markdown",
   "metadata": {},
   "source": [
    "## <font color='green'>10.2 OOP-Class Keyword and Attributes</font>"
   ]
  },
  {
   "cell_type": "markdown",
   "metadata": {},
   "source": [
    "### <font color='blue'>Class Keyword</font>"
   ]
  },
  {
   "cell_type": "markdown",
   "metadata": {},
   "source": [
    "<ul>\n",
    "    <li>A <font color='green'>class</font> is a user defined keyword object</li>\n",
    "    <li>A <font color='green'>class</font> is a blueprint that defines the nature of a future object</li>\n",
    "    <li>An <font color='green'>instance</font> of the object can be created from a class</li>\n",
    "    <li>An <font color='green'>instance</font> is a specific object created from a particular class</li>\n",
    "</ul>"
   ]
  },
  {
   "cell_type": "code",
   "execution_count": null,
   "metadata": {},
   "outputs": [],
   "source": [
    "class SampleWord():\n",
    "    pass # don't do anything here! Pass is a place holder like None"
   ]
  },
  {
   "cell_type": "code",
   "execution_count": null,
   "metadata": {},
   "outputs": [],
   "source": [
    "# Create an instance of the class\n",
    "my_sample=SampleWord()"
   ]
  },
  {
   "cell_type": "code",
   "execution_count": null,
   "metadata": {},
   "outputs": [],
   "source": [
    "type(my_sample) \n",
    "# __main__ in __main__.SampleWord tells us that it is connected to \n",
    "#  the SampleWord class"
   ]
  },
  {
   "cell_type": "markdown",
   "metadata": {},
   "source": [
    "### <font color='blue'>Attributes</font>"
   ]
  },
  {
   "cell_type": "markdown",
   "metadata": {},
   "source": [
    "#### Attributes are characteristics of an object"
   ]
  },
  {
   "cell_type": "code",
   "execution_count": null,
   "metadata": {},
   "outputs": [],
   "source": [
    "# Dogs have such attributes breed, name, spots, etc\n",
    "# Dogs have some common attributes \n",
    "# An instance of the DOg class one that shares some of these attributes and\n",
    "#  might have additional ones\n",
    "class Dog():\n",
    "    # Let us now cretae attributes here\n",
    "    # Self connects the method to the instance of the class\n",
    "    # Sel represents the instance of the object\n",
    "    def __init__(self,breed):\n",
    "        # Attributes\n",
    "        # We take in the argument\n",
    "        # Assign it using self.attribute_name\n",
    "        self.breed=breed # make the 3 names the same, b, s.b=b  "
   ]
  },
  {
   "cell_type": "code",
   "execution_count": null,
   "metadata": {},
   "outputs": [],
   "source": [
    "# Instantiate an object\n",
    "my_dog = Dog(breed='Lab') # argument must be passed"
   ]
  },
  {
   "cell_type": "code",
   "execution_count": null,
   "metadata": {},
   "outputs": [],
   "source": [
    "type(my_dog)"
   ]
  },
  {
   "cell_type": "code",
   "execution_count": null,
   "metadata": {},
   "outputs": [],
   "source": [
    "#Accessing attributes\n",
    "my_dog.breed # no parenthesis"
   ]
  },
  {
   "cell_type": "code",
   "execution_count": null,
   "metadata": {},
   "outputs": [],
   "source": [
    "my_dog = Dog(breed='Huskie')\n",
    "# Huskie is passed to the class\n",
    "# Huskie is assigned to the instance object using self.breed=breed\n",
    "my_dog # gives memory location of breed"
   ]
  },
  {
   "cell_type": "code",
   "execution_count": null,
   "metadata": {},
   "outputs": [],
   "source": [
    "my_dog.breed # attribute"
   ]
  },
  {
   "cell_type": "code",
   "execution_count": null,
   "metadata": {},
   "outputs": [],
   "source": [
    "# More attributes\n",
    "class Dog:\n",
    "    def __init__(self, breed, name, spots): # accesses the constructor\n",
    "        self.breed=breed\n",
    "        self.name=name\n",
    "        self.spots=spots # Boolean"
   ]
  },
  {
   "cell_type": "code",
   "execution_count": null,
   "metadata": {},
   "outputs": [],
   "source": [
    "# Instance\n",
    "instance=Dog(breed='Lab',name='Worku', spots=True)"
   ]
  },
  {
   "cell_type": "code",
   "execution_count": null,
   "metadata": {},
   "outputs": [],
   "source": [
    "instance.breed #press tab check the available attributes"
   ]
  },
  {
   "cell_type": "code",
   "execution_count": null,
   "metadata": {},
   "outputs": [],
   "source": [
    "instance.name"
   ]
  },
  {
   "cell_type": "code",
   "execution_count": null,
   "metadata": {},
   "outputs": [],
   "source": [
    "instance.spots"
   ]
  },
  {
   "cell_type": "markdown",
   "metadata": {},
   "source": [
    "## <font color='green'>10.3 OOP-Class Object Attributes and Methods</font>"
   ]
  },
  {
   "cell_type": "markdown",
   "metadata": {},
   "source": [
    "### <font color='blue'>Class vs Instance Attributes</font>"
   ]
  },
  {
   "cell_type": "code",
   "execution_count": null,
   "metadata": {},
   "outputs": [],
   "source": [
    "# Attributes which are the same to any instance of the class are defined\n",
    "# before the constructor.\n",
    "class Dog():\n",
    "    # CLASS OBJECT ATTRIBUTES\n",
    "    # Same for any instance of a class\n",
    "    # Self is a reference to the instance of a class, hence no self is\n",
    "    # used for class object attributes\n",
    "    species='mammal' # Not connected to any particular instance\n",
    "    def __init__(self, breed, name, spots): # accesses the constructor\n",
    "        # Only attributes that belong to a particular instance are defined\n",
    "        # here! Or assigned here using the self.\n",
    "        self.breed=breed\n",
    "        self.name=name\n",
    "        self.spots=spots # Boolean"
   ]
  },
  {
   "cell_type": "code",
   "execution_count": null,
   "metadata": {},
   "outputs": [],
   "source": [
    "my_dog=Dog(breed='Lab',name='Worku', spots=True)"
   ]
  },
  {
   "cell_type": "code",
   "execution_count": null,
   "metadata": {},
   "outputs": [],
   "source": [
    "my_dog.breed"
   ]
  },
  {
   "cell_type": "code",
   "execution_count": null,
   "metadata": {},
   "outputs": [],
   "source": [
    "my_dog.name"
   ]
  },
  {
   "cell_type": "code",
   "execution_count": null,
   "metadata": {},
   "outputs": [],
   "source": [
    "my_dog.spots"
   ]
  },
  {
   "cell_type": "code",
   "execution_count": null,
   "metadata": {},
   "outputs": [],
   "source": [
    "my_dog.species"
   ]
  },
  {
   "cell_type": "code",
   "execution_count": null,
   "metadata": {},
   "outputs": [],
   "source": [
    "from IPython.display import Image\n",
    "from IPython.core.display import HTML\n",
    "Image('./0_pictures/oop_2.png')\n",
    "#Instance and class Attributes: period tab"
   ]
  },
  {
   "cell_type": "markdown",
   "metadata": {},
   "source": [
    "### <font color='blue'>Methods</font>"
   ]
  },
  {
   "cell_type": "markdown",
   "metadata": {},
   "source": [
    "<ul>\n",
    "    <li>Functions defined inside the body of the class</li>\n",
    "    <li>Functions that act on an object through the use of the self-argument/keyword</li>\n",
    "    <li>Operations/Actions</li>\n",
    "</ul>"
   ]
  },
  {
   "cell_type": "code",
   "execution_count": null,
   "metadata": {},
   "outputs": [],
   "source": [
    "class Dog():    \n",
    "    species='mammal' \n",
    "    def __init__(self, breed, name):        \n",
    "        self.breed=breed\n",
    "        self.name=name        \n",
    "    def bark(self):\n",
    "        print(\"WOOF! My name is {}\".format(self.name))"
   ]
  },
  {
   "cell_type": "code",
   "execution_count": null,
   "metadata": {},
   "outputs": [],
   "source": [
    "my_dog=Dog(breed='Lab',name='Worku')"
   ]
  },
  {
   "cell_type": "code",
   "execution_count": null,
   "metadata": {},
   "outputs": [],
   "source": [
    "type(my_dog)"
   ]
  },
  {
   "cell_type": "code",
   "execution_count": null,
   "metadata": {},
   "outputs": [],
   "source": [
    "my_dog.species"
   ]
  },
  {
   "cell_type": "code",
   "execution_count": null,
   "metadata": {},
   "outputs": [],
   "source": [
    "my_dog.name"
   ]
  },
  {
   "cell_type": "code",
   "execution_count": null,
   "metadata": {},
   "outputs": [],
   "source": [
    "my_dog.breed"
   ]
  },
  {
   "cell_type": "code",
   "execution_count": null,
   "metadata": {},
   "outputs": [],
   "source": [
    "my_dog.bark() # notice the difference"
   ]
  },
  {
   "cell_type": "code",
   "execution_count": null,
   "metadata": {},
   "outputs": [],
   "source": [
    "class Dog():    \n",
    "    species='mammal' \n",
    "    def __init__(self, breed, name):        \n",
    "        self.breed=breed\n",
    "        self.name=name        \n",
    "    def bark(self, number): # add external parameter\n",
    "        print(\"WOOF! My name is {} and my number is {}\"\\\n",
    "              .format(self.name, number))"
   ]
  },
  {
   "cell_type": "code",
   "execution_count": null,
   "metadata": {},
   "outputs": [],
   "source": [
    "my_dog=Dog(breed='Lab',name='Sami')"
   ]
  },
  {
   "cell_type": "code",
   "execution_count": null,
   "metadata": {},
   "outputs": [],
   "source": [
    "my_dog.bark(300)"
   ]
  },
  {
   "cell_type": "code",
   "execution_count": null,
   "metadata": {},
   "outputs": [],
   "source": [
    "# Let us create a circle class\n",
    "class Circle():\n",
    "    #Class object attribute\n",
    "    pi=3.14\n",
    "    def __init__(self,radius=1): # default radius value is 1\n",
    "        self.radius=radius\n",
    "    \n",
    "    #Method\n",
    "    def get_circumference(self):\n",
    "        return self.radius*self.pi*2 # better t use Circle.pi\n",
    "    "
   ]
  },
  {
   "cell_type": "code",
   "execution_count": null,
   "metadata": {},
   "outputs": [],
   "source": [
    "my_circle=Circle()"
   ]
  },
  {
   "cell_type": "code",
   "execution_count": null,
   "metadata": {},
   "outputs": [],
   "source": [
    "my_circle.pi"
   ]
  },
  {
   "cell_type": "code",
   "execution_count": null,
   "metadata": {},
   "outputs": [],
   "source": [
    "my_circle.radius"
   ]
  },
  {
   "cell_type": "code",
   "execution_count": null,
   "metadata": {},
   "outputs": [],
   "source": [
    "my_circle.get_circumference()"
   ]
  },
  {
   "cell_type": "code",
   "execution_count": null,
   "metadata": {},
   "outputs": [],
   "source": [
    "my_circle=Circle(2) \n",
    "# provide new value for radius, overrides default value"
   ]
  },
  {
   "cell_type": "code",
   "execution_count": null,
   "metadata": {},
   "outputs": [],
   "source": [
    "my_circle.radius"
   ]
  },
  {
   "cell_type": "code",
   "execution_count": null,
   "metadata": {},
   "outputs": [],
   "source": [
    "my_circle.get_circumference()"
   ]
  },
  {
   "cell_type": "code",
   "execution_count": null,
   "metadata": {},
   "outputs": [],
   "source": [
    "# Additional attributes under constructor with no arg passing\n",
    "# Use class name before the period and class object attribute not self\n",
    "class Circle():\n",
    "    #Class object attribute\n",
    "    pi=3.14\n",
    "    def __init__(self,radius=1): # default radius value is 1\n",
    "        self.radius=radius\n",
    "        self.area=self.radius*self.radius*Circle.pi\n",
    "               # Class name for class attributes, better readability\n",
    "               # But self is also ok for instance\n",
    "    #Method\n",
    "    def get_circumference(self):\n",
    "        return self.radius*Circle.pi*2 \n",
    "        # use class name for class attributes for better readability"
   ]
  },
  {
   "cell_type": "code",
   "execution_count": null,
   "metadata": {},
   "outputs": [],
   "source": [
    "my_circle=Circle()"
   ]
  },
  {
   "cell_type": "code",
   "execution_count": null,
   "metadata": {},
   "outputs": [],
   "source": [
    "my_circle.area"
   ]
  },
  {
   "cell_type": "code",
   "execution_count": null,
   "metadata": {},
   "outputs": [],
   "source": [
    "my_circle.get_circumference()"
   ]
  },
  {
   "cell_type": "markdown",
   "metadata": {},
   "source": [
    "## <font color='green'>10.4 OOP-Inheritance and Polymorphism</font>"
   ]
  },
  {
   "cell_type": "markdown",
   "metadata": {},
   "source": [
    "### <font color='blue'>Inheritance</font>"
   ]
  },
  {
   "cell_type": "markdown",
   "metadata": {},
   "source": [
    "<ul>\n",
    "    <li>A way to form new classes using classes that have already been defined </li>\n",
    "    <li>Its importance is code reusability that reduces program complexity</li>\n",
    "    <li>Inherits some attributes and methods from a base class</li>\n",
    "    \n",
    "</ul>"
   ]
  },
  {
   "cell_type": "code",
   "execution_count": null,
   "metadata": {},
   "outputs": [],
   "source": [
    "# The Base class\n",
    "class Animal():\n",
    "    def __init__(self):\n",
    "        print('Animal created')\n",
    "    \n",
    "    def who_am_I(self):\n",
    "        print('I am an animal')\n",
    "    def eat(self):\n",
    "        print('I am eating')  "
   ]
  },
  {
   "cell_type": "code",
   "execution_count": null,
   "metadata": {},
   "outputs": [],
   "source": [
    "# Instantiate the class\n",
    "ani=Animal()"
   ]
  },
  {
   "cell_type": "code",
   "execution_count": null,
   "metadata": {},
   "outputs": [],
   "source": [
    "ani.who_am_I()"
   ]
  },
  {
   "cell_type": "code",
   "execution_count": null,
   "metadata": {},
   "outputs": [],
   "source": [
    "ani.eat()"
   ]
  },
  {
   "cell_type": "code",
   "execution_count": null,
   "metadata": {},
   "outputs": [],
   "source": [
    "# New classes may inherit the base class to use some of its methods\n",
    "#   and attributes\n",
    "# Create a Dog class, a dog is an animal and it inherits some attributes\n",
    "#  and behaviors of an animal.\n",
    "class Dog(Animal): # This is called derived class      \n",
    "    def __init__(self):        \n",
    "        Animal.__init__(self) \n",
    "        # create an instance of the Animal class when an instance of \n",
    "        # Dog class is created!\n",
    "        print('Dog created!')        "
   ]
  },
  {
   "cell_type": "code",
   "execution_count": null,
   "metadata": {},
   "outputs": [],
   "source": [
    "mydog=Dog()"
   ]
  },
  {
   "cell_type": "code",
   "execution_count": null,
   "metadata": {},
   "outputs": [],
   "source": [
    "# Now all the methods in class Animal are access to class Dog\n",
    "# No need to rewrite the methods for the new or derived class\n",
    "mydog.eat()"
   ]
  },
  {
   "cell_type": "code",
   "execution_count": null,
   "metadata": {},
   "outputs": [],
   "source": [
    "mydog.who_am_I()"
   ]
  },
  {
   "cell_type": "code",
   "execution_count": null,
   "metadata": {},
   "outputs": [],
   "source": [
    "# Overriding some of the old methods when need arises\n",
    "class Dog(Animal): # This is called derived class      \n",
    "    def __init__(self):        \n",
    "        Animal.__init__(self)         \n",
    "        print('Dog created!') \n",
    "    # Overriding a method in class Animal\n",
    "    def who_am_I(self):\n",
    "        print('I am a dog')"
   ]
  },
  {
   "cell_type": "code",
   "execution_count": null,
   "metadata": {},
   "outputs": [],
   "source": [
    "mydog=Dog()"
   ]
  },
  {
   "cell_type": "code",
   "execution_count": null,
   "metadata": {},
   "outputs": [],
   "source": [
    "mydog.who_am_I()"
   ]
  },
  {
   "cell_type": "code",
   "execution_count": null,
   "metadata": {},
   "outputs": [],
   "source": [
    "# Add new methods to derived class\n",
    "class Dog(Animal): # This is called derived class      \n",
    "    def __init__(self):        \n",
    "        Animal.__init__(self)         \n",
    "        print('Dog created!') \n",
    "    # Overriding a method in class Animal\n",
    "    def eat(self):\n",
    "        print('I am a dog and eating')\n",
    "    # Adding a new method\n",
    "    def bark(self):\n",
    "        print('WOOF!')"
   ]
  },
  {
   "cell_type": "code",
   "execution_count": null,
   "metadata": {},
   "outputs": [],
   "source": [
    "mydog=Dog()"
   ]
  },
  {
   "cell_type": "code",
   "execution_count": null,
   "metadata": {},
   "outputs": [],
   "source": [
    "# Method from class Animal\n",
    "mydog.who_am_I()"
   ]
  },
  {
   "cell_type": "code",
   "execution_count": null,
   "metadata": {},
   "outputs": [],
   "source": [
    "# Overridden method\n",
    "mydog.eat()"
   ]
  },
  {
   "cell_type": "code",
   "execution_count": null,
   "metadata": {},
   "outputs": [],
   "source": [
    "# Newly added method\n",
    "mydog.bark()"
   ]
  },
  {
   "cell_type": "markdown",
   "metadata": {},
   "source": [
    "### <font color='blue'>Polymorphism</font>"
   ]
  },
  {
   "cell_type": "markdown",
   "metadata": {},
   "source": [
    "<ul>\n",
    "    <li>Refers to the way in which different object classes can share the same method name</li>\n",
    "    <li>These methods can be called from the same place even though overriding objects can be passed in</li>\n",
    "    <li> Create two classes: Dog and Cat, and see what polymorphism means</li>\n",
    "    <li>The two classes have the same speak method but each returns a result unique to the object class</li>\n",
    "    <li> Used with an abstract class created to be a base class. It is never instantiated.</li>\n",
    "    <li> A more realistic example is when you want to open files of different formats (csv, xlsx, sas, html, ...). You can use a method with the same name 'open' but it returns a unique file.</li>\n",
    "</ul>"
   ]
  },
  {
   "cell_type": "code",
   "execution_count": null,
   "metadata": {},
   "outputs": [],
   "source": [
    "class Dog():       \n",
    "    def __init__(self,name):        \n",
    "        self.name=name        \n",
    "    def speak(self):\n",
    "        return self.name + \" says woof!\"   "
   ]
  },
  {
   "cell_type": "code",
   "execution_count": null,
   "metadata": {},
   "outputs": [],
   "source": [
    "class Cat():       \n",
    "    def __init__(self,name):        \n",
    "        self.name=name        \n",
    "    def speak(self):\n",
    "        return self.name + \" says meow!\"  "
   ]
  },
  {
   "cell_type": "code",
   "execution_count": null,
   "metadata": {},
   "outputs": [],
   "source": [
    "niko=Dog('Niko')\n",
    "felix=Cat('Felix')"
   ]
  },
  {
   "cell_type": "code",
   "execution_count": null,
   "metadata": {},
   "outputs": [],
   "source": [
    "print(niko.speak())"
   ]
  },
  {
   "cell_type": "code",
   "execution_count": null,
   "metadata": {},
   "outputs": [],
   "source": [
    "print(felix.speak())"
   ]
  },
  {
   "cell_type": "code",
   "execution_count": null,
   "metadata": {},
   "outputs": [],
   "source": [
    "# This is what we call polymorphism\n",
    "# Classes Dog and Cat share the same speak method\n",
    "# But unique result is returned for each object\n",
    "for pet in [niko, felix]:\n",
    "    print(type(pet))\n",
    "    print(pet.speak())    "
   ]
  },
  {
   "cell_type": "code",
   "execution_count": null,
   "metadata": {},
   "outputs": [],
   "source": [
    "# Using a function\n",
    "def pet_speak(pet):\n",
    "    print(pet.speak())"
   ]
  },
  {
   "cell_type": "code",
   "execution_count": null,
   "metadata": {},
   "outputs": [],
   "source": [
    "pet_speak(niko)"
   ]
  },
  {
   "cell_type": "code",
   "execution_count": null,
   "metadata": {},
   "outputs": [],
   "source": [
    "pet_speak(felix)"
   ]
  },
  {
   "cell_type": "code",
   "execution_count": null,
   "metadata": {},
   "outputs": [],
   "source": [
    "# An abstract class, the Base class that is not expected to be instantiated\n",
    "# Desinged to be only used as a base class\n",
    "class Animal():\n",
    "    def __init__(self,name):\n",
    "        self.name=name\n",
    "    # This method is to be inherited and overriden. Here it does nothing.\n",
    "    def speak(self):\n",
    "        raise NotImplementedError(\"Subclass must implement this abstract method\")"
   ]
  },
  {
   "cell_type": "code",
   "execution_count": null,
   "metadata": {},
   "outputs": [],
   "source": [
    "myani=Animal('fred')"
   ]
  },
  {
   "cell_type": "code",
   "execution_count": null,
   "metadata": {},
   "outputs": [],
   "source": [
    "myani.speak()"
   ]
  },
  {
   "cell_type": "code",
   "execution_count": null,
   "metadata": {},
   "outputs": [],
   "source": [
    "# In lieu, create a derived class and inherit and override the speak()\n",
    "class Dog(Animal):\n",
    "    def speak(self):\n",
    "        return self.name + \" says woof!\""
   ]
  },
  {
   "cell_type": "code",
   "execution_count": null,
   "metadata": {},
   "outputs": [],
   "source": [
    "class Cat(Animal):\n",
    "    def speak(self):\n",
    "        return self.name + \" says meow!\""
   ]
  },
  {
   "cell_type": "code",
   "execution_count": null,
   "metadata": {},
   "outputs": [],
   "source": [
    "mydog=Dog('alem')"
   ]
  },
  {
   "cell_type": "code",
   "execution_count": null,
   "metadata": {},
   "outputs": [],
   "source": [
    "mycat=Cat('wuro')"
   ]
  },
  {
   "cell_type": "code",
   "execution_count": null,
   "metadata": {},
   "outputs": [],
   "source": [
    "lst=[mydog, mycat]\n",
    "for pet in lst:\n",
    "    print(pet.speak())"
   ]
  },
  {
   "cell_type": "markdown",
   "metadata": {},
   "source": [
    "## <font color='green'>10.5 OOP-Special Methods</font>"
   ]
  },
  {
   "cell_type": "markdown",
   "metadata": {},
   "source": [
    "<ul>\n",
    "    <li>Allows to use some built-in operations in python such as the len(), and print() functions with our own user created objects</li>\n",
    "    <li>Also known as magic or dunder methods</li>\n",
    "    <li></li>\n",
    "</ul>"
   ]
  },
  {
   "cell_type": "markdown",
   "metadata": {},
   "source": [
    "### <font color='blue'>The len() function</font>"
   ]
  },
  {
   "cell_type": "code",
   "execution_count": null,
   "metadata": {},
   "outputs": [],
   "source": [
    "lst=[1,2,3]\n",
    "len(lst)"
   ]
  },
  {
   "cell_type": "code",
   "execution_count": null,
   "metadata": {},
   "outputs": [],
   "source": [
    "class Sample():\n",
    "    pass"
   ]
  },
  {
   "cell_type": "code",
   "execution_count": null,
   "metadata": {},
   "outputs": [],
   "source": [
    "mysample=Sample()\n",
    "len(mysample)"
   ]
  },
  {
   "cell_type": "markdown",
   "metadata": {},
   "source": [
    "### <font color='blue'>The print() function</font>"
   ]
  },
  {
   "cell_type": "code",
   "execution_count": null,
   "metadata": {},
   "outputs": [],
   "source": [
    "class Sample():\n",
    "    pass"
   ]
  },
  {
   "cell_type": "code",
   "execution_count": null,
   "metadata": {},
   "outputs": [],
   "source": [
    "mysample=Sample()"
   ]
  },
  {
   "cell_type": "code",
   "execution_count": null,
   "metadata": {},
   "outputs": [],
   "source": [
    "print(mysample)"
   ]
  },
  {
   "cell_type": "markdown",
   "metadata": {},
   "source": [
    "### <font color='blue'>The Special Functions</font>"
   ]
  },
  {
   "cell_type": "code",
   "execution_count": null,
   "metadata": {},
   "outputs": [],
   "source": [
    "# 1. Print or str\n",
    "class Book():\n",
    "    def __init__(self, title, author, pages):\n",
    "        self.title=title\n",
    "        self.author=author\n",
    "        self.pages=pages"
   ]
  },
  {
   "cell_type": "code",
   "execution_count": null,
   "metadata": {},
   "outputs": [],
   "source": [
    "# Let us image I want to print we want to print out the book\n",
    "b=Book('Python rocks','Jose',200)"
   ]
  },
  {
   "cell_type": "code",
   "execution_count": null,
   "metadata": {},
   "outputs": [],
   "source": [
    "print(b) # It only says, hey I have this object in memory\n",
    "# When print() is called, it asks what the string representation of b is"
   ]
  },
  {
   "cell_type": "code",
   "execution_count": null,
   "metadata": {},
   "outputs": [],
   "source": [
    "# The solution is to use a special method related to print\n",
    "class Book():\n",
    "    def __init__(self, title, author, pages):\n",
    "        self.title=title\n",
    "        self.author=author\n",
    "        self.pages=pages\n",
    "    # If there is a method that ask for string representation, the class\n",
    "    # returns whatever the following special method returns\n",
    "    def __str__(self):\n",
    "        # A special method for printing and strings\n",
    "        return f\"{self.title} by {self.author}\""
   ]
  },
  {
   "cell_type": "code",
   "execution_count": null,
   "metadata": {},
   "outputs": [],
   "source": [
    "b=Book('Python rocks','Jose',200)"
   ]
  },
  {
   "cell_type": "code",
   "execution_count": null,
   "metadata": {},
   "outputs": [],
   "source": [
    "print(b)"
   ]
  },
  {
   "cell_type": "code",
   "execution_count": null,
   "metadata": {},
   "outputs": [],
   "source": [
    "# 2. len\n",
    "class Book():\n",
    "    def __init__(self, title, author, pages):\n",
    "        self.title=title\n",
    "        self.author=author\n",
    "        self.pages=pages\n",
    "    # If there is a method that ask for string representation, \n",
    "      #the class\n",
    "    # returns whatever the following special method returns\n",
    "    def __str__(self):\n",
    "        # A special method for printing and strings\n",
    "        return f\"{self.title} by {self.author}\"\n",
    "    def __len__(self):\n",
    "        # A special method for lengths\n",
    "        return self.pages"
   ]
  },
  {
   "cell_type": "code",
   "execution_count": null,
   "metadata": {},
   "outputs": [],
   "source": [
    "b=Book('Python rocks','Jose',200)"
   ]
  },
  {
   "cell_type": "code",
   "execution_count": null,
   "metadata": {},
   "outputs": [],
   "source": [
    "len(b)"
   ]
  },
  {
   "cell_type": "code",
   "execution_count": null,
   "metadata": {},
   "outputs": [],
   "source": [
    "# 3. Delete --> we want to delete the book using del\n",
    "del b # deletes b"
   ]
  },
  {
   "cell_type": "code",
   "execution_count": null,
   "metadata": {},
   "outputs": [],
   "source": [
    "# What if we want to something extra to occur when we call del?\n",
    "class Book():\n",
    "    def __init__(self, title, author, pages):\n",
    "        self.title=title\n",
    "        self.author=author\n",
    "        self.pages=pages\n",
    "    # If there is a method that ask for string representation, \n",
    "    #the class\n",
    "    # returns whatever the following special method returns\n",
    "    def __str__(self):\n",
    "        # A special method for printing and strings\n",
    "        return f\"{self.title} by {self.author}\"\n",
    "    def __len__(self):\n",
    "        # A special method for lengths\n",
    "        return self.pages\n",
    "    def __del__(self):\n",
    "        # A special method for delete\n",
    "        print(\"A book object has been deleted\")"
   ]
  },
  {
   "cell_type": "code",
   "execution_count": null,
   "metadata": {},
   "outputs": [],
   "source": [
    "b=Book('Python rocks','Jose',200)"
   ]
  },
  {
   "cell_type": "code",
   "execution_count": null,
   "metadata": {},
   "outputs": [],
   "source": [
    "del b # deletes b and generates extra info"
   ]
  },
  {
   "cell_type": "markdown",
   "metadata": {},
   "source": [
    "## <font color='green'>10.6 OOP-Exercises</font>"
   ]
  },
  {
   "cell_type": "markdown",
   "metadata": {},
   "source": [
    "### <font color='blue'>Problem-1</font>\n",
    "\n",
    "Fill in the Line class methods to accept coordinates as a pair of tuples and return the slop and distance of the line."
   ]
  },
  {
   "cell_type": "code",
   "execution_count": null,
   "metadata": {},
   "outputs": [],
   "source": [
    "class Line():\n",
    "    def __init__(self,coor1,coor2):\n",
    "        pass\n",
    "    def distance(self):\n",
    "        pass\n",
    "    def slope(self):\n",
    "        pass"
   ]
  },
  {
   "cell_type": "code",
   "execution_count": null,
   "metadata": {},
   "outputs": [],
   "source": [
    "from IPython.display import Image\n",
    "from IPython.core.display import HTML\n",
    "Image('./0_pictures/oop3.png')\n",
    "#Instance and class Attributes: period tab"
   ]
  },
  {
   "cell_type": "code",
   "execution_count": null,
   "metadata": {},
   "outputs": [],
   "source": [
    "# Solution\n",
    "class Line():\n",
    "    def __init__(self,coor1,coor2):\n",
    "        self.coor1=coor1\n",
    "        self.coor2=coor2\n",
    "    def distance(self):        \n",
    "        #Perform tuple unpacking/Indexing is also possible\n",
    "        x1,y1=self.coor1\n",
    "        x2,y2=self.coor2        \n",
    "        return ((x2-x1)**2+(y2-y1)**2)**0.5\n",
    "    def slope(self):\n",
    "        #Perform tuple unpacking/Indexing is also possible\n",
    "        x1,y1=self.coor1\n",
    "        x2,y2=self.coor2  \n",
    "        return (y2-y1)/(x2-x1)"
   ]
  },
  {
   "cell_type": "code",
   "execution_count": null,
   "metadata": {},
   "outputs": [],
   "source": [
    "coor1=(3,2)\n",
    "coor2=(8,10)\n",
    "lin=Line(coor1,coor2)"
   ]
  },
  {
   "cell_type": "code",
   "execution_count": null,
   "metadata": {},
   "outputs": [],
   "source": [
    "lin.coor1"
   ]
  },
  {
   "cell_type": "code",
   "execution_count": null,
   "metadata": {},
   "outputs": [],
   "source": [
    "lin.coor2"
   ]
  },
  {
   "cell_type": "code",
   "execution_count": null,
   "metadata": {},
   "outputs": [],
   "source": [
    "lin.distance()"
   ]
  },
  {
   "cell_type": "code",
   "execution_count": null,
   "metadata": {},
   "outputs": [],
   "source": [
    "lin.slope()"
   ]
  },
  {
   "cell_type": "markdown",
   "metadata": {},
   "source": [
    "### <font color='blue'>Problem-2</font>\n",
    "\n",
    "Fill in the class"
   ]
  },
  {
   "cell_type": "code",
   "execution_count": null,
   "metadata": {},
   "outputs": [],
   "source": [
    "class Cylinder():\n",
    "    def __init__(self,h=1,r=1):\n",
    "        pass\n",
    "    def volume(self):\n",
    "        pass\n",
    "    def surface_area(self):\n",
    "        pass"
   ]
  },
  {
   "cell_type": "code",
   "execution_count": null,
   "metadata": {},
   "outputs": [],
   "source": [
    "#Solution"
   ]
  },
  {
   "cell_type": "code",
   "execution_count": null,
   "metadata": {},
   "outputs": [],
   "source": [
    "class Cylinder():\n",
    "    pi=3.14\n",
    "    def __init__(self,h=1,r=1):\n",
    "        self.h=h\n",
    "        self.r=r    \n",
    "    def volume(self):\n",
    "        return self.r*self.r*Cylinder.pi*self.h\n",
    "    def surface_area(self):\n",
    "        return 2*self.r*self.r*Cylinder.pi+2*self.r*Cylinder.pi*self.h"
   ]
  },
  {
   "cell_type": "code",
   "execution_count": null,
   "metadata": {},
   "outputs": [],
   "source": [
    "c=Cylinder(2,3) #Override default values of h and r"
   ]
  },
  {
   "cell_type": "code",
   "execution_count": null,
   "metadata": {},
   "outputs": [],
   "source": [
    "c.volume()"
   ]
  },
  {
   "cell_type": "code",
   "execution_count": null,
   "metadata": {},
   "outputs": [],
   "source": [
    "c.surface_area()"
   ]
  },
  {
   "cell_type": "markdown",
   "metadata": {},
   "source": [
    "### <font color='blue'>OOP Challenge</font>\n",
    "\n",
    "For this challenge, create a bank account class that has two attributes:\n",
    "\n",
    "<ul>\n",
    "    <li> Owner</li>\n",
    "    <li> Balance</li>\n",
    "</ul>\n",
    "\n",
    "And Two Methods\n",
    "\n",
    "<ul>\n",
    "    <li> deposit</li>\n",
    "    <li> withdraw</li>\n",
    "</ul>\n",
    "\n",
    "As an added requirement, withdrawls mat not exceed the available balance.\n",
    "\n",
    "Instantiate your class, make several deposits and withdrawls, and test to make sure the amount can't be overdrawn."
   ]
  },
  {
   "cell_type": "code",
   "execution_count": null,
   "metadata": {},
   "outputs": [],
   "source": [
    "class BankAccount():\n",
    "    def __init__(self, owner, balance):\n",
    "        self.owner=owner\n",
    "        self.balance=balance        \n",
    "    def deposit(self,amount):\n",
    "        self.balance=self.balance+amount\n",
    "        print(f\"Successfully deposited, new balance is {self.balance}\")\n",
    "    def withdraw(self,amount):\n",
    "        if self.balance>=amount:\n",
    "            print(\"Withdrawal reuest accepted\")\n",
    "            self.balance=self.balance-amount\n",
    "        else:\n",
    "            print(\"Insufficient funds\")\n",
    "    def __str__(self):\n",
    "        return f\"Account owner: {self.owner} \\nAccount balance:\\\n",
    "        ${self.balance}\""
   ]
  },
  {
   "cell_type": "code",
   "execution_count": null,
   "metadata": {},
   "outputs": [],
   "source": [
    "acc=BankAccount('Alem',100)"
   ]
  },
  {
   "cell_type": "code",
   "execution_count": null,
   "metadata": {},
   "outputs": [],
   "source": [
    "print(acc)"
   ]
  },
  {
   "cell_type": "code",
   "execution_count": null,
   "metadata": {},
   "outputs": [],
   "source": [
    "acc.owner"
   ]
  },
  {
   "cell_type": "code",
   "execution_count": null,
   "metadata": {},
   "outputs": [],
   "source": [
    "acc.balance"
   ]
  },
  {
   "cell_type": "code",
   "execution_count": null,
   "metadata": {},
   "outputs": [],
   "source": [
    "# deposit 200\n",
    "acc.deposit(200)"
   ]
  },
  {
   "cell_type": "code",
   "execution_count": null,
   "metadata": {},
   "outputs": [],
   "source": [
    "acc.owner"
   ]
  },
  {
   "cell_type": "code",
   "execution_count": null,
   "metadata": {},
   "outputs": [],
   "source": [
    "# Check balance now\n",
    "acc.balance"
   ]
  },
  {
   "cell_type": "code",
   "execution_count": null,
   "metadata": {},
   "outputs": [],
   "source": [
    "# Withdraw $250\n",
    "acc.withdraw(250)"
   ]
  },
  {
   "cell_type": "code",
   "execution_count": null,
   "metadata": {},
   "outputs": [],
   "source": [
    "acc.balance"
   ]
  },
  {
   "cell_type": "code",
   "execution_count": null,
   "metadata": {},
   "outputs": [],
   "source": [
    "# Withdraw $51\n",
    "acc.withdraw(51)"
   ]
  },
  {
   "cell_type": "code",
   "execution_count": null,
   "metadata": {},
   "outputs": [],
   "source": [
    "acc.balance"
   ]
  },
  {
   "cell_type": "markdown",
   "metadata": {},
   "source": [
    "<div class=\"alert alert-block alert-warning\">"
   ]
  },
  {
   "cell_type": "markdown",
   "metadata": {},
   "source": [
    "# <font color='green'>11. Python Decorators</font>"
   ]
  },
  {
   "cell_type": "markdown",
   "metadata": {},
   "source": [
    "Act as wrapper functions for original functions.\n",
    "\n",
    "Common usecases of decorators are: logging and timing"
   ]
  },
  {
   "cell_type": "code",
   "execution_count": 82,
   "metadata": {},
   "outputs": [
    {
     "name": "stdout",
     "output_type": "stream",
     "text": [
      "Printing from the parent() function\n",
      "Printing from the second_child() function\n",
      "Printing from the first_child() function\n"
     ]
    }
   ],
   "source": [
    "def parent():\n",
    "    print(\"Printing from the parent() function\")\n",
    "\n",
    "    def first_child():\n",
    "        print(\"Printing from the first_child() function\")\n",
    "\n",
    "    def second_child():\n",
    "        print(\"Printing from the second_child() function\")\n",
    "\n",
    "    second_child()\n",
    "    first_child()\n",
    "parent()"
   ]
  },
  {
   "cell_type": "markdown",
   "metadata": {},
   "source": [
    "Decorators are very powerful and useful tool in Python since it allows programmers to modify the behavior of function or class. Decorators allow us to wrap another function in order to extend the behavior of wrapped function, without permanently modifying it.\n",
    "\n",
    "In Decorators, functions are taken as the argument into another function and then called inside the wrapper function."
   ]
  },
  {
   "cell_type": "code",
   "execution_count": 80,
   "metadata": {},
   "outputs": [
    {
     "ename": "SyntaxError",
     "evalue": "unexpected EOF while parsing (<ipython-input-80-4af6045ab7eb>, line 3)",
     "output_type": "error",
     "traceback": [
      "\u001b[0;36m  File \u001b[0;32m\"<ipython-input-80-4af6045ab7eb>\"\u001b[0;36m, line \u001b[0;32m3\u001b[0m\n\u001b[0;31m    @gfg_decorator\u001b[0m\n\u001b[0m                  ^\u001b[0m\n\u001b[0;31mSyntaxError\u001b[0m\u001b[0;31m:\u001b[0m unexpected EOF while parsing\n"
     ]
    }
   ],
   "source": [
    "@gfg_decorator\n",
    "def hello_decorator(): \n",
    "\tprint(\"Gfg\") \n"
   ]
  },
  {
   "cell_type": "markdown",
   "metadata": {},
   "source": [
    "<div class=\"alert alert-block alert-warning\">"
   ]
  },
  {
   "cell_type": "markdown",
   "metadata": {},
   "source": [
    "# <font color='green'>12. Parallel Programming</font>"
   ]
  },
  {
   "cell_type": "code",
   "execution_count": null,
   "metadata": {},
   "outputs": [],
   "source": [
    "import concurrent.futures\n",
    "import multiprocessing as mp"
   ]
  },
  {
   "cell_type": "markdown",
   "metadata": {},
   "source": [
    "<div class=\"alert alert-block alert-warning\">"
   ]
  },
  {
   "cell_type": "markdown",
   "metadata": {},
   "source": [
    "# <font color='green'>13. Advanced Python Modules</font>"
   ]
  },
  {
   "cell_type": "code",
   "execution_count": null,
   "metadata": {},
   "outputs": [],
   "source": [
    "Python Iterator\n",
    "\n",
    "Python Generator\n",
    "\n",
    "Python Closure\n",
    "\n",
    "Python Decorators\n",
    "\n",
    "Python Property\n",
    "\n",
    "Python RegEx"
   ]
  },
  {
   "cell_type": "markdown",
   "metadata": {},
   "source": [
    "<div class=\"alert alert-block alert-warning\">"
   ]
  }
 ],
 "metadata": {
  "kernelspec": {
   "display_name": "Python 3",
   "language": "python",
   "name": "python3"
  },
  "language_info": {
   "codemirror_mode": {
    "name": "ipython",
    "version": 3
   },
   "file_extension": ".py",
   "mimetype": "text/x-python",
   "name": "python",
   "nbconvert_exporter": "python",
   "pygments_lexer": "ipython3",
   "version": "3.7.4"
  }
 },
 "nbformat": 4,
 "nbformat_minor": 2
}
